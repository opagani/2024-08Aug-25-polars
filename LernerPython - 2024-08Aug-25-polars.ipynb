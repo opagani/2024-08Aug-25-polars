{
 "cells": [
  {
   "cell_type": "markdown",
   "metadata": {},
   "source": [
    "# Agenda\n",
    "\n",
    "1. What is Polars? What is its relationship with Pandas and the rest of the data ecosystem in Python?\n",
    "2. Series\n",
    "3. Data frames\n",
    "4. Reading in CSV files\n",
    "5. dtypes\n",
    "6. Expressions\n",
    "7. Selecting rows with `df.select`\n",
    "8. Selecting columns\n",
    "9. `df.with_columns`\n",
    "10. `df.filter`\n",
    "11. Sorting\n",
    "12. Grouping\n",
    "13. Optimizing queries and \"lazy frames\""
   ]
  },
  {
   "cell_type": "code",
   "execution_count": null,
   "metadata": {},
   "outputs": [],
   "source": []
  }
 ],
 "metadata": {
  "kernelspec": {
   "display_name": "Python 3 (ipykernel)",
   "language": "python",
   "name": "python3"
  },
  "language_info": {
   "codemirror_mode": {
    "name": "ipython",
    "version": 3
   },
   "file_extension": ".py",
   "mimetype": "text/x-python",
   "name": "python",
   "nbconvert_exporter": "python",
   "pygments_lexer": "ipython3",
   "version": "3.12.5"
  }
 },
 "nbformat": 4,
 "nbformat_minor": 4
}
