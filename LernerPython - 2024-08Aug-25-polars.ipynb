{
 "cells": [
  {
   "cell_type": "markdown",
   "metadata": {},
   "source": [
    "# Agenda\n",
    "\n",
    "1. What is Polars? What is its relationship with Pandas and the rest of the data ecosystem in Python?\n",
    "2. Series\n",
    "3. Data frames\n",
    "4. Reading in CSV files\n",
    "5. dtypes\n",
    "6. Expressions\n",
    "7. Selecting rows with `df.select`\n",
    "8. Selecting columns\n",
    "9. `df.with_columns`\n",
    "10. `df.filter`\n",
    "11. Sorting\n",
    "12. Grouping\n",
    "13. Optimizing queries and \"lazy frames\""
   ]
  },
  {
   "cell_type": "markdown",
   "metadata": {},
   "source": [
    "# What is Polars?\n",
    "\n",
    "Data frames are everywhere, but they aren't native to very many languages. We're seeing a growing number of libraries that provide data frames outside of the core of languages. The bad news is that you have to install / choose which data-frame package you want to use in Python. The good news is that we have a few great options to choose from.\n",
    "\n",
    "Pandas is the 900-pound gorilla in this space.  Polars is a relatively new entry, and it's written for (a) speed of execution, (b) builtin multithreading, (c) lazy loading of data, and (d) a very minimalist, elegant API.\n",
    "\n",
    "The URL is pola.rs, because it's written in the Rust language.  The Python API that Polars exposes is very similar to the Pandas API, making it fairly easy for someone to move from Pandas to Polars.\n",
    "\n",
    "I personally see Polars as great for when you have tons of data and/or execution speed is critical. If you're a snob who wants a very elegant API, then it's great, too. \n",
    "\n"
   ]
  },
  {
   "cell_type": "markdown",
   "metadata": {},
   "source": [
    "# Installing Polars\n",
    "\n",
    "You can install it from PyPI using `pip`:\n",
    "\n",
    "    pip install -U polars\n",
    "\n",
    "You'll probably want to install the complete Polars package and dependencies and extras, using\n",
    "\n",
    "    pip install -U 'polars[all]'\n",
    "\n",
    "If you're using a Mac with Apple Silicon, Polars might die on you because your copy of Python was compiled for Intel, and is in compatibility mode.  If you're like me, and can't/won't/don't know how to recompile Python for Apple Silicon, you can just install a different Polars package from PyPI that takes this into account:\n",
    "\n",
    "    pip install -U 'polars-lts-cpu[all]'\n",
    "   "
   ]
  },
  {
   "cell_type": "code",
   "execution_count": 1,
   "metadata": {},
   "outputs": [],
   "source": [
    "import polars as pl    # just as we use Pandas as pd, we use Polars as pl"
   ]
  },
  {
   "cell_type": "markdown",
   "metadata": {},
   "source": [
    "# Series\n",
    "\n",
    "A series is a 1D data structure, just like in Pandas. (There, behind the scenes, we have a NumPy array. That is *not* true in Polars!) \n",
    "\n",
    "We can create a Polars series just by invoking `pl.Series` on a list of values. Polars will (like Pandas) figure out what kinds of values we have, and set the dtype."
   ]
  },
  {
   "cell_type": "code",
   "execution_count": 8,
   "metadata": {},
   "outputs": [],
   "source": [
    "s = pl.Series(\n",
    "    values=[10, 20, 30, 40, 50],\n",
    "    name='numbers'\n",
    ")"
   ]
  },
  {
   "cell_type": "code",
   "execution_count": 9,
   "metadata": {},
   "outputs": [
    {
     "data": {
      "text/html": [
       "<div><style>\n",
       ".dataframe > thead > tr,\n",
       ".dataframe > tbody > tr {\n",
       "  text-align: right;\n",
       "  white-space: pre-wrap;\n",
       "}\n",
       "</style>\n",
       "<small>shape: (5,)</small><table border=\"1\" class=\"dataframe\"><thead><tr><th>numbers</th></tr><tr><td>i64</td></tr></thead><tbody><tr><td>10</td></tr><tr><td>20</td></tr><tr><td>30</td></tr><tr><td>40</td></tr><tr><td>50</td></tr></tbody></table></div>"
      ],
      "text/plain": [
       "shape: (5,)\n",
       "Series: 'numbers' [i64]\n",
       "[\n",
       "\t10\n",
       "\t20\n",
       "\t30\n",
       "\t40\n",
       "\t50\n",
       "]"
      ]
     },
     "execution_count": 9,
     "metadata": {},
     "output_type": "execute_result"
    }
   ],
   "source": [
    "s"
   ]
  },
  {
   "cell_type": "markdown",
   "metadata": {},
   "source": [
    "# Some differences\n",
    "\n",
    "1. No index! There is no index in Polars, period.\n",
    "2. No name, although we can give it a name by passing the `name` argument, which comes *before* the data, unless you want both `name` and `values` to be keyword arguments, in which case they can be in any order.\n",
    "3. The shape is always displayed at the top of the series (or data frame)\n",
    "4. The dtype is displayed at the top of the series. And here, we see that the dtype is `i64`, aka `int64`"
   ]
  },
  {
   "cell_type": "code",
   "execution_count": 10,
   "metadata": {},
   "outputs": [
    {
     "data": {
      "text/html": [
       "<div><style>\n",
       ".dataframe > thead > tr,\n",
       ".dataframe > tbody > tr {\n",
       "  text-align: right;\n",
       "  white-space: pre-wrap;\n",
       "}\n",
       "</style>\n",
       "<small>shape: (5,)</small><table border=\"1\" class=\"dataframe\"><thead><tr><th>numbers</th></tr><tr><td>f64</td></tr></thead><tbody><tr><td>10.5</td></tr><tr><td>20.5</td></tr><tr><td>30.5</td></tr><tr><td>40.5</td></tr><tr><td>50.5</td></tr></tbody></table></div>"
      ],
      "text/plain": [
       "shape: (5,)\n",
       "Series: 'numbers' [f64]\n",
       "[\n",
       "\t10.5\n",
       "\t20.5\n",
       "\t30.5\n",
       "\t40.5\n",
       "\t50.5\n",
       "]"
      ]
     },
     "execution_count": 10,
     "metadata": {},
     "output_type": "execute_result"
    }
   ],
   "source": [
    "s = pl.Series(\n",
    "    values=[10.5, 20.5, 30.5, 40.5, 50.5],\n",
    "    name='numbers'\n",
    ")\n",
    "\n",
    "s"
   ]
  },
  {
   "cell_type": "code",
   "execution_count": 11,
   "metadata": {},
   "outputs": [
    {
     "data": {
      "text/html": [
       "<div><style>\n",
       ".dataframe > thead > tr,\n",
       ".dataframe > tbody > tr {\n",
       "  text-align: right;\n",
       "  white-space: pre-wrap;\n",
       "}\n",
       "</style>\n",
       "<small>shape: (5,)</small><table border=\"1\" class=\"dataframe\"><thead><tr><th>numbers</th></tr><tr><td>f32</td></tr></thead><tbody><tr><td>10.5</td></tr><tr><td>20.5</td></tr><tr><td>30.5</td></tr><tr><td>40.5</td></tr><tr><td>50.5</td></tr></tbody></table></div>"
      ],
      "text/plain": [
       "shape: (5,)\n",
       "Series: 'numbers' [f32]\n",
       "[\n",
       "\t10.5\n",
       "\t20.5\n",
       "\t30.5\n",
       "\t40.5\n",
       "\t50.5\n",
       "]"
      ]
     },
     "execution_count": 11,
     "metadata": {},
     "output_type": "execute_result"
    }
   ],
   "source": [
    "# let's try another dtype\n",
    "\n",
    "s = pl.Series(\n",
    "    values=[10.5, 20.5, 30.5, 40.5, 50.5],\n",
    "    name='numbers',\n",
    "    dtype=pl.Float32   # use Polars dtypes, not NumPy dtypes and not strings\n",
    ")\n",
    "\n",
    "s"
   ]
  },
  {
   "cell_type": "code",
   "execution_count": 18,
   "metadata": {},
   "outputs": [
    {
     "ename": "TypeError",
     "evalue": "unexpected value while building Series of type Int64; found value of type Float64: 20.5\n\nHint: Try setting `strict=False` to allow passing data with mixed types.",
     "output_type": "error",
     "traceback": [
      "\u001b[0;31m---------------------------------------------------------------------------\u001b[0m",
      "\u001b[0;31mTypeError\u001b[0m                                 Traceback (most recent call last)",
      "File \u001b[0;32m~/.pyenv/versions/3.12.5/lib/python3.12/site-packages/polars/_utils/construction/series.py:309\u001b[0m, in \u001b[0;36m_construct_series_with_fallbacks\u001b[0;34m(constructor, name, values, dtype, strict)\u001b[0m\n\u001b[1;32m    308\u001b[0m \u001b[38;5;28;01mtry\u001b[39;00m:\n\u001b[0;32m--> 309\u001b[0m     \u001b[38;5;28;01mreturn\u001b[39;00m \u001b[43mconstructor\u001b[49m\u001b[43m(\u001b[49m\u001b[43mname\u001b[49m\u001b[43m,\u001b[49m\u001b[43m \u001b[49m\u001b[43mvalues\u001b[49m\u001b[43m,\u001b[49m\u001b[43m \u001b[49m\u001b[43mstrict\u001b[49m\u001b[43m)\u001b[49m\n\u001b[1;32m    310\u001b[0m \u001b[38;5;28;01mexcept\u001b[39;00m \u001b[38;5;167;01mTypeError\u001b[39;00m:\n",
      "\u001b[0;31mTypeError\u001b[0m: 'float' object cannot be interpreted as an integer",
      "\nDuring handling of the above exception, another exception occurred:\n",
      "\u001b[0;31mTypeError\u001b[0m                                 Traceback (most recent call last)",
      "Cell \u001b[0;32mIn[18], line 3\u001b[0m\n\u001b[1;32m      1\u001b[0m \u001b[38;5;66;03m# What if I have a mixture of types?\u001b[39;00m\n\u001b[0;32m----> 3\u001b[0m s \u001b[38;5;241m=\u001b[39m \u001b[43mpl\u001b[49m\u001b[38;5;241;43m.\u001b[39;49m\u001b[43mSeries\u001b[49m\u001b[43m(\u001b[49m\n\u001b[1;32m      4\u001b[0m \u001b[43m    \u001b[49m\u001b[43mvalues\u001b[49m\u001b[38;5;241;43m=\u001b[39;49m\u001b[43m[\u001b[49m\u001b[38;5;241;43m10\u001b[39;49m\u001b[43m,\u001b[49m\u001b[43m \u001b[49m\u001b[38;5;241;43m20.5\u001b[39;49m\u001b[43m,\u001b[49m\u001b[43m \u001b[49m\u001b[38;5;241;43m30\u001b[39;49m\u001b[43m,\u001b[49m\u001b[43m \u001b[49m\u001b[38;5;241;43m40.5\u001b[39;49m\u001b[43m,\u001b[49m\u001b[43m \u001b[49m\u001b[38;5;241;43m50\u001b[39;49m\u001b[43m]\u001b[49m\u001b[43m,\u001b[49m\n\u001b[1;32m      5\u001b[0m \u001b[43m    \u001b[49m\u001b[43mdtype\u001b[49m\u001b[38;5;241;43m=\u001b[39;49m\u001b[43mpl\u001b[49m\u001b[38;5;241;43m.\u001b[39;49m\u001b[43mInt64\u001b[49m\n\u001b[1;32m      6\u001b[0m \u001b[43m)\u001b[49m\n\u001b[1;32m      8\u001b[0m s\n",
      "File \u001b[0;32m~/.pyenv/versions/3.12.5/lib/python3.12/site-packages/polars/series/series.py:292\u001b[0m, in \u001b[0;36mSeries.__init__\u001b[0;34m(self, name, values, dtype, strict, nan_to_null)\u001b[0m\n\u001b[1;32m    289\u001b[0m         \u001b[38;5;28;01mraise\u001b[39;00m \u001b[38;5;167;01mTypeError\u001b[39;00m(msg)\n\u001b[1;32m    291\u001b[0m \u001b[38;5;28;01mif\u001b[39;00m \u001b[38;5;28misinstance\u001b[39m(values, Sequence):\n\u001b[0;32m--> 292\u001b[0m     \u001b[38;5;28mself\u001b[39m\u001b[38;5;241m.\u001b[39m_s \u001b[38;5;241m=\u001b[39m \u001b[43msequence_to_pyseries\u001b[49m\u001b[43m(\u001b[49m\n\u001b[1;32m    293\u001b[0m \u001b[43m        \u001b[49m\u001b[43mname\u001b[49m\u001b[43m,\u001b[49m\n\u001b[1;32m    294\u001b[0m \u001b[43m        \u001b[49m\u001b[43mvalues\u001b[49m\u001b[43m,\u001b[49m\n\u001b[1;32m    295\u001b[0m \u001b[43m        \u001b[49m\u001b[43mdtype\u001b[49m\u001b[38;5;241;43m=\u001b[39;49m\u001b[43mdtype\u001b[49m\u001b[43m,\u001b[49m\n\u001b[1;32m    296\u001b[0m \u001b[43m        \u001b[49m\u001b[43mstrict\u001b[49m\u001b[38;5;241;43m=\u001b[39;49m\u001b[43mstrict\u001b[49m\u001b[43m,\u001b[49m\n\u001b[1;32m    297\u001b[0m \u001b[43m        \u001b[49m\u001b[43mnan_to_null\u001b[49m\u001b[38;5;241;43m=\u001b[39;49m\u001b[43mnan_to_null\u001b[49m\u001b[43m,\u001b[49m\n\u001b[1;32m    298\u001b[0m \u001b[43m    \u001b[49m\u001b[43m)\u001b[49m\n\u001b[1;32m    300\u001b[0m \u001b[38;5;28;01melif\u001b[39;00m values \u001b[38;5;129;01mis\u001b[39;00m \u001b[38;5;28;01mNone\u001b[39;00m:\n\u001b[1;32m    301\u001b[0m     \u001b[38;5;28mself\u001b[39m\u001b[38;5;241m.\u001b[39m_s \u001b[38;5;241m=\u001b[39m sequence_to_pyseries(name, [], dtype\u001b[38;5;241m=\u001b[39mdtype)\n",
      "File \u001b[0;32m~/.pyenv/versions/3.12.5/lib/python3.12/site-packages/polars/_utils/construction/series.py:134\u001b[0m, in \u001b[0;36msequence_to_pyseries\u001b[0;34m(name, values, dtype, strict, nan_to_null)\u001b[0m\n\u001b[1;32m    126\u001b[0m \u001b[38;5;28;01mif\u001b[39;00m (\n\u001b[1;32m    127\u001b[0m     dtype \u001b[38;5;129;01mis\u001b[39;00m \u001b[38;5;129;01mnot\u001b[39;00m \u001b[38;5;28;01mNone\u001b[39;00m\n\u001b[1;32m    128\u001b[0m     \u001b[38;5;129;01mand\u001b[39;00m is_polars_dtype(dtype)\n\u001b[0;32m   (...)\u001b[0m\n\u001b[1;32m    131\u001b[0m     \u001b[38;5;129;01mand\u001b[39;00m (python_dtype \u001b[38;5;129;01mis\u001b[39;00m \u001b[38;5;28;01mNone\u001b[39;00m)\n\u001b[1;32m    132\u001b[0m ):\n\u001b[1;32m    133\u001b[0m     constructor \u001b[38;5;241m=\u001b[39m polars_type_to_constructor(dtype)\n\u001b[0;32m--> 134\u001b[0m     pyseries \u001b[38;5;241m=\u001b[39m \u001b[43m_construct_series_with_fallbacks\u001b[49m\u001b[43m(\u001b[49m\n\u001b[1;32m    135\u001b[0m \u001b[43m        \u001b[49m\u001b[43mconstructor\u001b[49m\u001b[43m,\u001b[49m\u001b[43m \u001b[49m\u001b[43mname\u001b[49m\u001b[43m,\u001b[49m\u001b[43m \u001b[49m\u001b[43mvalues\u001b[49m\u001b[43m,\u001b[49m\u001b[43m \u001b[49m\u001b[43mdtype\u001b[49m\u001b[43m,\u001b[49m\u001b[43m \u001b[49m\u001b[43mstrict\u001b[49m\u001b[38;5;241;43m=\u001b[39;49m\u001b[43mstrict\u001b[49m\n\u001b[1;32m    136\u001b[0m \u001b[43m    \u001b[49m\u001b[43m)\u001b[49m\n\u001b[1;32m    137\u001b[0m     \u001b[38;5;28;01mif\u001b[39;00m dtype \u001b[38;5;129;01min\u001b[39;00m (\n\u001b[1;32m    138\u001b[0m         Date,\n\u001b[1;32m    139\u001b[0m         Datetime,\n\u001b[0;32m   (...)\u001b[0m\n\u001b[1;32m    145\u001b[0m         Decimal,\n\u001b[1;32m    146\u001b[0m     ):\n\u001b[1;32m    147\u001b[0m         \u001b[38;5;28;01mif\u001b[39;00m pyseries\u001b[38;5;241m.\u001b[39mdtype() \u001b[38;5;241m!=\u001b[39m dtype:\n",
      "File \u001b[0;32m~/.pyenv/versions/3.12.5/lib/python3.12/site-packages/polars/_utils/construction/series.py:314\u001b[0m, in \u001b[0;36m_construct_series_with_fallbacks\u001b[0;34m(constructor, name, values, dtype, strict)\u001b[0m\n\u001b[1;32m    312\u001b[0m     \u001b[38;5;28;01mreturn\u001b[39;00m PySeries\u001b[38;5;241m.\u001b[39mnew_from_any_values(name, values, strict\u001b[38;5;241m=\u001b[39mstrict)\n\u001b[1;32m    313\u001b[0m \u001b[38;5;28;01melse\u001b[39;00m:\n\u001b[0;32m--> 314\u001b[0m     \u001b[38;5;28;01mreturn\u001b[39;00m \u001b[43mPySeries\u001b[49m\u001b[38;5;241;43m.\u001b[39;49m\u001b[43mnew_from_any_values_and_dtype\u001b[49m\u001b[43m(\u001b[49m\n\u001b[1;32m    315\u001b[0m \u001b[43m        \u001b[49m\u001b[43mname\u001b[49m\u001b[43m,\u001b[49m\u001b[43m \u001b[49m\u001b[43mvalues\u001b[49m\u001b[43m,\u001b[49m\u001b[43m \u001b[49m\u001b[43mdtype\u001b[49m\u001b[43m,\u001b[49m\u001b[43m \u001b[49m\u001b[43mstrict\u001b[49m\u001b[38;5;241;43m=\u001b[39;49m\u001b[43mstrict\u001b[49m\n\u001b[1;32m    316\u001b[0m \u001b[43m    \u001b[49m\u001b[43m)\u001b[49m\n",
      "\u001b[0;31mTypeError\u001b[0m: unexpected value while building Series of type Int64; found value of type Float64: 20.5\n\nHint: Try setting `strict=False` to allow passing data with mixed types."
     ]
    }
   ],
   "source": [
    "# What if I have a mixture of types?\n",
    "\n",
    "s = pl.Series(\n",
    "    values=[10, 20.5, 30, 40.5, 50],\n",
    "    dtype=pl.Int64\n",
    ")\n",
    "\n",
    "s"
   ]
  },
  {
   "cell_type": "code",
   "execution_count": 19,
   "metadata": {},
   "outputs": [
    {
     "data": {
      "text/html": [
       "<div><style>\n",
       ".dataframe > thead > tr,\n",
       ".dataframe > tbody > tr {\n",
       "  text-align: right;\n",
       "  white-space: pre-wrap;\n",
       "}\n",
       "</style>\n",
       "<small>shape: (5,)</small><table border=\"1\" class=\"dataframe\"><thead><tr><th></th></tr><tr><td>i64</td></tr></thead><tbody><tr><td>10</td></tr><tr><td>20</td></tr><tr><td>30</td></tr><tr><td>40</td></tr><tr><td>50</td></tr></tbody></table></div>"
      ],
      "text/plain": [
       "shape: (5,)\n",
       "Series: '' [i64]\n",
       "[\n",
       "\t10\n",
       "\t20\n",
       "\t30\n",
       "\t40\n",
       "\t50\n",
       "]"
      ]
     },
     "execution_count": 19,
     "metadata": {},
     "output_type": "execute_result"
    }
   ],
   "source": [
    "s = pl.Series(\n",
    "    values=[10, 20.5, 30, 40.5, 50],\n",
    "    dtype=pl.Int64,\n",
    "    strict=False\n",
    ")\n",
    "\n",
    "s"
   ]
  },
  {
   "cell_type": "code",
   "execution_count": 21,
   "metadata": {},
   "outputs": [
    {
     "data": {
      "text/html": [
       "<div><style>\n",
       ".dataframe > thead > tr,\n",
       ".dataframe > tbody > tr {\n",
       "  text-align: right;\n",
       "  white-space: pre-wrap;\n",
       "}\n",
       "</style>\n",
       "<small>shape: (6,)</small><table border=\"1\" class=\"dataframe\"><thead><tr><th></th></tr><tr><td>str</td></tr></thead><tbody><tr><td>&quot;hello&quot;</td></tr><tr><td>&quot;out&quot;</td></tr><tr><td>&quot;there&quot;</td></tr><tr><td>&quot;from&quot;</td></tr><tr><td>&quot;polars&quot;</td></tr><tr><td>&quot;world!&quot;</td></tr></tbody></table></div>"
      ],
      "text/plain": [
       "shape: (6,)\n",
       "Series: '' [str]\n",
       "[\n",
       "\t\"hello\"\n",
       "\t\"out\"\n",
       "\t\"there\"\n",
       "\t\"from\"\n",
       "\t\"polars\"\n",
       "\t\"world!\"\n",
       "]"
      ]
     },
     "execution_count": 21,
     "metadata": {},
     "output_type": "execute_result"
    }
   ],
   "source": [
    "s = pl.Series(\n",
    "    'hello out there from polars world!'.split()\n",
    ")\n",
    "\n",
    "s"
   ]
  },
  {
   "cell_type": "code",
   "execution_count": 22,
   "metadata": {},
   "outputs": [
    {
     "data": {
      "text/plain": [
       "String"
      ]
     },
     "execution_count": 22,
     "metadata": {},
     "output_type": "execute_result"
    }
   ],
   "source": [
    "s.dtype"
   ]
  },
  {
   "cell_type": "code",
   "execution_count": 26,
   "metadata": {},
   "outputs": [
    {
     "data": {
      "text/html": [
       "<div><style>\n",
       ".dataframe > thead > tr,\n",
       ".dataframe > tbody > tr {\n",
       "  text-align: right;\n",
       "  white-space: pre-wrap;\n",
       "}\n",
       "</style>\n",
       "<small>shape: (5,)</small><table border=\"1\" class=\"dataframe\"><thead><tr><th></th></tr><tr><td>i64</td></tr></thead><tbody><tr><td>10</td></tr><tr><td>20</td></tr><tr><td>30</td></tr><tr><td>40</td></tr><tr><td>50</td></tr></tbody></table></div>"
      ],
      "text/plain": [
       "shape: (5,)\n",
       "Series: '' [i64]\n",
       "[\n",
       "\t10\n",
       "\t20\n",
       "\t30\n",
       "\t40\n",
       "\t50\n",
       "]"
      ]
     },
     "execution_count": 26,
     "metadata": {},
     "output_type": "execute_result"
    }
   ],
   "source": [
    "s1 = pl.Series(\n",
    "    values=[10, 20, 30, 40, 50]\n",
    ")\n",
    "\n",
    "s\n",
    "    "
   ]
  },
  {
   "cell_type": "code",
   "execution_count": 27,
   "metadata": {},
   "outputs": [
    {
     "data": {
      "text/html": [
       "<div><style>\n",
       ".dataframe > thead > tr,\n",
       ".dataframe > tbody > tr {\n",
       "  text-align: right;\n",
       "  white-space: pre-wrap;\n",
       "}\n",
       "</style>\n",
       "<small>shape: (5,)</small><table border=\"1\" class=\"dataframe\"><thead><tr><th></th></tr><tr><td>i64</td></tr></thead><tbody><tr><td>100</td></tr><tr><td>200</td></tr><tr><td>300</td></tr><tr><td>400</td></tr><tr><td>500</td></tr></tbody></table></div>"
      ],
      "text/plain": [
       "shape: (5,)\n",
       "Series: '' [i64]\n",
       "[\n",
       "\t100\n",
       "\t200\n",
       "\t300\n",
       "\t400\n",
       "\t500\n",
       "]"
      ]
     },
     "execution_count": 27,
     "metadata": {},
     "output_type": "execute_result"
    }
   ],
   "source": [
    "s2 = pl.Series(\n",
    "    values=[100, 200, 300, 400, 500]\n",
    ")\n",
    "\n",
    "s2\n",
    "    "
   ]
  },
  {
   "cell_type": "code",
   "execution_count": 29,
   "metadata": {},
   "outputs": [
    {
     "data": {
      "text/html": [
       "<div><style>\n",
       ".dataframe > thead > tr,\n",
       ".dataframe > tbody > tr {\n",
       "  text-align: right;\n",
       "  white-space: pre-wrap;\n",
       "}\n",
       "</style>\n",
       "<small>shape: (5,)</small><table border=\"1\" class=\"dataframe\"><thead><tr><th></th></tr><tr><td>i64</td></tr></thead><tbody><tr><td>110</td></tr><tr><td>220</td></tr><tr><td>330</td></tr><tr><td>440</td></tr><tr><td>550</td></tr></tbody></table></div>"
      ],
      "text/plain": [
       "shape: (5,)\n",
       "Series: '' [i64]\n",
       "[\n",
       "\t110\n",
       "\t220\n",
       "\t330\n",
       "\t440\n",
       "\t550\n",
       "]"
      ]
     },
     "execution_count": 29,
     "metadata": {},
     "output_type": "execute_result"
    }
   ],
   "source": [
    "# if we perform an operation on two series, assuming that they are both the same \n",
    "# length (i.e., shape), then the operations will be performed across the same\n",
    "# indexes (yes, even though we don't have an official \"index\")\n",
    "\n",
    "s1 + s2"
   ]
  },
  {
   "cell_type": "code",
   "execution_count": 30,
   "metadata": {},
   "outputs": [
    {
     "ename": "InvalidOperationError",
     "evalue": "cannot do arithmetic operation on series of different lengths: got 5 and 2",
     "output_type": "error",
     "traceback": [
      "\u001b[0;31m---------------------------------------------------------------------------\u001b[0m",
      "\u001b[0;31mInvalidOperationError\u001b[0m                     Traceback (most recent call last)",
      "Cell \u001b[0;32mIn[30], line 1\u001b[0m\n\u001b[0;32m----> 1\u001b[0m \u001b[43ms1\u001b[49m\u001b[43m \u001b[49m\u001b[38;5;241;43m+\u001b[39;49m\u001b[43m \u001b[49m\u001b[43ms2\u001b[49m\u001b[38;5;241;43m.\u001b[39;49m\u001b[43mhead\u001b[49m\u001b[43m(\u001b[49m\u001b[38;5;241;43m2\u001b[39;49m\u001b[43m)\u001b[49m\n",
      "File \u001b[0;32m~/.pyenv/versions/3.12.5/lib/python3.12/site-packages/polars/series/series.py:1048\u001b[0m, in \u001b[0;36mSeries.__add__\u001b[0;34m(self, other)\u001b[0m\n\u001b[1;32m   1046\u001b[0m \u001b[38;5;28;01melif\u001b[39;00m \u001b[38;5;28misinstance\u001b[39m(other, pl\u001b[38;5;241m.\u001b[39mExpr):\n\u001b[1;32m   1047\u001b[0m     \u001b[38;5;28;01mreturn\u001b[39;00m F\u001b[38;5;241m.\u001b[39mlit(\u001b[38;5;28mself\u001b[39m) \u001b[38;5;241m+\u001b[39m other\n\u001b[0;32m-> 1048\u001b[0m \u001b[38;5;28;01mreturn\u001b[39;00m \u001b[38;5;28;43mself\u001b[39;49m\u001b[38;5;241;43m.\u001b[39;49m\u001b[43m_arithmetic\u001b[49m\u001b[43m(\u001b[49m\u001b[43mother\u001b[49m\u001b[43m,\u001b[49m\u001b[43m \u001b[49m\u001b[38;5;124;43m\"\u001b[39;49m\u001b[38;5;124;43madd\u001b[39;49m\u001b[38;5;124;43m\"\u001b[39;49m\u001b[43m,\u001b[49m\u001b[43m \u001b[49m\u001b[38;5;124;43m\"\u001b[39;49m\u001b[38;5;124;43madd_<>\u001b[39;49m\u001b[38;5;124;43m\"\u001b[39;49m\u001b[43m)\u001b[49m\n",
      "File \u001b[0;32m~/.pyenv/versions/3.12.5/lib/python3.12/site-packages/polars/series/series.py:997\u001b[0m, in \u001b[0;36mSeries._arithmetic\u001b[0;34m(self, other, op_s, op_ffi)\u001b[0m\n\u001b[1;32m    994\u001b[0m     other \u001b[38;5;241m=\u001b[39m pl\u001b[38;5;241m.\u001b[39mSeries(\u001b[38;5;124m\"\u001b[39m\u001b[38;5;124m\"\u001b[39m, [\u001b[38;5;28;01mNone\u001b[39;00m])\n\u001b[1;32m    996\u001b[0m \u001b[38;5;28;01mif\u001b[39;00m \u001b[38;5;28misinstance\u001b[39m(other, Series):\n\u001b[0;32m--> 997\u001b[0m     \u001b[38;5;28;01mreturn\u001b[39;00m \u001b[38;5;28mself\u001b[39m\u001b[38;5;241m.\u001b[39m_from_pyseries(\u001b[38;5;28;43mgetattr\u001b[39;49m\u001b[43m(\u001b[49m\u001b[38;5;28;43mself\u001b[39;49m\u001b[38;5;241;43m.\u001b[39;49m\u001b[43m_s\u001b[49m\u001b[43m,\u001b[49m\u001b[43m \u001b[49m\u001b[43mop_s\u001b[49m\u001b[43m)\u001b[49m\u001b[43m(\u001b[49m\u001b[43mother\u001b[49m\u001b[38;5;241;43m.\u001b[39;49m\u001b[43m_s\u001b[49m\u001b[43m)\u001b[49m)\n\u001b[1;32m    998\u001b[0m \u001b[38;5;28;01melif\u001b[39;00m _check_for_numpy(other) \u001b[38;5;129;01mand\u001b[39;00m \u001b[38;5;28misinstance\u001b[39m(other, np\u001b[38;5;241m.\u001b[39mndarray):\n\u001b[1;32m    999\u001b[0m     \u001b[38;5;28;01mreturn\u001b[39;00m \u001b[38;5;28mself\u001b[39m\u001b[38;5;241m.\u001b[39m_from_pyseries(\u001b[38;5;28mgetattr\u001b[39m(\u001b[38;5;28mself\u001b[39m\u001b[38;5;241m.\u001b[39m_s, op_s)(Series(other)\u001b[38;5;241m.\u001b[39m_s))\n",
      "\u001b[0;31mInvalidOperationError\u001b[0m: cannot do arithmetic operation on series of different lengths: got 5 and 2"
     ]
    }
   ],
   "source": [
    "s1 + s2.head(2)"
   ]
  },
  {
   "cell_type": "code",
   "execution_count": 31,
   "metadata": {},
   "outputs": [
    {
     "data": {
      "text/html": [
       "<div><style>\n",
       ".dataframe > thead > tr,\n",
       ".dataframe > tbody > tr {\n",
       "  text-align: right;\n",
       "  white-space: pre-wrap;\n",
       "}\n",
       "</style>\n",
       "<small>shape: (5,)</small><table border=\"1\" class=\"dataframe\"><thead><tr><th></th></tr><tr><td>i64</td></tr></thead><tbody><tr><td>15</td></tr><tr><td>25</td></tr><tr><td>35</td></tr><tr><td>45</td></tr><tr><td>55</td></tr></tbody></table></div>"
      ],
      "text/plain": [
       "shape: (5,)\n",
       "Series: '' [i64]\n",
       "[\n",
       "\t15\n",
       "\t25\n",
       "\t35\n",
       "\t45\n",
       "\t55\n",
       "]"
      ]
     },
     "execution_count": 31,
     "metadata": {},
     "output_type": "execute_result"
    }
   ],
   "source": [
    "# can we do broadcast operations, arithmetic operations with a series and a scalar value?\n",
    "\n",
    "s1 + 5"
   ]
  },
  {
   "cell_type": "code",
   "execution_count": 32,
   "metadata": {},
   "outputs": [
    {
     "data": {
      "text/html": [
       "<div><style>\n",
       ".dataframe > thead > tr,\n",
       ".dataframe > tbody > tr {\n",
       "  text-align: right;\n",
       "  white-space: pre-wrap;\n",
       "}\n",
       "</style>\n",
       "<small>shape: (5,)</small><table border=\"1\" class=\"dataframe\"><thead><tr><th></th></tr><tr><td>f64</td></tr></thead><tbody><tr><td>15.5</td></tr><tr><td>25.5</td></tr><tr><td>35.5</td></tr><tr><td>45.5</td></tr><tr><td>55.5</td></tr></tbody></table></div>"
      ],
      "text/plain": [
       "shape: (5,)\n",
       "Series: '' [f64]\n",
       "[\n",
       "\t15.5\n",
       "\t25.5\n",
       "\t35.5\n",
       "\t45.5\n",
       "\t55.5\n",
       "]"
      ]
     },
     "execution_count": 32,
     "metadata": {},
     "output_type": "execute_result"
    }
   ],
   "source": [
    "s1 + 5.5"
   ]
  },
  {
   "cell_type": "code",
   "execution_count": 33,
   "metadata": {},
   "outputs": [
    {
     "data": {
      "text/html": [
       "<div><style>\n",
       ".dataframe > thead > tr,\n",
       ".dataframe > tbody > tr {\n",
       "  text-align: right;\n",
       "  white-space: pre-wrap;\n",
       "}\n",
       "</style>\n",
       "<small>shape: (5,)</small><table border=\"1\" class=\"dataframe\"><thead><tr><th></th></tr><tr><td>bool</td></tr></thead><tbody><tr><td>true</td></tr><tr><td>true</td></tr><tr><td>true</td></tr><tr><td>true</td></tr><tr><td>true</td></tr></tbody></table></div>"
      ],
      "text/plain": [
       "shape: (5,)\n",
       "Series: '' [bool]\n",
       "[\n",
       "\ttrue\n",
       "\ttrue\n",
       "\ttrue\n",
       "\ttrue\n",
       "\ttrue\n",
       "]"
      ]
     },
     "execution_count": 33,
     "metadata": {},
     "output_type": "execute_result"
    }
   ],
   "source": [
    "s % 2 == 0"
   ]
  },
  {
   "cell_type": "code",
   "execution_count": 34,
   "metadata": {
    "scrolled": true
   },
   "outputs": [
    {
     "data": {
      "text/html": [
       "<div><style>\n",
       ".dataframe > thead > tr,\n",
       ".dataframe > tbody > tr {\n",
       "  text-align: right;\n",
       "  white-space: pre-wrap;\n",
       "}\n",
       "</style>\n",
       "<small>shape: (2,)</small><table border=\"1\" class=\"dataframe\"><thead><tr><th></th></tr><tr><td>i64</td></tr></thead><tbody><tr><td>30</td></tr><tr><td>40</td></tr></tbody></table></div>"
      ],
      "text/plain": [
       "shape: (2,)\n",
       "Series: '' [i64]\n",
       "[\n",
       "\t30\n",
       "\t40\n",
       "]"
      ]
     },
     "execution_count": 34,
     "metadata": {},
     "output_type": "execute_result"
    }
   ],
   "source": [
    "s[2:4]"
   ]
  },
  {
   "cell_type": "markdown",
   "metadata": {},
   "source": [
    "# Methods we can run on our series\n",
    "\n",
    "Just as Pandas provides a lot of methods for analyzing data on a series, Polars provides similar (or identical) methods."
   ]
  },
  {
   "cell_type": "code",
   "execution_count": 36,
   "metadata": {},
   "outputs": [
    {
     "data": {
      "text/plain": [
       "30.0"
      ]
     },
     "execution_count": 36,
     "metadata": {},
     "output_type": "execute_result"
    }
   ],
   "source": [
    "s.mean()"
   ]
  },
  {
   "cell_type": "code",
   "execution_count": 37,
   "metadata": {},
   "outputs": [
    {
     "data": {
      "text/plain": [
       "15.811388300841896"
      ]
     },
     "execution_count": 37,
     "metadata": {},
     "output_type": "execute_result"
    }
   ],
   "source": [
    "s.std()"
   ]
  },
  {
   "cell_type": "code",
   "execution_count": 38,
   "metadata": {},
   "outputs": [
    {
     "data": {
      "text/plain": [
       "10"
      ]
     },
     "execution_count": 38,
     "metadata": {},
     "output_type": "execute_result"
    }
   ],
   "source": [
    "s.min()"
   ]
  },
  {
   "cell_type": "code",
   "execution_count": 39,
   "metadata": {},
   "outputs": [
    {
     "data": {
      "text/plain": [
       "50"
      ]
     },
     "execution_count": 39,
     "metadata": {},
     "output_type": "execute_result"
    }
   ],
   "source": [
    "s.max()"
   ]
  },
  {
   "cell_type": "code",
   "execution_count": 40,
   "metadata": {},
   "outputs": [
    {
     "data": {
      "text/plain": [
       "30.0"
      ]
     },
     "execution_count": 40,
     "metadata": {},
     "output_type": "execute_result"
    }
   ],
   "source": [
    "s.median()"
   ]
  },
  {
   "cell_type": "code",
   "execution_count": 41,
   "metadata": {},
   "outputs": [
    {
     "data": {
      "text/plain": [
       "20.0"
      ]
     },
     "execution_count": 41,
     "metadata": {},
     "output_type": "execute_result"
    }
   ],
   "source": [
    "s.quantile(0.25)"
   ]
  },
  {
   "cell_type": "code",
   "execution_count": 42,
   "metadata": {},
   "outputs": [
    {
     "data": {
      "text/plain": [
       "40.0"
      ]
     },
     "execution_count": 42,
     "metadata": {},
     "output_type": "execute_result"
    }
   ],
   "source": [
    "s.quantile(0.75)"
   ]
  },
  {
   "cell_type": "code",
   "execution_count": 43,
   "metadata": {},
   "outputs": [
    {
     "data": {
      "text/plain": [
       "5"
      ]
     },
     "execution_count": 43,
     "metadata": {},
     "output_type": "execute_result"
    }
   ],
   "source": [
    "s.count()"
   ]
  },
  {
   "cell_type": "code",
   "execution_count": 44,
   "metadata": {},
   "outputs": [
    {
     "data": {
      "text/html": [
       "<div><style>\n",
       ".dataframe > thead > tr,\n",
       ".dataframe > tbody > tr {\n",
       "  text-align: right;\n",
       "  white-space: pre-wrap;\n",
       "}\n",
       "</style>\n",
       "<small>shape: (9, 2)</small><table border=\"1\" class=\"dataframe\"><thead><tr><th>statistic</th><th>value</th></tr><tr><td>str</td><td>f64</td></tr></thead><tbody><tr><td>&quot;count&quot;</td><td>5.0</td></tr><tr><td>&quot;null_count&quot;</td><td>0.0</td></tr><tr><td>&quot;mean&quot;</td><td>30.0</td></tr><tr><td>&quot;std&quot;</td><td>15.811388</td></tr><tr><td>&quot;min&quot;</td><td>10.0</td></tr><tr><td>&quot;25%&quot;</td><td>20.0</td></tr><tr><td>&quot;50%&quot;</td><td>30.0</td></tr><tr><td>&quot;75%&quot;</td><td>40.0</td></tr><tr><td>&quot;max&quot;</td><td>50.0</td></tr></tbody></table></div>"
      ],
      "text/plain": [
       "shape: (9, 2)\n",
       "┌────────────┬───────────┐\n",
       "│ statistic  ┆ value     │\n",
       "│ ---        ┆ ---       │\n",
       "│ str        ┆ f64       │\n",
       "╞════════════╪═══════════╡\n",
       "│ count      ┆ 5.0       │\n",
       "│ null_count ┆ 0.0       │\n",
       "│ mean       ┆ 30.0      │\n",
       "│ std        ┆ 15.811388 │\n",
       "│ min        ┆ 10.0      │\n",
       "│ 25%        ┆ 20.0      │\n",
       "│ 50%        ┆ 30.0      │\n",
       "│ 75%        ┆ 40.0      │\n",
       "│ max        ┆ 50.0      │\n",
       "└────────────┴───────────┘"
      ]
     },
     "execution_count": 44,
     "metadata": {},
     "output_type": "execute_result"
    }
   ],
   "source": [
    "s.describe()"
   ]
  },
  {
   "cell_type": "code",
   "execution_count": 45,
   "metadata": {},
   "outputs": [],
   "source": [
    "s = pl.Series('this is a bunch of words for my Polars class'.split())"
   ]
  },
  {
   "cell_type": "code",
   "execution_count": 46,
   "metadata": {},
   "outputs": [
    {
     "data": {
      "text/html": [
       "<div><style>\n",
       ".dataframe > thead > tr,\n",
       ".dataframe > tbody > tr {\n",
       "  text-align: right;\n",
       "  white-space: pre-wrap;\n",
       "}\n",
       "</style>\n",
       "<small>shape: (4, 2)</small><table border=\"1\" class=\"dataframe\"><thead><tr><th>statistic</th><th>value</th></tr><tr><td>str</td><td>str</td></tr></thead><tbody><tr><td>&quot;count&quot;</td><td>&quot;10&quot;</td></tr><tr><td>&quot;null_count&quot;</td><td>&quot;0&quot;</td></tr><tr><td>&quot;min&quot;</td><td>&quot;Polars&quot;</td></tr><tr><td>&quot;max&quot;</td><td>&quot;words&quot;</td></tr></tbody></table></div>"
      ],
      "text/plain": [
       "shape: (4, 2)\n",
       "┌────────────┬────────┐\n",
       "│ statistic  ┆ value  │\n",
       "│ ---        ┆ ---    │\n",
       "│ str        ┆ str    │\n",
       "╞════════════╪════════╡\n",
       "│ count      ┆ 10     │\n",
       "│ null_count ┆ 0      │\n",
       "│ min        ┆ Polars │\n",
       "│ max        ┆ words  │\n",
       "└────────────┴────────┘"
      ]
     },
     "execution_count": 46,
     "metadata": {},
     "output_type": "execute_result"
    }
   ],
   "source": [
    "s.describe()"
   ]
  },
  {
   "cell_type": "markdown",
   "metadata": {},
   "source": [
    "# Exercise: Polar series\n",
    "\n",
    "1. Create a series containing the forecast high temperatures for where you live over the next 10 days.\n",
    "2. What dtype does the series have? Force it to be ints. Force it to be floats.\n",
    "3. Get the descriptive statistics for these values.\n",
    "4. Calculate by how much each day's forecast high temp will differ from the mean and the median. "
   ]
  },
  {
   "cell_type": "code",
   "execution_count": 47,
   "metadata": {},
   "outputs": [],
   "source": [
    "high_temps = pl.Series(\n",
    "    [36, 35, 34, 32, 32, 32, 32, 30, 30, 30]\n",
    ")\n",
    "\n"
   ]
  },
  {
   "cell_type": "code",
   "execution_count": 48,
   "metadata": {},
   "outputs": [
    {
     "data": {
      "text/html": [
       "<div><style>\n",
       ".dataframe > thead > tr,\n",
       ".dataframe > tbody > tr {\n",
       "  text-align: right;\n",
       "  white-space: pre-wrap;\n",
       "}\n",
       "</style>\n",
       "<small>shape: (10,)</small><table border=\"1\" class=\"dataframe\"><thead><tr><th></th></tr><tr><td>i64</td></tr></thead><tbody><tr><td>36</td></tr><tr><td>35</td></tr><tr><td>34</td></tr><tr><td>32</td></tr><tr><td>32</td></tr><tr><td>32</td></tr><tr><td>32</td></tr><tr><td>30</td></tr><tr><td>30</td></tr><tr><td>30</td></tr></tbody></table></div>"
      ],
      "text/plain": [
       "shape: (10,)\n",
       "Series: '' [i64]\n",
       "[\n",
       "\t36\n",
       "\t35\n",
       "\t34\n",
       "\t32\n",
       "\t32\n",
       "\t32\n",
       "\t32\n",
       "\t30\n",
       "\t30\n",
       "\t30\n",
       "]"
      ]
     },
     "execution_count": 48,
     "metadata": {},
     "output_type": "execute_result"
    }
   ],
   "source": [
    "high_temps"
   ]
  },
  {
   "cell_type": "code",
   "execution_count": 51,
   "metadata": {},
   "outputs": [
    {
     "data": {
      "text/html": [
       "<div><style>\n",
       ".dataframe > thead > tr,\n",
       ".dataframe > tbody > tr {\n",
       "  text-align: right;\n",
       "  white-space: pre-wrap;\n",
       "}\n",
       "</style>\n",
       "<small>shape: (10,)</small><table border=\"1\" class=\"dataframe\"><thead><tr><th></th></tr><tr><td>i8</td></tr></thead><tbody><tr><td>36</td></tr><tr><td>35</td></tr><tr><td>34</td></tr><tr><td>32</td></tr><tr><td>32</td></tr><tr><td>32</td></tr><tr><td>32</td></tr><tr><td>30</td></tr><tr><td>30</td></tr><tr><td>30</td></tr></tbody></table></div>"
      ],
      "text/plain": [
       "shape: (10,)\n",
       "Series: '' [i8]\n",
       "[\n",
       "\t36\n",
       "\t35\n",
       "\t34\n",
       "\t32\n",
       "\t32\n",
       "\t32\n",
       "\t32\n",
       "\t30\n",
       "\t30\n",
       "\t30\n",
       "]"
      ]
     },
     "execution_count": 51,
     "metadata": {},
     "output_type": "execute_result"
    }
   ],
   "source": [
    "high_temps = pl.Series(\n",
    "    values=[36, 35, 34, 32, 32, 32, 32, 30, 30, 30],\n",
    "    dtype=pl.Int8\n",
    ")\n",
    "\n",
    "high_temps"
   ]
  },
  {
   "cell_type": "code",
   "execution_count": 52,
   "metadata": {},
   "outputs": [
    {
     "data": {
      "text/html": [
       "<div><style>\n",
       ".dataframe > thead > tr,\n",
       ".dataframe > tbody > tr {\n",
       "  text-align: right;\n",
       "  white-space: pre-wrap;\n",
       "}\n",
       "</style>\n",
       "<small>shape: (10,)</small><table border=\"1\" class=\"dataframe\"><thead><tr><th></th></tr><tr><td>f32</td></tr></thead><tbody><tr><td>36.0</td></tr><tr><td>35.0</td></tr><tr><td>34.0</td></tr><tr><td>32.0</td></tr><tr><td>32.0</td></tr><tr><td>32.0</td></tr><tr><td>32.0</td></tr><tr><td>30.0</td></tr><tr><td>30.0</td></tr><tr><td>30.0</td></tr></tbody></table></div>"
      ],
      "text/plain": [
       "shape: (10,)\n",
       "Series: '' [f32]\n",
       "[\n",
       "\t36.0\n",
       "\t35.0\n",
       "\t34.0\n",
       "\t32.0\n",
       "\t32.0\n",
       "\t32.0\n",
       "\t32.0\n",
       "\t30.0\n",
       "\t30.0\n",
       "\t30.0\n",
       "]"
      ]
     },
     "execution_count": 52,
     "metadata": {},
     "output_type": "execute_result"
    }
   ],
   "source": [
    "high_temps = pl.Series(\n",
    "    values=[36, 35, 34, 32, 32, 32, 32, 30, 30, 30],\n",
    "    dtype=pl.Float32\n",
    ")\n",
    "\n",
    "high_temps"
   ]
  },
  {
   "cell_type": "code",
   "execution_count": 53,
   "metadata": {},
   "outputs": [
    {
     "data": {
      "text/html": [
       "<div><style>\n",
       ".dataframe > thead > tr,\n",
       ".dataframe > tbody > tr {\n",
       "  text-align: right;\n",
       "  white-space: pre-wrap;\n",
       "}\n",
       "</style>\n",
       "<small>shape: (9, 2)</small><table border=\"1\" class=\"dataframe\"><thead><tr><th>statistic</th><th>value</th></tr><tr><td>str</td><td>f64</td></tr></thead><tbody><tr><td>&quot;count&quot;</td><td>10.0</td></tr><tr><td>&quot;null_count&quot;</td><td>0.0</td></tr><tr><td>&quot;mean&quot;</td><td>32.299999</td></tr><tr><td>&quot;std&quot;</td><td>2.110819</td></tr><tr><td>&quot;min&quot;</td><td>30.0</td></tr><tr><td>&quot;25%&quot;</td><td>30.0</td></tr><tr><td>&quot;50%&quot;</td><td>32.0</td></tr><tr><td>&quot;75%&quot;</td><td>34.0</td></tr><tr><td>&quot;max&quot;</td><td>36.0</td></tr></tbody></table></div>"
      ],
      "text/plain": [
       "shape: (9, 2)\n",
       "┌────────────┬───────────┐\n",
       "│ statistic  ┆ value     │\n",
       "│ ---        ┆ ---       │\n",
       "│ str        ┆ f64       │\n",
       "╞════════════╪═══════════╡\n",
       "│ count      ┆ 10.0      │\n",
       "│ null_count ┆ 0.0       │\n",
       "│ mean       ┆ 32.299999 │\n",
       "│ std        ┆ 2.110819  │\n",
       "│ min        ┆ 30.0      │\n",
       "│ 25%        ┆ 30.0      │\n",
       "│ 50%        ┆ 32.0      │\n",
       "│ 75%        ┆ 34.0      │\n",
       "│ max        ┆ 36.0      │\n",
       "└────────────┴───────────┘"
      ]
     },
     "execution_count": 53,
     "metadata": {},
     "output_type": "execute_result"
    }
   ],
   "source": [
    "high_temps.describe()"
   ]
  },
  {
   "cell_type": "code",
   "execution_count": 54,
   "metadata": {},
   "outputs": [
    {
     "data": {
      "text/html": [
       "<div><style>\n",
       ".dataframe > thead > tr,\n",
       ".dataframe > tbody > tr {\n",
       "  text-align: right;\n",
       "  white-space: pre-wrap;\n",
       "}\n",
       "</style>\n",
       "<small>shape: (10,)</small><table border=\"1\" class=\"dataframe\"><thead><tr><th></th></tr><tr><td>f32</td></tr></thead><tbody><tr><td>3.700001</td></tr><tr><td>2.700001</td></tr><tr><td>1.700001</td></tr><tr><td>-0.299999</td></tr><tr><td>-0.299999</td></tr><tr><td>-0.299999</td></tr><tr><td>-0.299999</td></tr><tr><td>-2.299999</td></tr><tr><td>-2.299999</td></tr><tr><td>-2.299999</td></tr></tbody></table></div>"
      ],
      "text/plain": [
       "shape: (10,)\n",
       "Series: '' [f32]\n",
       "[\n",
       "\t3.700001\n",
       "\t2.700001\n",
       "\t1.700001\n",
       "\t-0.299999\n",
       "\t-0.299999\n",
       "\t-0.299999\n",
       "\t-0.299999\n",
       "\t-2.299999\n",
       "\t-2.299999\n",
       "\t-2.299999\n",
       "]"
      ]
     },
     "execution_count": 54,
     "metadata": {},
     "output_type": "execute_result"
    }
   ],
   "source": [
    "# broadcast operation\n",
    "high_temps - high_temps.mean()"
   ]
  },
  {
   "cell_type": "code",
   "execution_count": 55,
   "metadata": {},
   "outputs": [
    {
     "data": {
      "text/html": [
       "<div><style>\n",
       ".dataframe > thead > tr,\n",
       ".dataframe > tbody > tr {\n",
       "  text-align: right;\n",
       "  white-space: pre-wrap;\n",
       "}\n",
       "</style>\n",
       "<small>shape: (10,)</small><table border=\"1\" class=\"dataframe\"><thead><tr><th></th></tr><tr><td>f32</td></tr></thead><tbody><tr><td>4.0</td></tr><tr><td>3.0</td></tr><tr><td>2.0</td></tr><tr><td>0.0</td></tr><tr><td>0.0</td></tr><tr><td>0.0</td></tr><tr><td>0.0</td></tr><tr><td>-2.0</td></tr><tr><td>-2.0</td></tr><tr><td>-2.0</td></tr></tbody></table></div>"
      ],
      "text/plain": [
       "shape: (10,)\n",
       "Series: '' [f32]\n",
       "[\n",
       "\t4.0\n",
       "\t3.0\n",
       "\t2.0\n",
       "\t0.0\n",
       "\t0.0\n",
       "\t0.0\n",
       "\t0.0\n",
       "\t-2.0\n",
       "\t-2.0\n",
       "\t-2.0\n",
       "]"
      ]
     },
     "execution_count": 55,
     "metadata": {},
     "output_type": "execute_result"
    }
   ],
   "source": [
    "# broadcast operation\n",
    "high_temps - high_temps.median()"
   ]
  },
  {
   "cell_type": "code",
   "execution_count": 56,
   "metadata": {},
   "outputs": [
    {
     "data": {
      "text/html": [
       "<div><style>\n",
       ".dataframe > thead > tr,\n",
       ".dataframe > tbody > tr {\n",
       "  text-align: right;\n",
       "  white-space: pre-wrap;\n",
       "}\n",
       "</style>\n",
       "<small>shape: (9, 2)</small><table border=\"1\" class=\"dataframe\"><thead><tr><th>statistic</th><th>value</th></tr><tr><td>str</td><td>f64</td></tr></thead><tbody><tr><td>&quot;count&quot;</td><td>10.0</td></tr><tr><td>&quot;null_count&quot;</td><td>0.0</td></tr><tr><td>&quot;mean&quot;</td><td>32.299999</td></tr><tr><td>&quot;std&quot;</td><td>2.110819</td></tr><tr><td>&quot;min&quot;</td><td>30.0</td></tr><tr><td>&quot;25%&quot;</td><td>30.0</td></tr><tr><td>&quot;50%&quot;</td><td>32.0</td></tr><tr><td>&quot;75%&quot;</td><td>34.0</td></tr><tr><td>&quot;max&quot;</td><td>36.0</td></tr></tbody></table></div>"
      ],
      "text/plain": [
       "shape: (9, 2)\n",
       "┌────────────┬───────────┐\n",
       "│ statistic  ┆ value     │\n",
       "│ ---        ┆ ---       │\n",
       "│ str        ┆ f64       │\n",
       "╞════════════╪═══════════╡\n",
       "│ count      ┆ 10.0      │\n",
       "│ null_count ┆ 0.0       │\n",
       "│ mean       ┆ 32.299999 │\n",
       "│ std        ┆ 2.110819  │\n",
       "│ min        ┆ 30.0      │\n",
       "│ 25%        ┆ 30.0      │\n",
       "│ 50%        ┆ 32.0      │\n",
       "│ 75%        ┆ 34.0      │\n",
       "│ max        ┆ 36.0      │\n",
       "└────────────┴───────────┘"
      ]
     },
     "execution_count": 56,
     "metadata": {},
     "output_type": "execute_result"
    }
   ],
   "source": [
    "high_temps.describe()"
   ]
  },
  {
   "cell_type": "markdown",
   "metadata": {},
   "source": [
    "# Data frames\n",
    "\n",
    "A data frame is a 2D collection of data\n",
    "\n",
    "- Once again, no index\n",
    "- As in Pandas, every column is a series\n",
    "- Every column needs to have a unique name\n",
    "\n",
    "We can create a data frame in a few ways, including passing a dict whose keys are strings (the column names) and whose values are lists (or Polars series). Every list/series must contain the same number of values."
   ]
  },
  {
   "cell_type": "code",
   "execution_count": 57,
   "metadata": {},
   "outputs": [],
   "source": [
    "df = pl.DataFrame(\n",
    "    {'high_temps': [36, 35, 34, 32, 32, 32, 32, 30, 30, 30],\n",
    "     'low_temps': [24, 24, 23, 24, 24, 25, 23, 21, 21, 22]}\n",
    ")"
   ]
  },
  {
   "cell_type": "code",
   "execution_count": 58,
   "metadata": {},
   "outputs": [
    {
     "data": {
      "text/html": [
       "<div><style>\n",
       ".dataframe > thead > tr,\n",
       ".dataframe > tbody > tr {\n",
       "  text-align: right;\n",
       "  white-space: pre-wrap;\n",
       "}\n",
       "</style>\n",
       "<small>shape: (10, 2)</small><table border=\"1\" class=\"dataframe\"><thead><tr><th>high_temps</th><th>low_temps</th></tr><tr><td>i64</td><td>i64</td></tr></thead><tbody><tr><td>36</td><td>24</td></tr><tr><td>35</td><td>24</td></tr><tr><td>34</td><td>23</td></tr><tr><td>32</td><td>24</td></tr><tr><td>32</td><td>24</td></tr><tr><td>32</td><td>25</td></tr><tr><td>32</td><td>23</td></tr><tr><td>30</td><td>21</td></tr><tr><td>30</td><td>21</td></tr><tr><td>30</td><td>22</td></tr></tbody></table></div>"
      ],
      "text/plain": [
       "shape: (10, 2)\n",
       "┌────────────┬───────────┐\n",
       "│ high_temps ┆ low_temps │\n",
       "│ ---        ┆ ---       │\n",
       "│ i64        ┆ i64       │\n",
       "╞════════════╪═══════════╡\n",
       "│ 36         ┆ 24        │\n",
       "│ 35         ┆ 24        │\n",
       "│ 34         ┆ 23        │\n",
       "│ 32         ┆ 24        │\n",
       "│ 32         ┆ 24        │\n",
       "│ 32         ┆ 25        │\n",
       "│ 32         ┆ 23        │\n",
       "│ 30         ┆ 21        │\n",
       "│ 30         ┆ 21        │\n",
       "│ 30         ┆ 22        │\n",
       "└────────────┴───────────┘"
      ]
     },
     "execution_count": 58,
     "metadata": {},
     "output_type": "execute_result"
    }
   ],
   "source": [
    "df"
   ]
  },
  {
   "cell_type": "code",
   "execution_count": 59,
   "metadata": {},
   "outputs": [
    {
     "data": {
      "text/plain": [
       "[Int64, Int64]"
      ]
     },
     "execution_count": 59,
     "metadata": {},
     "output_type": "execute_result"
    }
   ],
   "source": [
    "df.dtypes   # what are the dtypes of our columns?"
   ]
  },
  {
   "cell_type": "code",
   "execution_count": 60,
   "metadata": {},
   "outputs": [
    {
     "data": {
      "text/plain": [
       "['high_temps', 'low_temps']"
      ]
     },
     "execution_count": 60,
     "metadata": {},
     "output_type": "execute_result"
    }
   ],
   "source": [
    "df.columns"
   ]
  },
  {
   "cell_type": "code",
   "execution_count": 61,
   "metadata": {},
   "outputs": [
    {
     "data": {
      "text/html": [
       "<div><style>\n",
       ".dataframe > thead > tr,\n",
       ".dataframe > tbody > tr {\n",
       "  text-align: right;\n",
       "  white-space: pre-wrap;\n",
       "}\n",
       "</style>\n",
       "<small>shape: (10,)</small><table border=\"1\" class=\"dataframe\"><thead><tr><th>high_temps</th></tr><tr><td>i64</td></tr></thead><tbody><tr><td>36</td></tr><tr><td>35</td></tr><tr><td>34</td></tr><tr><td>32</td></tr><tr><td>32</td></tr><tr><td>32</td></tr><tr><td>32</td></tr><tr><td>30</td></tr><tr><td>30</td></tr><tr><td>30</td></tr></tbody></table></div>"
      ],
      "text/plain": [
       "shape: (10,)\n",
       "Series: 'high_temps' [i64]\n",
       "[\n",
       "\t36\n",
       "\t35\n",
       "\t34\n",
       "\t32\n",
       "\t32\n",
       "\t32\n",
       "\t32\n",
       "\t30\n",
       "\t30\n",
       "\t30\n",
       "]"
      ]
     },
     "execution_count": 61,
     "metadata": {},
     "output_type": "execute_result"
    }
   ],
   "source": [
    "# I can retrieve a column using [] and the column name\n",
    "df['high_temps']"
   ]
  },
  {
   "cell_type": "code",
   "execution_count": 62,
   "metadata": {},
   "outputs": [
    {
     "data": {
      "text/html": [
       "<div><style>\n",
       ".dataframe > thead > tr,\n",
       ".dataframe > tbody > tr {\n",
       "  text-align: right;\n",
       "  white-space: pre-wrap;\n",
       "}\n",
       "</style>\n",
       "<small>shape: (10, 2)</small><table border=\"1\" class=\"dataframe\"><thead><tr><th>high_temps</th><th>low_temps</th></tr><tr><td>i64</td><td>i64</td></tr></thead><tbody><tr><td>36</td><td>24</td></tr><tr><td>35</td><td>24</td></tr><tr><td>34</td><td>23</td></tr><tr><td>32</td><td>24</td></tr><tr><td>32</td><td>24</td></tr><tr><td>32</td><td>25</td></tr><tr><td>32</td><td>23</td></tr><tr><td>30</td><td>21</td></tr><tr><td>30</td><td>21</td></tr><tr><td>30</td><td>22</td></tr></tbody></table></div>"
      ],
      "text/plain": [
       "shape: (10, 2)\n",
       "┌────────────┬───────────┐\n",
       "│ high_temps ┆ low_temps │\n",
       "│ ---        ┆ ---       │\n",
       "│ i64        ┆ i64       │\n",
       "╞════════════╪═══════════╡\n",
       "│ 36         ┆ 24        │\n",
       "│ 35         ┆ 24        │\n",
       "│ 34         ┆ 23        │\n",
       "│ 32         ┆ 24        │\n",
       "│ 32         ┆ 24        │\n",
       "│ 32         ┆ 25        │\n",
       "│ 32         ┆ 23        │\n",
       "│ 30         ┆ 21        │\n",
       "│ 30         ┆ 21        │\n",
       "│ 30         ┆ 22        │\n",
       "└────────────┴───────────┘"
      ]
     },
     "execution_count": 62,
     "metadata": {},
     "output_type": "execute_result"
    }
   ],
   "source": [
    "# I can pass a list of columns, and get all of them back\n",
    "\n",
    "df[['high_temps', 'low_temps']]"
   ]
  },
  {
   "cell_type": "code",
   "execution_count": 73,
   "metadata": {},
   "outputs": [],
   "source": [
    "import numpy as np\n",
    "np.random.seed(0)\n",
    "\n",
    "df = pl.DataFrame(\n",
    "    {'high_temp': [36, 35, 34, 32, 32, 32, 32, 30, 30, 30],\n",
    "     'low_temp': [24, 24, 23, 24, 24, 25, 23, 21, 21, 22], \n",
    "     'random': np.random.randint(0, 1000, 10)}\n",
    ")"
   ]
  },
  {
   "cell_type": "code",
   "execution_count": 74,
   "metadata": {},
   "outputs": [
    {
     "data": {
      "text/html": [
       "<div><style>\n",
       ".dataframe > thead > tr,\n",
       ".dataframe > tbody > tr {\n",
       "  text-align: right;\n",
       "  white-space: pre-wrap;\n",
       "}\n",
       "</style>\n",
       "<small>shape: (10, 3)</small><table border=\"1\" class=\"dataframe\"><thead><tr><th>high_temp</th><th>low_temp</th><th>random</th></tr><tr><td>i64</td><td>i64</td><td>i64</td></tr></thead><tbody><tr><td>36</td><td>24</td><td>684</td></tr><tr><td>35</td><td>24</td><td>559</td></tr><tr><td>34</td><td>23</td><td>629</td></tr><tr><td>32</td><td>24</td><td>192</td></tr><tr><td>32</td><td>24</td><td>835</td></tr><tr><td>32</td><td>25</td><td>763</td></tr><tr><td>32</td><td>23</td><td>707</td></tr><tr><td>30</td><td>21</td><td>359</td></tr><tr><td>30</td><td>21</td><td>9</td></tr><tr><td>30</td><td>22</td><td>723</td></tr></tbody></table></div>"
      ],
      "text/plain": [
       "shape: (10, 3)\n",
       "┌───────────┬──────────┬────────┐\n",
       "│ high_temp ┆ low_temp ┆ random │\n",
       "│ ---       ┆ ---      ┆ ---    │\n",
       "│ i64       ┆ i64      ┆ i64    │\n",
       "╞═══════════╪══════════╪════════╡\n",
       "│ 36        ┆ 24       ┆ 684    │\n",
       "│ 35        ┆ 24       ┆ 559    │\n",
       "│ 34        ┆ 23       ┆ 629    │\n",
       "│ 32        ┆ 24       ┆ 192    │\n",
       "│ 32        ┆ 24       ┆ 835    │\n",
       "│ 32        ┆ 25       ┆ 763    │\n",
       "│ 32        ┆ 23       ┆ 707    │\n",
       "│ 30        ┆ 21       ┆ 359    │\n",
       "│ 30        ┆ 21       ┆ 9      │\n",
       "│ 30        ┆ 22       ┆ 723    │\n",
       "└───────────┴──────────┴────────┘"
      ]
     },
     "execution_count": 74,
     "metadata": {},
     "output_type": "execute_result"
    }
   ],
   "source": [
    "df"
   ]
  },
  {
   "cell_type": "code",
   "execution_count": 75,
   "metadata": {},
   "outputs": [
    {
     "data": {
      "text/html": [
       "<div><style>\n",
       ".dataframe > thead > tr,\n",
       ".dataframe > tbody > tr {\n",
       "  text-align: right;\n",
       "  white-space: pre-wrap;\n",
       "}\n",
       "</style>\n",
       "<small>shape: (1, 3)</small><table border=\"1\" class=\"dataframe\"><thead><tr><th>high_temp</th><th>low_temp</th><th>random</th></tr><tr><td>i64</td><td>i64</td><td>i64</td></tr></thead><tbody><tr><td>32</td><td>24</td><td>192</td></tr></tbody></table></div>"
      ],
      "text/plain": [
       "shape: (1, 3)\n",
       "┌───────────┬──────────┬────────┐\n",
       "│ high_temp ┆ low_temp ┆ random │\n",
       "│ ---       ┆ ---      ┆ ---    │\n",
       "│ i64       ┆ i64      ┆ i64    │\n",
       "╞═══════════╪══════════╪════════╡\n",
       "│ 32        ┆ 24       ┆ 192    │\n",
       "└───────────┴──────────┴────────┘"
      ]
     },
     "execution_count": 75,
     "metadata": {},
     "output_type": "execute_result"
    }
   ],
   "source": [
    "df[3]"
   ]
  },
  {
   "cell_type": "code",
   "execution_count": 76,
   "metadata": {},
   "outputs": [
    {
     "data": {
      "text/html": [
       "<div><style>\n",
       ".dataframe > thead > tr,\n",
       ".dataframe > tbody > tr {\n",
       "  text-align: right;\n",
       "  white-space: pre-wrap;\n",
       "}\n",
       "</style>\n",
       "<small>shape: (5, 3)</small><table border=\"1\" class=\"dataframe\"><thead><tr><th>high_temp</th><th>low_temp</th><th>random</th></tr><tr><td>i64</td><td>i64</td><td>i64</td></tr></thead><tbody><tr><td>34</td><td>23</td><td>629</td></tr><tr><td>32</td><td>24</td><td>192</td></tr><tr><td>32</td><td>24</td><td>835</td></tr><tr><td>32</td><td>25</td><td>763</td></tr><tr><td>32</td><td>23</td><td>707</td></tr></tbody></table></div>"
      ],
      "text/plain": [
       "shape: (5, 3)\n",
       "┌───────────┬──────────┬────────┐\n",
       "│ high_temp ┆ low_temp ┆ random │\n",
       "│ ---       ┆ ---      ┆ ---    │\n",
       "│ i64       ┆ i64      ┆ i64    │\n",
       "╞═══════════╪══════════╪════════╡\n",
       "│ 34        ┆ 23       ┆ 629    │\n",
       "│ 32        ┆ 24       ┆ 192    │\n",
       "│ 32        ┆ 24       ┆ 835    │\n",
       "│ 32        ┆ 25       ┆ 763    │\n",
       "│ 32        ┆ 23       ┆ 707    │\n",
       "└───────────┴──────────┴────────┘"
      ]
     },
     "execution_count": 76,
     "metadata": {},
     "output_type": "execute_result"
    }
   ],
   "source": [
    "df[2:7]"
   ]
  },
  {
   "cell_type": "markdown",
   "metadata": {},
   "source": [
    "# How can we retrieve data?\n",
    "\n",
    "We'll need *expressions* to do this, which are the Polars equivalent to boolean indexing in Pandas."
   ]
  },
  {
   "cell_type": "code",
   "execution_count": 81,
   "metadata": {},
   "outputs": [
    {
     "data": {
      "text/html": [
       "<div><style>\n",
       ".dataframe > thead > tr,\n",
       ".dataframe > tbody > tr {\n",
       "  text-align: right;\n",
       "  white-space: pre-wrap;\n",
       "}\n",
       "</style>\n",
       "<small>shape: (4, 3)</small><table border=\"1\" class=\"dataframe\"><thead><tr><th>high_temp</th><th>low_temp</th><th>random</th></tr><tr><td>i64</td><td>i64</td><td>i64</td></tr></thead><tbody><tr><td>32</td><td>24</td><td>192</td></tr><tr><td>32</td><td>24</td><td>835</td></tr><tr><td>32</td><td>25</td><td>763</td></tr><tr><td>32</td><td>23</td><td>707</td></tr></tbody></table></div>"
      ],
      "text/plain": [
       "shape: (4, 3)\n",
       "┌───────────┬──────────┬────────┐\n",
       "│ high_temp ┆ low_temp ┆ random │\n",
       "│ ---       ┆ ---      ┆ ---    │\n",
       "│ i64       ┆ i64      ┆ i64    │\n",
       "╞═══════════╪══════════╪════════╡\n",
       "│ 32        ┆ 24       ┆ 192    │\n",
       "│ 32        ┆ 24       ┆ 835    │\n",
       "│ 32        ┆ 25       ┆ 763    │\n",
       "│ 32        ┆ 23       ┆ 707    │\n",
       "└───────────┴──────────┴────────┘"
      ]
     },
     "execution_count": 81,
     "metadata": {},
     "output_type": "execute_result"
    }
   ],
   "source": [
    "# let's find all rows where the high_temp is == 32\n",
    "# Polars encourages us to say:\n",
    "# - I want to select from my data frame\n",
    "# - wherever the high_temp column is == 32\n",
    "\n",
    "df.filter(    # this puts us into the context of df\n",
    "    pl.col('high_temp') == 32\n",
    ")"
   ]
  },
  {
   "cell_type": "code",
   "execution_count": 82,
   "metadata": {},
   "outputs": [
    {
     "data": {
      "text/html": [
       "<div><style>\n",
       ".dataframe > thead > tr,\n",
       ".dataframe > tbody > tr {\n",
       "  text-align: right;\n",
       "  white-space: pre-wrap;\n",
       "}\n",
       "</style>\n",
       "<small>shape: (3, 3)</small><table border=\"1\" class=\"dataframe\"><thead><tr><th>high_temp</th><th>low_temp</th><th>random</th></tr><tr><td>i64</td><td>i64</td><td>i64</td></tr></thead><tbody><tr><td>36</td><td>24</td><td>684</td></tr><tr><td>35</td><td>24</td><td>559</td></tr><tr><td>34</td><td>23</td><td>629</td></tr></tbody></table></div>"
      ],
      "text/plain": [
       "shape: (3, 3)\n",
       "┌───────────┬──────────┬────────┐\n",
       "│ high_temp ┆ low_temp ┆ random │\n",
       "│ ---       ┆ ---      ┆ ---    │\n",
       "│ i64       ┆ i64      ┆ i64    │\n",
       "╞═══════════╪══════════╪════════╡\n",
       "│ 36        ┆ 24       ┆ 684    │\n",
       "│ 35        ┆ 24       ┆ 559    │\n",
       "│ 34        ┆ 23       ┆ 629    │\n",
       "└───────────┴──────────┴────────┘"
      ]
     },
     "execution_count": 82,
     "metadata": {},
     "output_type": "execute_result"
    }
   ],
   "source": [
    "df.filter(    # this puts us into the context of df\n",
    "    pl.col('high_temp') > 32\n",
    ")"
   ]
  },
  {
   "cell_type": "code",
   "execution_count": 83,
   "metadata": {},
   "outputs": [
    {
     "data": {
      "text/html": [
       "<div><style>\n",
       ".dataframe > thead > tr,\n",
       ".dataframe > tbody > tr {\n",
       "  text-align: right;\n",
       "  white-space: pre-wrap;\n",
       "}\n",
       "</style>\n",
       "<small>shape: (6, 3)</small><table border=\"1\" class=\"dataframe\"><thead><tr><th>high_temp</th><th>low_temp</th><th>random</th></tr><tr><td>i64</td><td>i64</td><td>i64</td></tr></thead><tbody><tr><td>36</td><td>24</td><td>684</td></tr><tr><td>35</td><td>24</td><td>559</td></tr><tr><td>34</td><td>23</td><td>629</td></tr><tr><td>30</td><td>21</td><td>359</td></tr><tr><td>30</td><td>21</td><td>9</td></tr><tr><td>30</td><td>22</td><td>723</td></tr></tbody></table></div>"
      ],
      "text/plain": [
       "shape: (6, 3)\n",
       "┌───────────┬──────────┬────────┐\n",
       "│ high_temp ┆ low_temp ┆ random │\n",
       "│ ---       ┆ ---      ┆ ---    │\n",
       "│ i64       ┆ i64      ┆ i64    │\n",
       "╞═══════════╪══════════╪════════╡\n",
       "│ 36        ┆ 24       ┆ 684    │\n",
       "│ 35        ┆ 24       ┆ 559    │\n",
       "│ 34        ┆ 23       ┆ 629    │\n",
       "│ 30        ┆ 21       ┆ 359    │\n",
       "│ 30        ┆ 21       ┆ 9      │\n",
       "│ 30        ┆ 22       ┆ 723    │\n",
       "└───────────┴──────────┴────────┘"
      ]
     },
     "execution_count": 83,
     "metadata": {},
     "output_type": "execute_result"
    }
   ],
   "source": [
    "df.filter(    # this puts us into the context of df\n",
    "    pl.col('high_temp') != 32\n",
    ")"
   ]
  },
  {
   "cell_type": "code",
   "execution_count": 84,
   "metadata": {},
   "outputs": [
    {
     "data": {
      "text/html": [
       "<div><style>\n",
       ".dataframe > thead > tr,\n",
       ".dataframe > tbody > tr {\n",
       "  text-align: right;\n",
       "  white-space: pre-wrap;\n",
       "}\n",
       "</style>\n",
       "<small>shape: (3, 3)</small><table border=\"1\" class=\"dataframe\"><thead><tr><th>high_temp</th><th>low_temp</th><th>random</th></tr><tr><td>i64</td><td>i64</td><td>i64</td></tr></thead><tbody><tr><td>36</td><td>24</td><td>684</td></tr><tr><td>35</td><td>24</td><td>559</td></tr><tr><td>34</td><td>23</td><td>629</td></tr></tbody></table></div>"
      ],
      "text/plain": [
       "shape: (3, 3)\n",
       "┌───────────┬──────────┬────────┐\n",
       "│ high_temp ┆ low_temp ┆ random │\n",
       "│ ---       ┆ ---      ┆ ---    │\n",
       "│ i64       ┆ i64      ┆ i64    │\n",
       "╞═══════════╪══════════╪════════╡\n",
       "│ 36        ┆ 24       ┆ 684    │\n",
       "│ 35        ┆ 24       ┆ 559    │\n",
       "│ 34        ┆ 23       ┆ 629    │\n",
       "└───────────┴──────────┴────────┘"
      ]
     },
     "execution_count": 84,
     "metadata": {},
     "output_type": "execute_result"
    }
   ],
   "source": [
    "df.filter(    # this puts us into the context of df\n",
    "    pl.col('high_temp') > pl.col('high_temp').mean()\n",
    ")"
   ]
  },
  {
   "cell_type": "code",
   "execution_count": 88,
   "metadata": {},
   "outputs": [
    {
     "data": {
      "text/html": [
       "<div><style>\n",
       ".dataframe > thead > tr,\n",
       ".dataframe > tbody > tr {\n",
       "  text-align: right;\n",
       "  white-space: pre-wrap;\n",
       "}\n",
       "</style>\n",
       "<small>shape: (1, 3)</small><table border=\"1\" class=\"dataframe\"><thead><tr><th>high_temp</th><th>low_temp</th><th>random</th></tr><tr><td>i64</td><td>i64</td><td>i64</td></tr></thead><tbody><tr><td>34</td><td>23</td><td>629</td></tr></tbody></table></div>"
      ],
      "text/plain": [
       "shape: (1, 3)\n",
       "┌───────────┬──────────┬────────┐\n",
       "│ high_temp ┆ low_temp ┆ random │\n",
       "│ ---       ┆ ---      ┆ ---    │\n",
       "│ i64       ┆ i64      ┆ i64    │\n",
       "╞═══════════╪══════════╪════════╡\n",
       "│ 34        ┆ 23       ┆ 629    │\n",
       "└───────────┴──────────┴────────┘"
      ]
     },
     "execution_count": 88,
     "metadata": {},
     "output_type": "execute_result"
    }
   ],
   "source": [
    "# what if I want more than one condition?\n",
    "\n",
    "# for example, I want days in which the high is >= mean, but the low is <= mean\n",
    "\n",
    "df.filter(    \n",
    "    (pl.col('high_temp') >= pl.col('high_temp').mean()) &\n",
    "    (pl.col('low_temp') <= pl.col('low_temp').mean())\n",
    ")"
   ]
  },
  {
   "cell_type": "code",
   "execution_count": 90,
   "metadata": {},
   "outputs": [
    {
     "data": {
      "text/html": [
       "<div><style>\n",
       ".dataframe > thead > tr,\n",
       ".dataframe > tbody > tr {\n",
       "  text-align: right;\n",
       "  white-space: pre-wrap;\n",
       "}\n",
       "</style>\n",
       "<small>shape: (0, 3)</small><table border=\"1\" class=\"dataframe\"><thead><tr><th>high_temp</th><th>low_temp</th><th>random</th></tr><tr><td>i64</td><td>i64</td><td>i64</td></tr></thead><tbody></tbody></table></div>"
      ],
      "text/plain": [
       "shape: (0, 3)\n",
       "┌───────────┬──────────┬────────┐\n",
       "│ high_temp ┆ low_temp ┆ random │\n",
       "│ ---       ┆ ---      ┆ ---    │\n",
       "│ i64       ┆ i64      ┆ i64    │\n",
       "╞═══════════╪══════════╪════════╡\n",
       "└───────────┴──────────┴────────┘"
      ]
     },
     "execution_count": 90,
     "metadata": {},
     "output_type": "execute_result"
    }
   ],
   "source": [
    "df[5:0]"
   ]
  },
  {
   "cell_type": "code",
   "execution_count": 91,
   "metadata": {},
   "outputs": [
    {
     "data": {
      "text/plain": [
       "''"
      ]
     },
     "execution_count": 91,
     "metadata": {},
     "output_type": "execute_result"
    }
   ],
   "source": [
    "text = 'hello out there'\n",
    "\n",
    "text[5:0]"
   ]
  },
  {
   "cell_type": "markdown",
   "metadata": {},
   "source": [
    "# Exercise: Polars data frames\n",
    "\n",
    "1. Create a data frame with people in your family. There should be three columns:\n",
    "    - name, with the person's name (as a string)\n",
    "    - age, with the person's age in years (as an int)\n",
    "    - shoe_size, with the person's shoe size (as an int)\n",
    "2. Find all of the rows with people whose age is above the mean\n",
    "3. Find all of the rows with people whose age is above the mean but whose shoe_size is below the mean"
   ]
  },
  {
   "cell_type": "code",
   "execution_count": 92,
   "metadata": {},
   "outputs": [],
   "source": [
    "df = pl.DataFrame(\n",
    "    {'name':['Reuven', 'Atara', 'Shikma', 'Amotz'],\n",
    "     'age': [ 54,  23, 21, 18],\n",
    "     'shoe_size': [46, 40, 40, 44]}\n",
    ")"
   ]
  },
  {
   "cell_type": "code",
   "execution_count": 93,
   "metadata": {},
   "outputs": [
    {
     "data": {
      "text/html": [
       "<div><style>\n",
       ".dataframe > thead > tr,\n",
       ".dataframe > tbody > tr {\n",
       "  text-align: right;\n",
       "  white-space: pre-wrap;\n",
       "}\n",
       "</style>\n",
       "<small>shape: (4, 3)</small><table border=\"1\" class=\"dataframe\"><thead><tr><th>name</th><th>age</th><th>shoe_size</th></tr><tr><td>str</td><td>i64</td><td>i64</td></tr></thead><tbody><tr><td>&quot;Reuven&quot;</td><td>54</td><td>46</td></tr><tr><td>&quot;Atara&quot;</td><td>23</td><td>40</td></tr><tr><td>&quot;Shikma&quot;</td><td>21</td><td>40</td></tr><tr><td>&quot;Amotz&quot;</td><td>18</td><td>44</td></tr></tbody></table></div>"
      ],
      "text/plain": [
       "shape: (4, 3)\n",
       "┌────────┬─────┬───────────┐\n",
       "│ name   ┆ age ┆ shoe_size │\n",
       "│ ---    ┆ --- ┆ ---       │\n",
       "│ str    ┆ i64 ┆ i64       │\n",
       "╞════════╪═════╪═══════════╡\n",
       "│ Reuven ┆ 54  ┆ 46        │\n",
       "│ Atara  ┆ 23  ┆ 40        │\n",
       "│ Shikma ┆ 21  ┆ 40        │\n",
       "│ Amotz  ┆ 18  ┆ 44        │\n",
       "└────────┴─────┴───────────┘"
      ]
     },
     "execution_count": 93,
     "metadata": {},
     "output_type": "execute_result"
    }
   ],
   "source": [
    "df"
   ]
  },
  {
   "cell_type": "code",
   "execution_count": 94,
   "metadata": {},
   "outputs": [
    {
     "data": {
      "text/html": [
       "<div><style>\n",
       ".dataframe > thead > tr,\n",
       ".dataframe > tbody > tr {\n",
       "  text-align: right;\n",
       "  white-space: pre-wrap;\n",
       "}\n",
       "</style>\n",
       "<small>shape: (1, 3)</small><table border=\"1\" class=\"dataframe\"><thead><tr><th>name</th><th>age</th><th>shoe_size</th></tr><tr><td>str</td><td>i64</td><td>i64</td></tr></thead><tbody><tr><td>&quot;Reuven&quot;</td><td>54</td><td>46</td></tr></tbody></table></div>"
      ],
      "text/plain": [
       "shape: (1, 3)\n",
       "┌────────┬─────┬───────────┐\n",
       "│ name   ┆ age ┆ shoe_size │\n",
       "│ ---    ┆ --- ┆ ---       │\n",
       "│ str    ┆ i64 ┆ i64       │\n",
       "╞════════╪═════╪═══════════╡\n",
       "│ Reuven ┆ 54  ┆ 46        │\n",
       "└────────┴─────┴───────────┘"
      ]
     },
     "execution_count": 94,
     "metadata": {},
     "output_type": "execute_result"
    }
   ],
   "source": [
    "df.filter(\n",
    "    pl.col('age') > pl.col('age').mean()\n",
    ")"
   ]
  },
  {
   "cell_type": "code",
   "execution_count": 95,
   "metadata": {},
   "outputs": [
    {
     "data": {
      "text/html": [
       "<div><style>\n",
       ".dataframe > thead > tr,\n",
       ".dataframe > tbody > tr {\n",
       "  text-align: right;\n",
       "  white-space: pre-wrap;\n",
       "}\n",
       "</style>\n",
       "<small>shape: (0, 3)</small><table border=\"1\" class=\"dataframe\"><thead><tr><th>name</th><th>age</th><th>shoe_size</th></tr><tr><td>str</td><td>i64</td><td>i64</td></tr></thead><tbody></tbody></table></div>"
      ],
      "text/plain": [
       "shape: (0, 3)\n",
       "┌──────┬─────┬───────────┐\n",
       "│ name ┆ age ┆ shoe_size │\n",
       "│ ---  ┆ --- ┆ ---       │\n",
       "│ str  ┆ i64 ┆ i64       │\n",
       "╞══════╪═════╪═══════════╡\n",
       "└──────┴─────┴───────────┘"
      ]
     },
     "execution_count": 95,
     "metadata": {},
     "output_type": "execute_result"
    }
   ],
   "source": [
    "df.filter(\n",
    "    (pl.col('age') > pl.col('age').mean()) &\n",
    "    (pl.col('shoe_size') < pl.col('shoe_size').mean())\n",
    ")"
   ]
  },
  {
   "cell_type": "code",
   "execution_count": 96,
   "metadata": {},
   "outputs": [
    {
     "data": {
      "text/html": [
       "<div><style>\n",
       ".dataframe > thead > tr,\n",
       ".dataframe > tbody > tr {\n",
       "  text-align: right;\n",
       "  white-space: pre-wrap;\n",
       "}\n",
       "</style>\n",
       "<small>shape: (1, 3)</small><table border=\"1\" class=\"dataframe\"><thead><tr><th>name</th><th>age</th><th>shoe_size</th></tr><tr><td>str</td><td>i64</td><td>i64</td></tr></thead><tbody><tr><td>&quot;Amotz&quot;</td><td>18</td><td>44</td></tr></tbody></table></div>"
      ],
      "text/plain": [
       "shape: (1, 3)\n",
       "┌───────┬─────┬───────────┐\n",
       "│ name  ┆ age ┆ shoe_size │\n",
       "│ ---   ┆ --- ┆ ---       │\n",
       "│ str   ┆ i64 ┆ i64       │\n",
       "╞═══════╪═════╪═══════════╡\n",
       "│ Amotz ┆ 18  ┆ 44        │\n",
       "└───────┴─────┴───────────┘"
      ]
     },
     "execution_count": 96,
     "metadata": {},
     "output_type": "execute_result"
    }
   ],
   "source": [
    "# who is below-average age, but above-average shoe size?\n",
    "\n",
    "df.filter(\n",
    "    (pl.col('age') < pl.col('age').mean()) &\n",
    "    (pl.col('shoe_size') > pl.col('shoe_size').mean())\n",
    ")"
   ]
  },
  {
   "cell_type": "markdown",
   "metadata": {},
   "source": [
    "# What if we want to cut down the columns?\n",
    "\n",
    "The `filter` method is used to reduce the rows.\n",
    "\n",
    "The `select` method is used to select the columns.\n",
    "\n",
    "We can connect them via method chaining, and get only the rows and columns we want."
   ]
  },
  {
   "cell_type": "code",
   "execution_count": 104,
   "metadata": {},
   "outputs": [
    {
     "data": {
      "text/html": [
       "<div><style>\n",
       ".dataframe > thead > tr,\n",
       ".dataframe > tbody > tr {\n",
       "  text-align: right;\n",
       "  white-space: pre-wrap;\n",
       "}\n",
       "</style>\n",
       "<small>shape: (2, 3)</small><table border=\"1\" class=\"dataframe\"><thead><tr><th>name</th><th>age_in_years</th><th>age_in_months</th></tr><tr><td>str</td><td>i64</td><td>i64</td></tr></thead><tbody><tr><td>&quot;Atara&quot;</td><td>23</td><td>276</td></tr><tr><td>&quot;Shikma&quot;</td><td>21</td><td>252</td></tr></tbody></table></div>"
      ],
      "text/plain": [
       "shape: (2, 3)\n",
       "┌────────┬──────────────┬───────────────┐\n",
       "│ name   ┆ age_in_years ┆ age_in_months │\n",
       "│ ---    ┆ ---          ┆ ---           │\n",
       "│ str    ┆ i64          ┆ i64           │\n",
       "╞════════╪══════════════╪═══════════════╡\n",
       "│ Atara  ┆ 23           ┆ 276           │\n",
       "│ Shikma ┆ 21           ┆ 252           │\n",
       "└────────┴──────────────┴───────────────┘"
      ]
     },
     "execution_count": 104,
     "metadata": {},
     "output_type": "execute_result"
    }
   ],
   "source": [
    "# Get the name and age\n",
    "# of people whose shoe size is below average\n",
    "\n",
    "df.filter(\n",
    "    (pl.col('shoe_size') < pl.col('shoe_size').mean())    # keep only the rows that we mention here\n",
    ").select(\n",
    "    pl.col('name'),                                       # keep only the columns we mention here\n",
    "    pl.col('age').alias('age_in_years'),\n",
    "    (pl.col('age') * 12).alias('age_in_months')           # sneaky way to add a new column\n",
    ")"
   ]
  },
  {
   "cell_type": "markdown",
   "metadata": {},
   "source": [
    "# Reading from a CSV file\n",
    "\n",
    "It's very, very similar to what we do in Pandas: We use the `pl.read_csv` function.  It returns a data frame, in which every column of the CSV is a column in our data frame. There are many similar options, too -- to handle a lack of column names, rows we want to ignore, etc."
   ]
  },
  {
   "cell_type": "code",
   "execution_count": 106,
   "metadata": {},
   "outputs": [],
   "source": [
    "df.write_csv('family.csv')"
   ]
  },
  {
   "cell_type": "code",
   "execution_count": 107,
   "metadata": {},
   "outputs": [
    {
     "name": "stdout",
     "output_type": "stream",
     "text": [
      "name,age,shoe_size\n",
      "Reuven,54,46\n",
      "Atara,23,40\n",
      "Shikma,21,40\n",
      "Amotz,18,44\n"
     ]
    }
   ],
   "source": [
    "!cat family.csv"
   ]
  },
  {
   "cell_type": "code",
   "execution_count": 108,
   "metadata": {},
   "outputs": [],
   "source": [
    "family_data = pl.read_csv('family.csv')"
   ]
  },
  {
   "cell_type": "code",
   "execution_count": 109,
   "metadata": {},
   "outputs": [
    {
     "data": {
      "text/html": [
       "<div><style>\n",
       ".dataframe > thead > tr,\n",
       ".dataframe > tbody > tr {\n",
       "  text-align: right;\n",
       "  white-space: pre-wrap;\n",
       "}\n",
       "</style>\n",
       "<small>shape: (4, 3)</small><table border=\"1\" class=\"dataframe\"><thead><tr><th>name</th><th>age</th><th>shoe_size</th></tr><tr><td>str</td><td>i64</td><td>i64</td></tr></thead><tbody><tr><td>&quot;Reuven&quot;</td><td>54</td><td>46</td></tr><tr><td>&quot;Atara&quot;</td><td>23</td><td>40</td></tr><tr><td>&quot;Shikma&quot;</td><td>21</td><td>40</td></tr><tr><td>&quot;Amotz&quot;</td><td>18</td><td>44</td></tr></tbody></table></div>"
      ],
      "text/plain": [
       "shape: (4, 3)\n",
       "┌────────┬─────┬───────────┐\n",
       "│ name   ┆ age ┆ shoe_size │\n",
       "│ ---    ┆ --- ┆ ---       │\n",
       "│ str    ┆ i64 ┆ i64       │\n",
       "╞════════╪═════╪═══════════╡\n",
       "│ Reuven ┆ 54  ┆ 46        │\n",
       "│ Atara  ┆ 23  ┆ 40        │\n",
       "│ Shikma ┆ 21  ┆ 40        │\n",
       "│ Amotz  ┆ 18  ┆ 44        │\n",
       "└────────┴─────┴───────────┘"
      ]
     },
     "execution_count": 109,
     "metadata": {},
     "output_type": "execute_result"
    }
   ],
   "source": [
    "family_data"
   ]
  },
  {
   "cell_type": "code",
   "execution_count": 110,
   "metadata": {},
   "outputs": [
    {
     "data": {
      "text/html": [
       "<div><style>\n",
       ".dataframe > thead > tr,\n",
       ".dataframe > tbody > tr {\n",
       "  text-align: right;\n",
       "  white-space: pre-wrap;\n",
       "}\n",
       "</style>\n",
       "<small>shape: (2, 3)</small><table border=\"1\" class=\"dataframe\"><thead><tr><th>name</th><th>age_in_years</th><th>age_in_months</th></tr><tr><td>str</td><td>i64</td><td>i64</td></tr></thead><tbody><tr><td>&quot;Atara&quot;</td><td>23</td><td>276</td></tr><tr><td>&quot;Shikma&quot;</td><td>21</td><td>252</td></tr></tbody></table></div>"
      ],
      "text/plain": [
       "shape: (2, 3)\n",
       "┌────────┬──────────────┬───────────────┐\n",
       "│ name   ┆ age_in_years ┆ age_in_months │\n",
       "│ ---    ┆ ---          ┆ ---           │\n",
       "│ str    ┆ i64          ┆ i64           │\n",
       "╞════════╪══════════════╪═══════════════╡\n",
       "│ Atara  ┆ 23           ┆ 276           │\n",
       "│ Shikma ┆ 21           ┆ 252           │\n",
       "└────────┴──────────────┴───────────────┘"
      ]
     },
     "execution_count": 110,
     "metadata": {},
     "output_type": "execute_result"
    }
   ],
   "source": [
    "(\n",
    "    pl\n",
    "    .read_csv('family.csv')\n",
    "    .filter(\n",
    "        (pl.col('shoe_size') < pl.col('shoe_size').mean())    # keep only the rows that we mention here\n",
    "    ).select(\n",
    "        pl.col('name'),                                       # keep only the columns we mention here\n",
    "        pl.col('age').alias('age_in_years'),\n",
    "        (pl.col('age') * 12).alias('age_in_months')           # sneaky way to add a new column\n",
    "    )\n",
    ")"
   ]
  },
  {
   "cell_type": "code",
   "execution_count": 111,
   "metadata": {},
   "outputs": [
    {
     "ename": "ComputeError",
     "evalue": "could not parse `0.5` as dtype `i64` at column 'extra' (column number 14)\n\nThe current offset in the file is 653749 bytes.\n\nYou might want to try:\n- increasing `infer_schema_length` (e.g. `infer_schema_length=10000`),\n- specifying correct dtype with the `dtypes` argument\n- setting `ignore_errors` to `True`,\n- adding `0.5` to the `null_values` list.\n\nOriginal error: ```remaining bytes non-empty```",
     "output_type": "error",
     "traceback": [
      "\u001b[0;31m---------------------------------------------------------------------------\u001b[0m",
      "\u001b[0;31mComputeError\u001b[0m                              Traceback (most recent call last)",
      "Cell \u001b[0;32mIn[111], line 5\u001b[0m\n\u001b[1;32m      1\u001b[0m \u001b[38;5;66;03m# let's load my favorite data file, a 10,000-line collection of NYC taxi information \u001b[39;00m\n\u001b[1;32m      3\u001b[0m filename \u001b[38;5;241m=\u001b[39m \u001b[38;5;124m'\u001b[39m\u001b[38;5;124mtaxi.csv\u001b[39m\u001b[38;5;124m'\u001b[39m\n\u001b[0;32m----> 5\u001b[0m df \u001b[38;5;241m=\u001b[39m \u001b[43mpl\u001b[49m\u001b[38;5;241;43m.\u001b[39;49m\u001b[43mread_csv\u001b[49m\u001b[43m(\u001b[49m\u001b[43mfilename\u001b[49m\u001b[43m)\u001b[49m\n",
      "File \u001b[0;32m~/.pyenv/versions/3.12.5/lib/python3.12/site-packages/polars/_utils/deprecation.py:91\u001b[0m, in \u001b[0;36mdeprecate_renamed_parameter.<locals>.decorate.<locals>.wrapper\u001b[0;34m(*args, **kwargs)\u001b[0m\n\u001b[1;32m     86\u001b[0m \u001b[38;5;129m@wraps\u001b[39m(function)\n\u001b[1;32m     87\u001b[0m \u001b[38;5;28;01mdef\u001b[39;00m \u001b[38;5;21mwrapper\u001b[39m(\u001b[38;5;241m*\u001b[39margs: P\u001b[38;5;241m.\u001b[39margs, \u001b[38;5;241m*\u001b[39m\u001b[38;5;241m*\u001b[39mkwargs: P\u001b[38;5;241m.\u001b[39mkwargs) \u001b[38;5;241m-\u001b[39m\u001b[38;5;241m>\u001b[39m T:\n\u001b[1;32m     88\u001b[0m     _rename_keyword_argument(\n\u001b[1;32m     89\u001b[0m         old_name, new_name, kwargs, function\u001b[38;5;241m.\u001b[39m\u001b[38;5;18m__qualname__\u001b[39m, version\n\u001b[1;32m     90\u001b[0m     )\n\u001b[0;32m---> 91\u001b[0m     \u001b[38;5;28;01mreturn\u001b[39;00m \u001b[43mfunction\u001b[49m\u001b[43m(\u001b[49m\u001b[38;5;241;43m*\u001b[39;49m\u001b[43margs\u001b[49m\u001b[43m,\u001b[49m\u001b[43m \u001b[49m\u001b[38;5;241;43m*\u001b[39;49m\u001b[38;5;241;43m*\u001b[39;49m\u001b[43mkwargs\u001b[49m\u001b[43m)\u001b[49m\n",
      "File \u001b[0;32m~/.pyenv/versions/3.12.5/lib/python3.12/site-packages/polars/_utils/deprecation.py:91\u001b[0m, in \u001b[0;36mdeprecate_renamed_parameter.<locals>.decorate.<locals>.wrapper\u001b[0;34m(*args, **kwargs)\u001b[0m\n\u001b[1;32m     86\u001b[0m \u001b[38;5;129m@wraps\u001b[39m(function)\n\u001b[1;32m     87\u001b[0m \u001b[38;5;28;01mdef\u001b[39;00m \u001b[38;5;21mwrapper\u001b[39m(\u001b[38;5;241m*\u001b[39margs: P\u001b[38;5;241m.\u001b[39margs, \u001b[38;5;241m*\u001b[39m\u001b[38;5;241m*\u001b[39mkwargs: P\u001b[38;5;241m.\u001b[39mkwargs) \u001b[38;5;241m-\u001b[39m\u001b[38;5;241m>\u001b[39m T:\n\u001b[1;32m     88\u001b[0m     _rename_keyword_argument(\n\u001b[1;32m     89\u001b[0m         old_name, new_name, kwargs, function\u001b[38;5;241m.\u001b[39m\u001b[38;5;18m__qualname__\u001b[39m, version\n\u001b[1;32m     90\u001b[0m     )\n\u001b[0;32m---> 91\u001b[0m     \u001b[38;5;28;01mreturn\u001b[39;00m \u001b[43mfunction\u001b[49m\u001b[43m(\u001b[49m\u001b[38;5;241;43m*\u001b[39;49m\u001b[43margs\u001b[49m\u001b[43m,\u001b[49m\u001b[43m \u001b[49m\u001b[38;5;241;43m*\u001b[39;49m\u001b[38;5;241;43m*\u001b[39;49m\u001b[43mkwargs\u001b[49m\u001b[43m)\u001b[49m\n",
      "File \u001b[0;32m~/.pyenv/versions/3.12.5/lib/python3.12/site-packages/polars/_utils/deprecation.py:91\u001b[0m, in \u001b[0;36mdeprecate_renamed_parameter.<locals>.decorate.<locals>.wrapper\u001b[0;34m(*args, **kwargs)\u001b[0m\n\u001b[1;32m     86\u001b[0m \u001b[38;5;129m@wraps\u001b[39m(function)\n\u001b[1;32m     87\u001b[0m \u001b[38;5;28;01mdef\u001b[39;00m \u001b[38;5;21mwrapper\u001b[39m(\u001b[38;5;241m*\u001b[39margs: P\u001b[38;5;241m.\u001b[39margs, \u001b[38;5;241m*\u001b[39m\u001b[38;5;241m*\u001b[39mkwargs: P\u001b[38;5;241m.\u001b[39mkwargs) \u001b[38;5;241m-\u001b[39m\u001b[38;5;241m>\u001b[39m T:\n\u001b[1;32m     88\u001b[0m     _rename_keyword_argument(\n\u001b[1;32m     89\u001b[0m         old_name, new_name, kwargs, function\u001b[38;5;241m.\u001b[39m\u001b[38;5;18m__qualname__\u001b[39m, version\n\u001b[1;32m     90\u001b[0m     )\n\u001b[0;32m---> 91\u001b[0m     \u001b[38;5;28;01mreturn\u001b[39;00m \u001b[43mfunction\u001b[49m\u001b[43m(\u001b[49m\u001b[38;5;241;43m*\u001b[39;49m\u001b[43margs\u001b[49m\u001b[43m,\u001b[49m\u001b[43m \u001b[49m\u001b[38;5;241;43m*\u001b[39;49m\u001b[38;5;241;43m*\u001b[39;49m\u001b[43mkwargs\u001b[49m\u001b[43m)\u001b[49m\n",
      "File \u001b[0;32m~/.pyenv/versions/3.12.5/lib/python3.12/site-packages/polars/io/csv/functions.py:496\u001b[0m, in \u001b[0;36mread_csv\u001b[0;34m(source, has_header, columns, new_columns, separator, comment_prefix, quote_char, skip_rows, schema, schema_overrides, null_values, missing_utf8_is_empty_string, ignore_errors, try_parse_dates, n_threads, infer_schema, infer_schema_length, batch_size, n_rows, encoding, low_memory, rechunk, use_pyarrow, storage_options, skip_rows_after_header, row_index_name, row_index_offset, sample_size, eol_char, raise_if_empty, truncate_ragged_lines, decimal_comma, glob)\u001b[0m\n\u001b[1;32m    488\u001b[0m \u001b[38;5;28;01melse\u001b[39;00m:\n\u001b[1;32m    489\u001b[0m     \u001b[38;5;28;01mwith\u001b[39;00m prepare_file_arg(\n\u001b[1;32m    490\u001b[0m         source,\n\u001b[1;32m    491\u001b[0m         encoding\u001b[38;5;241m=\u001b[39mencoding,\n\u001b[0;32m   (...)\u001b[0m\n\u001b[1;32m    494\u001b[0m         storage_options\u001b[38;5;241m=\u001b[39mstorage_options,\n\u001b[1;32m    495\u001b[0m     ) \u001b[38;5;28;01mas\u001b[39;00m data:\n\u001b[0;32m--> 496\u001b[0m         df \u001b[38;5;241m=\u001b[39m \u001b[43m_read_csv_impl\u001b[49m\u001b[43m(\u001b[49m\n\u001b[1;32m    497\u001b[0m \u001b[43m            \u001b[49m\u001b[43mdata\u001b[49m\u001b[43m,\u001b[49m\n\u001b[1;32m    498\u001b[0m \u001b[43m            \u001b[49m\u001b[43mhas_header\u001b[49m\u001b[38;5;241;43m=\u001b[39;49m\u001b[43mhas_header\u001b[49m\u001b[43m,\u001b[49m\n\u001b[1;32m    499\u001b[0m \u001b[43m            \u001b[49m\u001b[43mcolumns\u001b[49m\u001b[38;5;241;43m=\u001b[39;49m\u001b[43mcolumns\u001b[49m\u001b[43m \u001b[49m\u001b[38;5;28;43;01mif\u001b[39;49;00m\u001b[43m \u001b[49m\u001b[43mcolumns\u001b[49m\u001b[43m \u001b[49m\u001b[38;5;28;43;01melse\u001b[39;49;00m\u001b[43m \u001b[49m\u001b[43mprojection\u001b[49m\u001b[43m,\u001b[49m\n\u001b[1;32m    500\u001b[0m \u001b[43m            \u001b[49m\u001b[43mseparator\u001b[49m\u001b[38;5;241;43m=\u001b[39;49m\u001b[43mseparator\u001b[49m\u001b[43m,\u001b[49m\n\u001b[1;32m    501\u001b[0m \u001b[43m            \u001b[49m\u001b[43mcomment_prefix\u001b[49m\u001b[38;5;241;43m=\u001b[39;49m\u001b[43mcomment_prefix\u001b[49m\u001b[43m,\u001b[49m\n\u001b[1;32m    502\u001b[0m \u001b[43m            \u001b[49m\u001b[43mquote_char\u001b[49m\u001b[38;5;241;43m=\u001b[39;49m\u001b[43mquote_char\u001b[49m\u001b[43m,\u001b[49m\n\u001b[1;32m    503\u001b[0m \u001b[43m            \u001b[49m\u001b[43mskip_rows\u001b[49m\u001b[38;5;241;43m=\u001b[39;49m\u001b[43mskip_rows\u001b[49m\u001b[43m,\u001b[49m\n\u001b[1;32m    504\u001b[0m \u001b[43m            \u001b[49m\u001b[43mschema_overrides\u001b[49m\u001b[38;5;241;43m=\u001b[39;49m\u001b[43mschema_overrides\u001b[49m\u001b[43m,\u001b[49m\n\u001b[1;32m    505\u001b[0m \u001b[43m            \u001b[49m\u001b[43mschema\u001b[49m\u001b[38;5;241;43m=\u001b[39;49m\u001b[43mschema\u001b[49m\u001b[43m,\u001b[49m\n\u001b[1;32m    506\u001b[0m \u001b[43m            \u001b[49m\u001b[43mnull_values\u001b[49m\u001b[38;5;241;43m=\u001b[39;49m\u001b[43mnull_values\u001b[49m\u001b[43m,\u001b[49m\n\u001b[1;32m    507\u001b[0m \u001b[43m            \u001b[49m\u001b[43mmissing_utf8_is_empty_string\u001b[49m\u001b[38;5;241;43m=\u001b[39;49m\u001b[43mmissing_utf8_is_empty_string\u001b[49m\u001b[43m,\u001b[49m\n\u001b[1;32m    508\u001b[0m \u001b[43m            \u001b[49m\u001b[43mignore_errors\u001b[49m\u001b[38;5;241;43m=\u001b[39;49m\u001b[43mignore_errors\u001b[49m\u001b[43m,\u001b[49m\n\u001b[1;32m    509\u001b[0m \u001b[43m            \u001b[49m\u001b[43mtry_parse_dates\u001b[49m\u001b[38;5;241;43m=\u001b[39;49m\u001b[43mtry_parse_dates\u001b[49m\u001b[43m,\u001b[49m\n\u001b[1;32m    510\u001b[0m \u001b[43m            \u001b[49m\u001b[43mn_threads\u001b[49m\u001b[38;5;241;43m=\u001b[39;49m\u001b[43mn_threads\u001b[49m\u001b[43m,\u001b[49m\n\u001b[1;32m    511\u001b[0m \u001b[43m            \u001b[49m\u001b[43minfer_schema_length\u001b[49m\u001b[38;5;241;43m=\u001b[39;49m\u001b[43minfer_schema_length\u001b[49m\u001b[43m,\u001b[49m\n\u001b[1;32m    512\u001b[0m \u001b[43m            \u001b[49m\u001b[43mbatch_size\u001b[49m\u001b[38;5;241;43m=\u001b[39;49m\u001b[43mbatch_size\u001b[49m\u001b[43m,\u001b[49m\n\u001b[1;32m    513\u001b[0m \u001b[43m            \u001b[49m\u001b[43mn_rows\u001b[49m\u001b[38;5;241;43m=\u001b[39;49m\u001b[43mn_rows\u001b[49m\u001b[43m,\u001b[49m\n\u001b[1;32m    514\u001b[0m \u001b[43m            \u001b[49m\u001b[43mencoding\u001b[49m\u001b[38;5;241;43m=\u001b[39;49m\u001b[43mencoding\u001b[49m\u001b[43m \u001b[49m\u001b[38;5;28;43;01mif\u001b[39;49;00m\u001b[43m \u001b[49m\u001b[43mencoding\u001b[49m\u001b[43m \u001b[49m\u001b[38;5;241;43m==\u001b[39;49m\u001b[43m \u001b[49m\u001b[38;5;124;43m\"\u001b[39;49m\u001b[38;5;124;43mutf8-lossy\u001b[39;49m\u001b[38;5;124;43m\"\u001b[39;49m\u001b[43m \u001b[49m\u001b[38;5;28;43;01melse\u001b[39;49;00m\u001b[43m \u001b[49m\u001b[38;5;124;43m\"\u001b[39;49m\u001b[38;5;124;43mutf8\u001b[39;49m\u001b[38;5;124;43m\"\u001b[39;49m\u001b[43m,\u001b[49m\n\u001b[1;32m    515\u001b[0m \u001b[43m            \u001b[49m\u001b[43mlow_memory\u001b[49m\u001b[38;5;241;43m=\u001b[39;49m\u001b[43mlow_memory\u001b[49m\u001b[43m,\u001b[49m\n\u001b[1;32m    516\u001b[0m \u001b[43m            \u001b[49m\u001b[43mrechunk\u001b[49m\u001b[38;5;241;43m=\u001b[39;49m\u001b[43mrechunk\u001b[49m\u001b[43m,\u001b[49m\n\u001b[1;32m    517\u001b[0m \u001b[43m            \u001b[49m\u001b[43mskip_rows_after_header\u001b[49m\u001b[38;5;241;43m=\u001b[39;49m\u001b[43mskip_rows_after_header\u001b[49m\u001b[43m,\u001b[49m\n\u001b[1;32m    518\u001b[0m \u001b[43m            \u001b[49m\u001b[43mrow_index_name\u001b[49m\u001b[38;5;241;43m=\u001b[39;49m\u001b[43mrow_index_name\u001b[49m\u001b[43m,\u001b[49m\n\u001b[1;32m    519\u001b[0m \u001b[43m            \u001b[49m\u001b[43mrow_index_offset\u001b[49m\u001b[38;5;241;43m=\u001b[39;49m\u001b[43mrow_index_offset\u001b[49m\u001b[43m,\u001b[49m\n\u001b[1;32m    520\u001b[0m \u001b[43m            \u001b[49m\u001b[43msample_size\u001b[49m\u001b[38;5;241;43m=\u001b[39;49m\u001b[43msample_size\u001b[49m\u001b[43m,\u001b[49m\n\u001b[1;32m    521\u001b[0m \u001b[43m            \u001b[49m\u001b[43meol_char\u001b[49m\u001b[38;5;241;43m=\u001b[39;49m\u001b[43meol_char\u001b[49m\u001b[43m,\u001b[49m\n\u001b[1;32m    522\u001b[0m \u001b[43m            \u001b[49m\u001b[43mraise_if_empty\u001b[49m\u001b[38;5;241;43m=\u001b[39;49m\u001b[43mraise_if_empty\u001b[49m\u001b[43m,\u001b[49m\n\u001b[1;32m    523\u001b[0m \u001b[43m            \u001b[49m\u001b[43mtruncate_ragged_lines\u001b[49m\u001b[38;5;241;43m=\u001b[39;49m\u001b[43mtruncate_ragged_lines\u001b[49m\u001b[43m,\u001b[49m\n\u001b[1;32m    524\u001b[0m \u001b[43m            \u001b[49m\u001b[43mdecimal_comma\u001b[49m\u001b[38;5;241;43m=\u001b[39;49m\u001b[43mdecimal_comma\u001b[49m\u001b[43m,\u001b[49m\n\u001b[1;32m    525\u001b[0m \u001b[43m            \u001b[49m\u001b[43mglob\u001b[49m\u001b[38;5;241;43m=\u001b[39;49m\u001b[43mglob\u001b[49m\u001b[43m,\u001b[49m\n\u001b[1;32m    526\u001b[0m \u001b[43m        \u001b[49m\u001b[43m)\u001b[49m\n\u001b[1;32m    528\u001b[0m \u001b[38;5;28;01mif\u001b[39;00m new_columns:\n\u001b[1;32m    529\u001b[0m     \u001b[38;5;28;01mreturn\u001b[39;00m _update_columns(df, new_columns)\n",
      "File \u001b[0;32m~/.pyenv/versions/3.12.5/lib/python3.12/site-packages/polars/io/csv/functions.py:642\u001b[0m, in \u001b[0;36m_read_csv_impl\u001b[0;34m(source, has_header, columns, separator, comment_prefix, quote_char, skip_rows, schema, schema_overrides, null_values, missing_utf8_is_empty_string, ignore_errors, try_parse_dates, n_threads, infer_schema_length, batch_size, n_rows, encoding, low_memory, rechunk, skip_rows_after_header, row_index_name, row_index_offset, sample_size, eol_char, raise_if_empty, truncate_ragged_lines, decimal_comma, glob)\u001b[0m\n\u001b[1;32m    638\u001b[0m         \u001b[38;5;28;01mraise\u001b[39;00m \u001b[38;5;167;01mValueError\u001b[39;00m(msg)\n\u001b[1;32m    640\u001b[0m projection, columns \u001b[38;5;241m=\u001b[39m parse_columns_arg(columns)\n\u001b[0;32m--> 642\u001b[0m pydf \u001b[38;5;241m=\u001b[39m \u001b[43mPyDataFrame\u001b[49m\u001b[38;5;241;43m.\u001b[39;49m\u001b[43mread_csv\u001b[49m\u001b[43m(\u001b[49m\n\u001b[1;32m    643\u001b[0m \u001b[43m    \u001b[49m\u001b[43msource\u001b[49m\u001b[43m,\u001b[49m\n\u001b[1;32m    644\u001b[0m \u001b[43m    \u001b[49m\u001b[43minfer_schema_length\u001b[49m\u001b[43m,\u001b[49m\n\u001b[1;32m    645\u001b[0m \u001b[43m    \u001b[49m\u001b[43mbatch_size\u001b[49m\u001b[43m,\u001b[49m\n\u001b[1;32m    646\u001b[0m \u001b[43m    \u001b[49m\u001b[43mhas_header\u001b[49m\u001b[43m,\u001b[49m\n\u001b[1;32m    647\u001b[0m \u001b[43m    \u001b[49m\u001b[43mignore_errors\u001b[49m\u001b[43m,\u001b[49m\n\u001b[1;32m    648\u001b[0m \u001b[43m    \u001b[49m\u001b[43mn_rows\u001b[49m\u001b[43m,\u001b[49m\n\u001b[1;32m    649\u001b[0m \u001b[43m    \u001b[49m\u001b[43mskip_rows\u001b[49m\u001b[43m,\u001b[49m\n\u001b[1;32m    650\u001b[0m \u001b[43m    \u001b[49m\u001b[43mprojection\u001b[49m\u001b[43m,\u001b[49m\n\u001b[1;32m    651\u001b[0m \u001b[43m    \u001b[49m\u001b[43mseparator\u001b[49m\u001b[43m,\u001b[49m\n\u001b[1;32m    652\u001b[0m \u001b[43m    \u001b[49m\u001b[43mrechunk\u001b[49m\u001b[43m,\u001b[49m\n\u001b[1;32m    653\u001b[0m \u001b[43m    \u001b[49m\u001b[43mcolumns\u001b[49m\u001b[43m,\u001b[49m\n\u001b[1;32m    654\u001b[0m \u001b[43m    \u001b[49m\u001b[43mencoding\u001b[49m\u001b[43m,\u001b[49m\n\u001b[1;32m    655\u001b[0m \u001b[43m    \u001b[49m\u001b[43mn_threads\u001b[49m\u001b[43m,\u001b[49m\n\u001b[1;32m    656\u001b[0m \u001b[43m    \u001b[49m\u001b[43mpath\u001b[49m\u001b[43m,\u001b[49m\n\u001b[1;32m    657\u001b[0m \u001b[43m    \u001b[49m\u001b[43mdtype_list\u001b[49m\u001b[43m,\u001b[49m\n\u001b[1;32m    658\u001b[0m \u001b[43m    \u001b[49m\u001b[43mdtype_slice\u001b[49m\u001b[43m,\u001b[49m\n\u001b[1;32m    659\u001b[0m \u001b[43m    \u001b[49m\u001b[43mlow_memory\u001b[49m\u001b[43m,\u001b[49m\n\u001b[1;32m    660\u001b[0m \u001b[43m    \u001b[49m\u001b[43mcomment_prefix\u001b[49m\u001b[43m,\u001b[49m\n\u001b[1;32m    661\u001b[0m \u001b[43m    \u001b[49m\u001b[43mquote_char\u001b[49m\u001b[43m,\u001b[49m\n\u001b[1;32m    662\u001b[0m \u001b[43m    \u001b[49m\u001b[43mprocessed_null_values\u001b[49m\u001b[43m,\u001b[49m\n\u001b[1;32m    663\u001b[0m \u001b[43m    \u001b[49m\u001b[43mmissing_utf8_is_empty_string\u001b[49m\u001b[43m,\u001b[49m\n\u001b[1;32m    664\u001b[0m \u001b[43m    \u001b[49m\u001b[43mtry_parse_dates\u001b[49m\u001b[43m,\u001b[49m\n\u001b[1;32m    665\u001b[0m \u001b[43m    \u001b[49m\u001b[43mskip_rows_after_header\u001b[49m\u001b[43m,\u001b[49m\n\u001b[1;32m    666\u001b[0m \u001b[43m    \u001b[49m\u001b[43mparse_row_index_args\u001b[49m\u001b[43m(\u001b[49m\u001b[43mrow_index_name\u001b[49m\u001b[43m,\u001b[49m\u001b[43m \u001b[49m\u001b[43mrow_index_offset\u001b[49m\u001b[43m)\u001b[49m\u001b[43m,\u001b[49m\n\u001b[1;32m    667\u001b[0m \u001b[43m    \u001b[49m\u001b[43msample_size\u001b[49m\u001b[38;5;241;43m=\u001b[39;49m\u001b[43msample_size\u001b[49m\u001b[43m,\u001b[49m\n\u001b[1;32m    668\u001b[0m \u001b[43m    \u001b[49m\u001b[43meol_char\u001b[49m\u001b[38;5;241;43m=\u001b[39;49m\u001b[43meol_char\u001b[49m\u001b[43m,\u001b[49m\n\u001b[1;32m    669\u001b[0m \u001b[43m    \u001b[49m\u001b[43mraise_if_empty\u001b[49m\u001b[38;5;241;43m=\u001b[39;49m\u001b[43mraise_if_empty\u001b[49m\u001b[43m,\u001b[49m\n\u001b[1;32m    670\u001b[0m \u001b[43m    \u001b[49m\u001b[43mtruncate_ragged_lines\u001b[49m\u001b[38;5;241;43m=\u001b[39;49m\u001b[43mtruncate_ragged_lines\u001b[49m\u001b[43m,\u001b[49m\n\u001b[1;32m    671\u001b[0m \u001b[43m    \u001b[49m\u001b[43mdecimal_comma\u001b[49m\u001b[38;5;241;43m=\u001b[39;49m\u001b[43mdecimal_comma\u001b[49m\u001b[43m,\u001b[49m\n\u001b[1;32m    672\u001b[0m \u001b[43m    \u001b[49m\u001b[43mschema\u001b[49m\u001b[38;5;241;43m=\u001b[39;49m\u001b[43mschema\u001b[49m\u001b[43m,\u001b[49m\n\u001b[1;32m    673\u001b[0m \u001b[43m\u001b[49m\u001b[43m)\u001b[49m\n\u001b[1;32m    674\u001b[0m \u001b[38;5;28;01mreturn\u001b[39;00m wrap_df(pydf)\n",
      "\u001b[0;31mComputeError\u001b[0m: could not parse `0.5` as dtype `i64` at column 'extra' (column number 14)\n\nThe current offset in the file is 653749 bytes.\n\nYou might want to try:\n- increasing `infer_schema_length` (e.g. `infer_schema_length=10000`),\n- specifying correct dtype with the `dtypes` argument\n- setting `ignore_errors` to `True`,\n- adding `0.5` to the `null_values` list.\n\nOriginal error: ```remaining bytes non-empty```"
     ]
    }
   ],
   "source": [
    "# let's load my favorite data file, a 10,000-line collection of NYC taxi information \n",
    "\n",
    "filename = 'taxi.csv'\n",
    "\n",
    "df = pl.read_csv(filename)"
   ]
  },
  {
   "cell_type": "code",
   "execution_count": 112,
   "metadata": {},
   "outputs": [],
   "source": [
    "df = pl.read_csv(filename, infer_schema_length=10000)"
   ]
  },
  {
   "cell_type": "code",
   "execution_count": 113,
   "metadata": {},
   "outputs": [
    {
     "data": {
      "text/plain": [
       "[Int64,\n",
       " String,\n",
       " String,\n",
       " Int64,\n",
       " Float64,\n",
       " Float64,\n",
       " Float64,\n",
       " Int64,\n",
       " String,\n",
       " Float64,\n",
       " Float64,\n",
       " Int64,\n",
       " Float64,\n",
       " Float64,\n",
       " Float64,\n",
       " Float64,\n",
       " Float64,\n",
       " Float64,\n",
       " Float64]"
      ]
     },
     "execution_count": 113,
     "metadata": {},
     "output_type": "execute_result"
    }
   ],
   "source": [
    "df.dtypes"
   ]
  },
  {
   "cell_type": "code",
   "execution_count": 114,
   "metadata": {},
   "outputs": [
    {
     "data": {
      "text/html": [
       "<div><style>\n",
       ".dataframe > thead > tr,\n",
       ".dataframe > tbody > tr {\n",
       "  text-align: right;\n",
       "  white-space: pre-wrap;\n",
       "}\n",
       "</style>\n",
       "<small>shape: (9_999,)</small><table border=\"1\" class=\"dataframe\"><thead><tr><th>extra</th></tr><tr><td>f64</td></tr></thead><tbody><tr><td>0.0</td></tr><tr><td>0.0</td></tr><tr><td>0.0</td></tr><tr><td>0.0</td></tr><tr><td>0.0</td></tr><tr><td>&hellip;</td></tr><tr><td>0.5</td></tr><tr><td>0.5</td></tr><tr><td>0.5</td></tr><tr><td>0.5</td></tr><tr><td>0.5</td></tr></tbody></table></div>"
      ],
      "text/plain": [
       "shape: (9_999,)\n",
       "Series: 'extra' [f64]\n",
       "[\n",
       "\t0.0\n",
       "\t0.0\n",
       "\t0.0\n",
       "\t0.0\n",
       "\t0.0\n",
       "\t…\n",
       "\t0.5\n",
       "\t0.5\n",
       "\t0.5\n",
       "\t0.5\n",
       "\t0.5\n",
       "]"
      ]
     },
     "execution_count": 114,
     "metadata": {},
     "output_type": "execute_result"
    }
   ],
   "source": [
    "df['extra']"
   ]
  },
  {
   "cell_type": "code",
   "execution_count": 115,
   "metadata": {},
   "outputs": [
    {
     "data": {
      "text/html": [
       "<div><style>\n",
       ".dataframe > thead > tr,\n",
       ".dataframe > tbody > tr {\n",
       "  text-align: right;\n",
       "  white-space: pre-wrap;\n",
       "}\n",
       "</style>\n",
       "<small>shape: (9_999, 19)</small><table border=\"1\" class=\"dataframe\"><thead><tr><th>VendorID</th><th>tpep_pickup_datetime</th><th>tpep_dropoff_datetime</th><th>passenger_count</th><th>trip_distance</th><th>pickup_longitude</th><th>pickup_latitude</th><th>RateCodeID</th><th>store_and_fwd_flag</th><th>dropoff_longitude</th><th>dropoff_latitude</th><th>payment_type</th><th>fare_amount</th><th>extra</th><th>mta_tax</th><th>tip_amount</th><th>tolls_amount</th><th>improvement_surcharge</th><th>total_amount</th></tr><tr><td>i64</td><td>str</td><td>str</td><td>i64</td><td>f64</td><td>f64</td><td>f64</td><td>i64</td><td>str</td><td>f64</td><td>f64</td><td>i64</td><td>f64</td><td>f64</td><td>f64</td><td>f64</td><td>f64</td><td>f64</td><td>f64</td></tr></thead><tbody><tr><td>2</td><td>&quot;2015-06-02 11:19:29&quot;</td><td>&quot;2015-06-02 11:47:52&quot;</td><td>1</td><td>1.63</td><td>-73.95443</td><td>40.764141</td><td>1</td><td>&quot;N&quot;</td><td>-73.974754</td><td>40.754093</td><td>2</td><td>17.0</td><td>0.0</td><td>0.5</td><td>0.0</td><td>0.0</td><td>0.3</td><td>17.8</td></tr><tr><td>2</td><td>&quot;2015-06-02 11:19:30&quot;</td><td>&quot;2015-06-02 11:27:56&quot;</td><td>1</td><td>0.46</td><td>-73.971443</td><td>40.758942</td><td>1</td><td>&quot;N&quot;</td><td>-73.978539</td><td>40.761909</td><td>1</td><td>6.5</td><td>0.0</td><td>0.5</td><td>1.0</td><td>0.0</td><td>0.3</td><td>8.3</td></tr><tr><td>2</td><td>&quot;2015-06-02 11:19:31&quot;</td><td>&quot;2015-06-02 11:30:30&quot;</td><td>1</td><td>0.87</td><td>-73.978111</td><td>40.738434</td><td>1</td><td>&quot;N&quot;</td><td>-73.990273</td><td>40.745438</td><td>1</td><td>8.0</td><td>0.0</td><td>0.5</td><td>2.2</td><td>0.0</td><td>0.3</td><td>11.0</td></tr><tr><td>2</td><td>&quot;2015-06-02 11:19:31&quot;</td><td>&quot;2015-06-02 11:39:02&quot;</td><td>1</td><td>2.13</td><td>-73.945892</td><td>40.773529</td><td>1</td><td>&quot;N&quot;</td><td>-73.971527</td><td>40.76033</td><td>1</td><td>13.5</td><td>0.0</td><td>0.5</td><td>2.86</td><td>0.0</td><td>0.3</td><td>17.16</td></tr><tr><td>1</td><td>&quot;2015-06-02 11:19:32&quot;</td><td>&quot;2015-06-02 11:32:49&quot;</td><td>1</td><td>1.4</td><td>-73.979088</td><td>40.776772</td><td>1</td><td>&quot;N&quot;</td><td>-73.982162</td><td>40.758999</td><td>2</td><td>9.5</td><td>0.0</td><td>0.5</td><td>0.0</td><td>0.0</td><td>0.3</td><td>10.3</td></tr><tr><td>&hellip;</td><td>&hellip;</td><td>&hellip;</td><td>&hellip;</td><td>&hellip;</td><td>&hellip;</td><td>&hellip;</td><td>&hellip;</td><td>&hellip;</td><td>&hellip;</td><td>&hellip;</td><td>&hellip;</td><td>&hellip;</td><td>&hellip;</td><td>&hellip;</td><td>&hellip;</td><td>&hellip;</td><td>&hellip;</td><td>&hellip;</td></tr><tr><td>1</td><td>&quot;2015-06-01 00:12:59&quot;</td><td>&quot;2015-06-01 00:24:18&quot;</td><td>1</td><td>2.7</td><td>-73.947792</td><td>40.814972</td><td>1</td><td>&quot;N&quot;</td><td>-73.973358</td><td>40.783638</td><td>2</td><td>11.0</td><td>0.5</td><td>0.5</td><td>0.0</td><td>0.0</td><td>0.3</td><td>12.3</td></tr><tr><td>1</td><td>&quot;2015-06-01 00:12:59&quot;</td><td>&quot;2015-06-01 00:28:16&quot;</td><td>1</td><td>4.5</td><td>-74.004066</td><td>40.747818</td><td>1</td><td>&quot;N&quot;</td><td>-73.953758</td><td>40.779285</td><td>1</td><td>16.0</td><td>0.5</td><td>0.5</td><td>3.0</td><td>0.0</td><td>0.3</td><td>20.3</td></tr><tr><td>2</td><td>&quot;2015-06-01 00:13:00&quot;</td><td>&quot;2015-06-01 00:37:25&quot;</td><td>1</td><td>5.59</td><td>-73.994377</td><td>40.766102</td><td>1</td><td>&quot;N&quot;</td><td>-73.903206</td><td>40.750546</td><td>2</td><td>21.0</td><td>0.5</td><td>0.5</td><td>0.0</td><td>0.0</td><td>0.3</td><td>22.3</td></tr><tr><td>2</td><td>&quot;2015-06-01 00:13:02&quot;</td><td>&quot;2015-06-01 00:19:10&quot;</td><td>6</td><td>1.54</td><td>-73.978302</td><td>40.748531</td><td>1</td><td>&quot;N&quot;</td><td>-73.989166</td><td>40.762852</td><td>2</td><td>6.5</td><td>0.5</td><td>0.5</td><td>0.0</td><td>0.0</td><td>0.3</td><td>7.8</td></tr><tr><td>1</td><td>&quot;2015-06-01 00:13:04&quot;</td><td>&quot;2015-06-01 00:36:33&quot;</td><td>1</td><td>5.8</td><td>-73.983215</td><td>40.726414</td><td>1</td><td>&quot;N&quot;</td><td>-73.924133</td><td>40.701645</td><td>1</td><td>21.0</td><td>0.5</td><td>0.5</td><td>4.45</td><td>0.0</td><td>0.3</td><td>26.75</td></tr></tbody></table></div>"
      ],
      "text/plain": [
       "shape: (9_999, 19)\n",
       "┌──────────┬───────────┬───────────┬───────────┬───┬───────────┬───────────┬───────────┬───────────┐\n",
       "│ VendorID ┆ tpep_pick ┆ tpep_drop ┆ passenger ┆ … ┆ tip_amoun ┆ tolls_amo ┆ improveme ┆ total_amo │\n",
       "│ ---      ┆ up_dateti ┆ off_datet ┆ _count    ┆   ┆ t         ┆ unt       ┆ nt_surcha ┆ unt       │\n",
       "│ i64      ┆ me        ┆ ime       ┆ ---       ┆   ┆ ---       ┆ ---       ┆ rge       ┆ ---       │\n",
       "│          ┆ ---       ┆ ---       ┆ i64       ┆   ┆ f64       ┆ f64       ┆ ---       ┆ f64       │\n",
       "│          ┆ str       ┆ str       ┆           ┆   ┆           ┆           ┆ f64       ┆           │\n",
       "╞══════════╪═══════════╪═══════════╪═══════════╪═══╪═══════════╪═══════════╪═══════════╪═══════════╡\n",
       "│ 2        ┆ 2015-06-0 ┆ 2015-06-0 ┆ 1         ┆ … ┆ 0.0       ┆ 0.0       ┆ 0.3       ┆ 17.8      │\n",
       "│          ┆ 2         ┆ 2         ┆           ┆   ┆           ┆           ┆           ┆           │\n",
       "│          ┆ 11:19:29  ┆ 11:47:52  ┆           ┆   ┆           ┆           ┆           ┆           │\n",
       "│ 2        ┆ 2015-06-0 ┆ 2015-06-0 ┆ 1         ┆ … ┆ 1.0       ┆ 0.0       ┆ 0.3       ┆ 8.3       │\n",
       "│          ┆ 2         ┆ 2         ┆           ┆   ┆           ┆           ┆           ┆           │\n",
       "│          ┆ 11:19:30  ┆ 11:27:56  ┆           ┆   ┆           ┆           ┆           ┆           │\n",
       "│ 2        ┆ 2015-06-0 ┆ 2015-06-0 ┆ 1         ┆ … ┆ 2.2       ┆ 0.0       ┆ 0.3       ┆ 11.0      │\n",
       "│          ┆ 2         ┆ 2         ┆           ┆   ┆           ┆           ┆           ┆           │\n",
       "│          ┆ 11:19:31  ┆ 11:30:30  ┆           ┆   ┆           ┆           ┆           ┆           │\n",
       "│ 2        ┆ 2015-06-0 ┆ 2015-06-0 ┆ 1         ┆ … ┆ 2.86      ┆ 0.0       ┆ 0.3       ┆ 17.16     │\n",
       "│          ┆ 2         ┆ 2         ┆           ┆   ┆           ┆           ┆           ┆           │\n",
       "│          ┆ 11:19:31  ┆ 11:39:02  ┆           ┆   ┆           ┆           ┆           ┆           │\n",
       "│ 1        ┆ 2015-06-0 ┆ 2015-06-0 ┆ 1         ┆ … ┆ 0.0       ┆ 0.0       ┆ 0.3       ┆ 10.3      │\n",
       "│          ┆ 2         ┆ 2         ┆           ┆   ┆           ┆           ┆           ┆           │\n",
       "│          ┆ 11:19:32  ┆ 11:32:49  ┆           ┆   ┆           ┆           ┆           ┆           │\n",
       "│ …        ┆ …         ┆ …         ┆ …         ┆ … ┆ …         ┆ …         ┆ …         ┆ …         │\n",
       "│ 1        ┆ 2015-06-0 ┆ 2015-06-0 ┆ 1         ┆ … ┆ 0.0       ┆ 0.0       ┆ 0.3       ┆ 12.3      │\n",
       "│          ┆ 1         ┆ 1         ┆           ┆   ┆           ┆           ┆           ┆           │\n",
       "│          ┆ 00:12:59  ┆ 00:24:18  ┆           ┆   ┆           ┆           ┆           ┆           │\n",
       "│ 1        ┆ 2015-06-0 ┆ 2015-06-0 ┆ 1         ┆ … ┆ 3.0       ┆ 0.0       ┆ 0.3       ┆ 20.3      │\n",
       "│          ┆ 1         ┆ 1         ┆           ┆   ┆           ┆           ┆           ┆           │\n",
       "│          ┆ 00:12:59  ┆ 00:28:16  ┆           ┆   ┆           ┆           ┆           ┆           │\n",
       "│ 2        ┆ 2015-06-0 ┆ 2015-06-0 ┆ 1         ┆ … ┆ 0.0       ┆ 0.0       ┆ 0.3       ┆ 22.3      │\n",
       "│          ┆ 1         ┆ 1         ┆           ┆   ┆           ┆           ┆           ┆           │\n",
       "│          ┆ 00:13:00  ┆ 00:37:25  ┆           ┆   ┆           ┆           ┆           ┆           │\n",
       "│ 2        ┆ 2015-06-0 ┆ 2015-06-0 ┆ 6         ┆ … ┆ 0.0       ┆ 0.0       ┆ 0.3       ┆ 7.8       │\n",
       "│          ┆ 1         ┆ 1         ┆           ┆   ┆           ┆           ┆           ┆           │\n",
       "│          ┆ 00:13:02  ┆ 00:19:10  ┆           ┆   ┆           ┆           ┆           ┆           │\n",
       "│ 1        ┆ 2015-06-0 ┆ 2015-06-0 ┆ 1         ┆ … ┆ 4.45      ┆ 0.0       ┆ 0.3       ┆ 26.75     │\n",
       "│          ┆ 1         ┆ 1         ┆           ┆   ┆           ┆           ┆           ┆           │\n",
       "│          ┆ 00:13:04  ┆ 00:36:33  ┆           ┆   ┆           ┆           ┆           ┆           │\n",
       "└──────────┴───────────┴───────────┴───────────┴───┴───────────┴───────────┴───────────┴───────────┘"
      ]
     },
     "execution_count": 115,
     "metadata": {},
     "output_type": "execute_result"
    }
   ],
   "source": [
    "df"
   ]
  },
  {
   "cell_type": "markdown",
   "metadata": {},
   "source": [
    "# Exercise: Taxi CSV stuff\n",
    "\n",
    "1. Load `taxi.csv` (you can get it from GitHub, or from https://files.lerner.co.il/data-science-exercise-files.zip) into a data frame.\n",
    "2. Find the mean `trip_distance` where the `passenger_count` is > 1.\n",
    "3. How many trips had a `total_amount` of <= 0?"
   ]
  },
  {
   "cell_type": "code",
   "execution_count": 116,
   "metadata": {},
   "outputs": [],
   "source": [
    "filename = 'taxi.csv'\n",
    "\n",
    "df = pl.read_csv(filename, infer_schema_length=10000)"
   ]
  },
  {
   "cell_type": "code",
   "execution_count": 120,
   "metadata": {},
   "outputs": [
    {
     "data": {
      "text/html": [
       "<div><style>\n",
       ".dataframe > thead > tr,\n",
       ".dataframe > tbody > tr {\n",
       "  text-align: right;\n",
       "  white-space: pre-wrap;\n",
       "}\n",
       "</style>\n",
       "<small>shape: (1, 1)</small><table border=\"1\" class=\"dataframe\"><thead><tr><th>trip_distance</th></tr><tr><td>f64</td></tr></thead><tbody><tr><td>3.328412</td></tr></tbody></table></div>"
      ],
      "text/plain": [
       "shape: (1, 1)\n",
       "┌───────────────┐\n",
       "│ trip_distance │\n",
       "│ ---           │\n",
       "│ f64           │\n",
       "╞═══════════════╡\n",
       "│ 3.328412      │\n",
       "└───────────────┘"
      ]
     },
     "execution_count": 120,
     "metadata": {},
     "output_type": "execute_result"
    }
   ],
   "source": [
    "# find the mean trip_distance where passenger_count is > 1\n",
    "\n",
    "(\n",
    "    df\n",
    "    .filter(    # keep only those rows where passenger_count > 1\n",
    "        pl.col('passenger_count') > 1\n",
    "    ).select(   # keep only the trip_distance column\n",
    "        pl.col('trip_distance')\n",
    "    )\n",
    "    .mean()     # invoke a method on that column\n",
    ")"
   ]
  },
  {
   "cell_type": "code",
   "execution_count": 121,
   "metadata": {},
   "outputs": [
    {
     "data": {
      "text/html": [
       "<div><style>\n",
       ".dataframe > thead > tr,\n",
       ".dataframe > tbody > tr {\n",
       "  text-align: right;\n",
       "  white-space: pre-wrap;\n",
       "}\n",
       "</style>\n",
       "<small>shape: (1, 2)</small><table border=\"1\" class=\"dataframe\"><thead><tr><th>trip_distance</th><th>total_amount</th></tr><tr><td>f64</td><td>f64</td></tr></thead><tbody><tr><td>3.328412</td><td>18.021774</td></tr></tbody></table></div>"
      ],
      "text/plain": [
       "shape: (1, 2)\n",
       "┌───────────────┬──────────────┐\n",
       "│ trip_distance ┆ total_amount │\n",
       "│ ---           ┆ ---          │\n",
       "│ f64           ┆ f64          │\n",
       "╞═══════════════╪══════════════╡\n",
       "│ 3.328412      ┆ 18.021774    │\n",
       "└───────────────┴──────────────┘"
      ]
     },
     "execution_count": 121,
     "metadata": {},
     "output_type": "execute_result"
    }
   ],
   "source": [
    "# what if I wanted trip_distance and total_amount?\n",
    "\n",
    "# find the mean trip_distance where passenger_count is > 1\n",
    "\n",
    "(\n",
    "    df\n",
    "    .filter(    # keep only those rows where passenger_count > 1\n",
    "        pl.col('passenger_count') > 1\n",
    "    ).select(   \n",
    "        pl.col('trip_distance'),\n",
    "        pl.col('total_amount')\n",
    "    )\n",
    "    .mean()     # invoke a method on those two columns\n",
    ")"
   ]
  },
  {
   "cell_type": "code",
   "execution_count": 125,
   "metadata": {},
   "outputs": [
    {
     "data": {
      "text/html": [
       "<div><style>\n",
       ".dataframe > thead > tr,\n",
       ".dataframe > tbody > tr {\n",
       "  text-align: right;\n",
       "  white-space: pre-wrap;\n",
       "}\n",
       "</style>\n",
       "<small>shape: (1, 1)</small><table border=\"1\" class=\"dataframe\"><thead><tr><th>VendorID</th></tr><tr><td>u32</td></tr></thead><tbody><tr><td>3</td></tr></tbody></table></div>"
      ],
      "text/plain": [
       "shape: (1, 1)\n",
       "┌──────────┐\n",
       "│ VendorID │\n",
       "│ ---      │\n",
       "│ u32      │\n",
       "╞══════════╡\n",
       "│ 3        │\n",
       "└──────────┘"
      ]
     },
     "execution_count": 125,
     "metadata": {},
     "output_type": "execute_result"
    }
   ],
   "source": [
    "# How many trips had a total_amount of <= 0?\n",
    "\n",
    "(\n",
    "    df\n",
    "    .filter(  # keep only those rows where total_amount <= 0\n",
    "        pl.col('total_amount') <= 0\n",
    "    )\n",
    "    .select(\n",
    "        'VendorID'   # only keep this column, for easier reading of the results\n",
    "    )\n",
    "    .count()\n",
    ")"
   ]
  },
  {
   "cell_type": "markdown",
   "metadata": {},
   "source": [
    "# Next up\n",
    "\n",
    "1. `with_columns`\n",
    "2. Sorting\n",
    "3. Grouping\n",
    "4. Pivot tables\n",
    "5. Lazy/eager API\n",
    "\n",
    "Resume at :35"
   ]
  },
  {
   "cell_type": "code",
   "execution_count": 126,
   "metadata": {},
   "outputs": [
    {
     "data": {
      "text/html": [
       "<div><style>\n",
       ".dataframe > thead > tr,\n",
       ".dataframe > tbody > tr {\n",
       "  text-align: right;\n",
       "  white-space: pre-wrap;\n",
       "}\n",
       "</style>\n",
       "<small>shape: (5, 19)</small><table border=\"1\" class=\"dataframe\"><thead><tr><th>VendorID</th><th>tpep_pickup_datetime</th><th>tpep_dropoff_datetime</th><th>passenger_count</th><th>trip_distance</th><th>pickup_longitude</th><th>pickup_latitude</th><th>RateCodeID</th><th>store_and_fwd_flag</th><th>dropoff_longitude</th><th>dropoff_latitude</th><th>payment_type</th><th>fare_amount</th><th>extra</th><th>mta_tax</th><th>tip_amount</th><th>tolls_amount</th><th>improvement_surcharge</th><th>total_amount</th></tr><tr><td>i64</td><td>str</td><td>str</td><td>i64</td><td>f64</td><td>f64</td><td>f64</td><td>i64</td><td>str</td><td>f64</td><td>f64</td><td>i64</td><td>f64</td><td>f64</td><td>f64</td><td>f64</td><td>f64</td><td>f64</td><td>f64</td></tr></thead><tbody><tr><td>2</td><td>&quot;2015-06-02 11:19:29&quot;</td><td>&quot;2015-06-02 11:47:52&quot;</td><td>1</td><td>1.63</td><td>-73.95443</td><td>40.764141</td><td>1</td><td>&quot;N&quot;</td><td>-73.974754</td><td>40.754093</td><td>2</td><td>17.0</td><td>0.0</td><td>0.5</td><td>0.0</td><td>0.0</td><td>0.3</td><td>17.8</td></tr><tr><td>2</td><td>&quot;2015-06-02 11:19:30&quot;</td><td>&quot;2015-06-02 11:27:56&quot;</td><td>1</td><td>0.46</td><td>-73.971443</td><td>40.758942</td><td>1</td><td>&quot;N&quot;</td><td>-73.978539</td><td>40.761909</td><td>1</td><td>6.5</td><td>0.0</td><td>0.5</td><td>1.0</td><td>0.0</td><td>0.3</td><td>8.3</td></tr><tr><td>2</td><td>&quot;2015-06-02 11:19:31&quot;</td><td>&quot;2015-06-02 11:30:30&quot;</td><td>1</td><td>0.87</td><td>-73.978111</td><td>40.738434</td><td>1</td><td>&quot;N&quot;</td><td>-73.990273</td><td>40.745438</td><td>1</td><td>8.0</td><td>0.0</td><td>0.5</td><td>2.2</td><td>0.0</td><td>0.3</td><td>11.0</td></tr><tr><td>2</td><td>&quot;2015-06-02 11:19:31&quot;</td><td>&quot;2015-06-02 11:39:02&quot;</td><td>1</td><td>2.13</td><td>-73.945892</td><td>40.773529</td><td>1</td><td>&quot;N&quot;</td><td>-73.971527</td><td>40.76033</td><td>1</td><td>13.5</td><td>0.0</td><td>0.5</td><td>2.86</td><td>0.0</td><td>0.3</td><td>17.16</td></tr><tr><td>1</td><td>&quot;2015-06-02 11:19:32&quot;</td><td>&quot;2015-06-02 11:32:49&quot;</td><td>1</td><td>1.4</td><td>-73.979088</td><td>40.776772</td><td>1</td><td>&quot;N&quot;</td><td>-73.982162</td><td>40.758999</td><td>2</td><td>9.5</td><td>0.0</td><td>0.5</td><td>0.0</td><td>0.0</td><td>0.3</td><td>10.3</td></tr></tbody></table></div>"
      ],
      "text/plain": [
       "shape: (5, 19)\n",
       "┌──────────┬───────────┬───────────┬───────────┬───┬───────────┬───────────┬───────────┬───────────┐\n",
       "│ VendorID ┆ tpep_pick ┆ tpep_drop ┆ passenger ┆ … ┆ tip_amoun ┆ tolls_amo ┆ improveme ┆ total_amo │\n",
       "│ ---      ┆ up_dateti ┆ off_datet ┆ _count    ┆   ┆ t         ┆ unt       ┆ nt_surcha ┆ unt       │\n",
       "│ i64      ┆ me        ┆ ime       ┆ ---       ┆   ┆ ---       ┆ ---       ┆ rge       ┆ ---       │\n",
       "│          ┆ ---       ┆ ---       ┆ i64       ┆   ┆ f64       ┆ f64       ┆ ---       ┆ f64       │\n",
       "│          ┆ str       ┆ str       ┆           ┆   ┆           ┆           ┆ f64       ┆           │\n",
       "╞══════════╪═══════════╪═══════════╪═══════════╪═══╪═══════════╪═══════════╪═══════════╪═══════════╡\n",
       "│ 2        ┆ 2015-06-0 ┆ 2015-06-0 ┆ 1         ┆ … ┆ 0.0       ┆ 0.0       ┆ 0.3       ┆ 17.8      │\n",
       "│          ┆ 2         ┆ 2         ┆           ┆   ┆           ┆           ┆           ┆           │\n",
       "│          ┆ 11:19:29  ┆ 11:47:52  ┆           ┆   ┆           ┆           ┆           ┆           │\n",
       "│ 2        ┆ 2015-06-0 ┆ 2015-06-0 ┆ 1         ┆ … ┆ 1.0       ┆ 0.0       ┆ 0.3       ┆ 8.3       │\n",
       "│          ┆ 2         ┆ 2         ┆           ┆   ┆           ┆           ┆           ┆           │\n",
       "│          ┆ 11:19:30  ┆ 11:27:56  ┆           ┆   ┆           ┆           ┆           ┆           │\n",
       "│ 2        ┆ 2015-06-0 ┆ 2015-06-0 ┆ 1         ┆ … ┆ 2.2       ┆ 0.0       ┆ 0.3       ┆ 11.0      │\n",
       "│          ┆ 2         ┆ 2         ┆           ┆   ┆           ┆           ┆           ┆           │\n",
       "│          ┆ 11:19:31  ┆ 11:30:30  ┆           ┆   ┆           ┆           ┆           ┆           │\n",
       "│ 2        ┆ 2015-06-0 ┆ 2015-06-0 ┆ 1         ┆ … ┆ 2.86      ┆ 0.0       ┆ 0.3       ┆ 17.16     │\n",
       "│          ┆ 2         ┆ 2         ┆           ┆   ┆           ┆           ┆           ┆           │\n",
       "│          ┆ 11:19:31  ┆ 11:39:02  ┆           ┆   ┆           ┆           ┆           ┆           │\n",
       "│ 1        ┆ 2015-06-0 ┆ 2015-06-0 ┆ 1         ┆ … ┆ 0.0       ┆ 0.0       ┆ 0.3       ┆ 10.3      │\n",
       "│          ┆ 2         ┆ 2         ┆           ┆   ┆           ┆           ┆           ┆           │\n",
       "│          ┆ 11:19:32  ┆ 11:32:49  ┆           ┆   ┆           ┆           ┆           ┆           │\n",
       "└──────────┴───────────┴───────────┴───────────┴───┴───────────┴───────────┴───────────┴───────────┘"
      ]
     },
     "execution_count": 126,
     "metadata": {},
     "output_type": "execute_result"
    }
   ],
   "source": [
    "df.head()"
   ]
  },
  {
   "cell_type": "code",
   "execution_count": 128,
   "metadata": {
    "scrolled": true
   },
   "outputs": [
    {
     "data": {
      "text/html": [
       "<div><style>\n",
       ".dataframe > thead > tr,\n",
       ".dataframe > tbody > tr {\n",
       "  text-align: right;\n",
       "  white-space: pre-wrap;\n",
       "}\n",
       "</style>\n",
       "<small>shape: (9_999, 20)</small><table border=\"1\" class=\"dataframe\"><thead><tr><th>VendorID</th><th>tpep_pickup_datetime</th><th>tpep_dropoff_datetime</th><th>passenger_count</th><th>trip_distance</th><th>pickup_longitude</th><th>pickup_latitude</th><th>RateCodeID</th><th>store_and_fwd_flag</th><th>dropoff_longitude</th><th>dropoff_latitude</th><th>payment_type</th><th>fare_amount</th><th>extra</th><th>mta_tax</th><th>tip_amount</th><th>tolls_amount</th><th>improvement_surcharge</th><th>total_amount</th><th>pc_times_2</th></tr><tr><td>i64</td><td>str</td><td>str</td><td>i64</td><td>f64</td><td>f64</td><td>f64</td><td>i64</td><td>str</td><td>f64</td><td>f64</td><td>i64</td><td>f64</td><td>f64</td><td>f64</td><td>f64</td><td>f64</td><td>f64</td><td>f64</td><td>i64</td></tr></thead><tbody><tr><td>2</td><td>&quot;2015-06-02 11:19:29&quot;</td><td>&quot;2015-06-02 11:47:52&quot;</td><td>1</td><td>1.63</td><td>-73.95443</td><td>40.764141</td><td>1</td><td>&quot;N&quot;</td><td>-73.974754</td><td>40.754093</td><td>2</td><td>17.0</td><td>0.0</td><td>0.5</td><td>0.0</td><td>0.0</td><td>0.3</td><td>17.8</td><td>2</td></tr><tr><td>2</td><td>&quot;2015-06-02 11:19:30&quot;</td><td>&quot;2015-06-02 11:27:56&quot;</td><td>1</td><td>0.46</td><td>-73.971443</td><td>40.758942</td><td>1</td><td>&quot;N&quot;</td><td>-73.978539</td><td>40.761909</td><td>1</td><td>6.5</td><td>0.0</td><td>0.5</td><td>1.0</td><td>0.0</td><td>0.3</td><td>8.3</td><td>2</td></tr><tr><td>2</td><td>&quot;2015-06-02 11:19:31&quot;</td><td>&quot;2015-06-02 11:30:30&quot;</td><td>1</td><td>0.87</td><td>-73.978111</td><td>40.738434</td><td>1</td><td>&quot;N&quot;</td><td>-73.990273</td><td>40.745438</td><td>1</td><td>8.0</td><td>0.0</td><td>0.5</td><td>2.2</td><td>0.0</td><td>0.3</td><td>11.0</td><td>2</td></tr><tr><td>2</td><td>&quot;2015-06-02 11:19:31&quot;</td><td>&quot;2015-06-02 11:39:02&quot;</td><td>1</td><td>2.13</td><td>-73.945892</td><td>40.773529</td><td>1</td><td>&quot;N&quot;</td><td>-73.971527</td><td>40.76033</td><td>1</td><td>13.5</td><td>0.0</td><td>0.5</td><td>2.86</td><td>0.0</td><td>0.3</td><td>17.16</td><td>2</td></tr><tr><td>1</td><td>&quot;2015-06-02 11:19:32&quot;</td><td>&quot;2015-06-02 11:32:49&quot;</td><td>1</td><td>1.4</td><td>-73.979088</td><td>40.776772</td><td>1</td><td>&quot;N&quot;</td><td>-73.982162</td><td>40.758999</td><td>2</td><td>9.5</td><td>0.0</td><td>0.5</td><td>0.0</td><td>0.0</td><td>0.3</td><td>10.3</td><td>2</td></tr><tr><td>&hellip;</td><td>&hellip;</td><td>&hellip;</td><td>&hellip;</td><td>&hellip;</td><td>&hellip;</td><td>&hellip;</td><td>&hellip;</td><td>&hellip;</td><td>&hellip;</td><td>&hellip;</td><td>&hellip;</td><td>&hellip;</td><td>&hellip;</td><td>&hellip;</td><td>&hellip;</td><td>&hellip;</td><td>&hellip;</td><td>&hellip;</td><td>&hellip;</td></tr><tr><td>1</td><td>&quot;2015-06-01 00:12:59&quot;</td><td>&quot;2015-06-01 00:24:18&quot;</td><td>1</td><td>2.7</td><td>-73.947792</td><td>40.814972</td><td>1</td><td>&quot;N&quot;</td><td>-73.973358</td><td>40.783638</td><td>2</td><td>11.0</td><td>0.5</td><td>0.5</td><td>0.0</td><td>0.0</td><td>0.3</td><td>12.3</td><td>2</td></tr><tr><td>1</td><td>&quot;2015-06-01 00:12:59&quot;</td><td>&quot;2015-06-01 00:28:16&quot;</td><td>1</td><td>4.5</td><td>-74.004066</td><td>40.747818</td><td>1</td><td>&quot;N&quot;</td><td>-73.953758</td><td>40.779285</td><td>1</td><td>16.0</td><td>0.5</td><td>0.5</td><td>3.0</td><td>0.0</td><td>0.3</td><td>20.3</td><td>2</td></tr><tr><td>2</td><td>&quot;2015-06-01 00:13:00&quot;</td><td>&quot;2015-06-01 00:37:25&quot;</td><td>1</td><td>5.59</td><td>-73.994377</td><td>40.766102</td><td>1</td><td>&quot;N&quot;</td><td>-73.903206</td><td>40.750546</td><td>2</td><td>21.0</td><td>0.5</td><td>0.5</td><td>0.0</td><td>0.0</td><td>0.3</td><td>22.3</td><td>2</td></tr><tr><td>2</td><td>&quot;2015-06-01 00:13:02&quot;</td><td>&quot;2015-06-01 00:19:10&quot;</td><td>6</td><td>1.54</td><td>-73.978302</td><td>40.748531</td><td>1</td><td>&quot;N&quot;</td><td>-73.989166</td><td>40.762852</td><td>2</td><td>6.5</td><td>0.5</td><td>0.5</td><td>0.0</td><td>0.0</td><td>0.3</td><td>7.8</td><td>12</td></tr><tr><td>1</td><td>&quot;2015-06-01 00:13:04&quot;</td><td>&quot;2015-06-01 00:36:33&quot;</td><td>1</td><td>5.8</td><td>-73.983215</td><td>40.726414</td><td>1</td><td>&quot;N&quot;</td><td>-73.924133</td><td>40.701645</td><td>1</td><td>21.0</td><td>0.5</td><td>0.5</td><td>4.45</td><td>0.0</td><td>0.3</td><td>26.75</td><td>2</td></tr></tbody></table></div>"
      ],
      "text/plain": [
       "shape: (9_999, 20)\n",
       "┌──────────┬───────────┬───────────┬───────────┬───┬───────────┬───────────┬───────────┬───────────┐\n",
       "│ VendorID ┆ tpep_pick ┆ tpep_drop ┆ passenger ┆ … ┆ tolls_amo ┆ improveme ┆ total_amo ┆ pc_times_ │\n",
       "│ ---      ┆ up_dateti ┆ off_datet ┆ _count    ┆   ┆ unt       ┆ nt_surcha ┆ unt       ┆ 2         │\n",
       "│ i64      ┆ me        ┆ ime       ┆ ---       ┆   ┆ ---       ┆ rge       ┆ ---       ┆ ---       │\n",
       "│          ┆ ---       ┆ ---       ┆ i64       ┆   ┆ f64       ┆ ---       ┆ f64       ┆ i64       │\n",
       "│          ┆ str       ┆ str       ┆           ┆   ┆           ┆ f64       ┆           ┆           │\n",
       "╞══════════╪═══════════╪═══════════╪═══════════╪═══╪═══════════╪═══════════╪═══════════╪═══════════╡\n",
       "│ 2        ┆ 2015-06-0 ┆ 2015-06-0 ┆ 1         ┆ … ┆ 0.0       ┆ 0.3       ┆ 17.8      ┆ 2         │\n",
       "│          ┆ 2         ┆ 2         ┆           ┆   ┆           ┆           ┆           ┆           │\n",
       "│          ┆ 11:19:29  ┆ 11:47:52  ┆           ┆   ┆           ┆           ┆           ┆           │\n",
       "│ 2        ┆ 2015-06-0 ┆ 2015-06-0 ┆ 1         ┆ … ┆ 0.0       ┆ 0.3       ┆ 8.3       ┆ 2         │\n",
       "│          ┆ 2         ┆ 2         ┆           ┆   ┆           ┆           ┆           ┆           │\n",
       "│          ┆ 11:19:30  ┆ 11:27:56  ┆           ┆   ┆           ┆           ┆           ┆           │\n",
       "│ 2        ┆ 2015-06-0 ┆ 2015-06-0 ┆ 1         ┆ … ┆ 0.0       ┆ 0.3       ┆ 11.0      ┆ 2         │\n",
       "│          ┆ 2         ┆ 2         ┆           ┆   ┆           ┆           ┆           ┆           │\n",
       "│          ┆ 11:19:31  ┆ 11:30:30  ┆           ┆   ┆           ┆           ┆           ┆           │\n",
       "│ 2        ┆ 2015-06-0 ┆ 2015-06-0 ┆ 1         ┆ … ┆ 0.0       ┆ 0.3       ┆ 17.16     ┆ 2         │\n",
       "│          ┆ 2         ┆ 2         ┆           ┆   ┆           ┆           ┆           ┆           │\n",
       "│          ┆ 11:19:31  ┆ 11:39:02  ┆           ┆   ┆           ┆           ┆           ┆           │\n",
       "│ 1        ┆ 2015-06-0 ┆ 2015-06-0 ┆ 1         ┆ … ┆ 0.0       ┆ 0.3       ┆ 10.3      ┆ 2         │\n",
       "│          ┆ 2         ┆ 2         ┆           ┆   ┆           ┆           ┆           ┆           │\n",
       "│          ┆ 11:19:32  ┆ 11:32:49  ┆           ┆   ┆           ┆           ┆           ┆           │\n",
       "│ …        ┆ …         ┆ …         ┆ …         ┆ … ┆ …         ┆ …         ┆ …         ┆ …         │\n",
       "│ 1        ┆ 2015-06-0 ┆ 2015-06-0 ┆ 1         ┆ … ┆ 0.0       ┆ 0.3       ┆ 12.3      ┆ 2         │\n",
       "│          ┆ 1         ┆ 1         ┆           ┆   ┆           ┆           ┆           ┆           │\n",
       "│          ┆ 00:12:59  ┆ 00:24:18  ┆           ┆   ┆           ┆           ┆           ┆           │\n",
       "│ 1        ┆ 2015-06-0 ┆ 2015-06-0 ┆ 1         ┆ … ┆ 0.0       ┆ 0.3       ┆ 20.3      ┆ 2         │\n",
       "│          ┆ 1         ┆ 1         ┆           ┆   ┆           ┆           ┆           ┆           │\n",
       "│          ┆ 00:12:59  ┆ 00:28:16  ┆           ┆   ┆           ┆           ┆           ┆           │\n",
       "│ 2        ┆ 2015-06-0 ┆ 2015-06-0 ┆ 1         ┆ … ┆ 0.0       ┆ 0.3       ┆ 22.3      ┆ 2         │\n",
       "│          ┆ 1         ┆ 1         ┆           ┆   ┆           ┆           ┆           ┆           │\n",
       "│          ┆ 00:13:00  ┆ 00:37:25  ┆           ┆   ┆           ┆           ┆           ┆           │\n",
       "│ 2        ┆ 2015-06-0 ┆ 2015-06-0 ┆ 6         ┆ … ┆ 0.0       ┆ 0.3       ┆ 7.8       ┆ 12        │\n",
       "│          ┆ 1         ┆ 1         ┆           ┆   ┆           ┆           ┆           ┆           │\n",
       "│          ┆ 00:13:02  ┆ 00:19:10  ┆           ┆   ┆           ┆           ┆           ┆           │\n",
       "│ 1        ┆ 2015-06-0 ┆ 2015-06-0 ┆ 1         ┆ … ┆ 0.0       ┆ 0.3       ┆ 26.75     ┆ 2         │\n",
       "│          ┆ 1         ┆ 1         ┆           ┆   ┆           ┆           ┆           ┆           │\n",
       "│          ┆ 00:13:04  ┆ 00:36:33  ┆           ┆   ┆           ┆           ┆           ┆           │\n",
       "└──────────┴───────────┴───────────┴───────────┴───┴───────────┴───────────┴───────────┴───────────┘"
      ]
     },
     "execution_count": 128,
     "metadata": {},
     "output_type": "execute_result"
    }
   ],
   "source": [
    "(\n",
    "    df\n",
    "    .with_columns(\n",
    "        (pl.col('passenger_count') * 2).alias('pc_times_2')\n",
    "    )\n",
    ")"
   ]
  },
  {
   "cell_type": "code",
   "execution_count": 130,
   "metadata": {},
   "outputs": [
    {
     "data": {
      "text/html": [
       "<div><style>\n",
       ".dataframe > thead > tr,\n",
       ".dataframe > tbody > tr {\n",
       "  text-align: right;\n",
       "  white-space: pre-wrap;\n",
       "}\n",
       "</style>\n",
       "<small>shape: (9_999, 21)</small><table border=\"1\" class=\"dataframe\"><thead><tr><th>VendorID</th><th>tpep_pickup_datetime</th><th>tpep_dropoff_datetime</th><th>passenger_count</th><th>trip_distance</th><th>pickup_longitude</th><th>pickup_latitude</th><th>RateCodeID</th><th>store_and_fwd_flag</th><th>dropoff_longitude</th><th>dropoff_latitude</th><th>payment_type</th><th>fare_amount</th><th>extra</th><th>mta_tax</th><th>tip_amount</th><th>tolls_amount</th><th>improvement_surcharge</th><th>total_amount</th><th>pc_times_2</th><th>dollars_per_passenger</th></tr><tr><td>i64</td><td>str</td><td>str</td><td>i64</td><td>f64</td><td>f64</td><td>f64</td><td>i64</td><td>str</td><td>f64</td><td>f64</td><td>i64</td><td>f64</td><td>f64</td><td>f64</td><td>f64</td><td>f64</td><td>f64</td><td>f64</td><td>i64</td><td>f64</td></tr></thead><tbody><tr><td>2</td><td>&quot;2015-06-02 11:19:29&quot;</td><td>&quot;2015-06-02 11:47:52&quot;</td><td>1</td><td>1.63</td><td>-73.95443</td><td>40.764141</td><td>1</td><td>&quot;N&quot;</td><td>-73.974754</td><td>40.754093</td><td>2</td><td>17.0</td><td>0.0</td><td>0.5</td><td>0.0</td><td>0.0</td><td>0.3</td><td>17.8</td><td>2</td><td>17.8</td></tr><tr><td>2</td><td>&quot;2015-06-02 11:19:30&quot;</td><td>&quot;2015-06-02 11:27:56&quot;</td><td>1</td><td>0.46</td><td>-73.971443</td><td>40.758942</td><td>1</td><td>&quot;N&quot;</td><td>-73.978539</td><td>40.761909</td><td>1</td><td>6.5</td><td>0.0</td><td>0.5</td><td>1.0</td><td>0.0</td><td>0.3</td><td>8.3</td><td>2</td><td>8.3</td></tr><tr><td>2</td><td>&quot;2015-06-02 11:19:31&quot;</td><td>&quot;2015-06-02 11:30:30&quot;</td><td>1</td><td>0.87</td><td>-73.978111</td><td>40.738434</td><td>1</td><td>&quot;N&quot;</td><td>-73.990273</td><td>40.745438</td><td>1</td><td>8.0</td><td>0.0</td><td>0.5</td><td>2.2</td><td>0.0</td><td>0.3</td><td>11.0</td><td>2</td><td>11.0</td></tr><tr><td>2</td><td>&quot;2015-06-02 11:19:31&quot;</td><td>&quot;2015-06-02 11:39:02&quot;</td><td>1</td><td>2.13</td><td>-73.945892</td><td>40.773529</td><td>1</td><td>&quot;N&quot;</td><td>-73.971527</td><td>40.76033</td><td>1</td><td>13.5</td><td>0.0</td><td>0.5</td><td>2.86</td><td>0.0</td><td>0.3</td><td>17.16</td><td>2</td><td>17.16</td></tr><tr><td>1</td><td>&quot;2015-06-02 11:19:32&quot;</td><td>&quot;2015-06-02 11:32:49&quot;</td><td>1</td><td>1.4</td><td>-73.979088</td><td>40.776772</td><td>1</td><td>&quot;N&quot;</td><td>-73.982162</td><td>40.758999</td><td>2</td><td>9.5</td><td>0.0</td><td>0.5</td><td>0.0</td><td>0.0</td><td>0.3</td><td>10.3</td><td>2</td><td>10.3</td></tr><tr><td>&hellip;</td><td>&hellip;</td><td>&hellip;</td><td>&hellip;</td><td>&hellip;</td><td>&hellip;</td><td>&hellip;</td><td>&hellip;</td><td>&hellip;</td><td>&hellip;</td><td>&hellip;</td><td>&hellip;</td><td>&hellip;</td><td>&hellip;</td><td>&hellip;</td><td>&hellip;</td><td>&hellip;</td><td>&hellip;</td><td>&hellip;</td><td>&hellip;</td><td>&hellip;</td></tr><tr><td>1</td><td>&quot;2015-06-01 00:12:59&quot;</td><td>&quot;2015-06-01 00:24:18&quot;</td><td>1</td><td>2.7</td><td>-73.947792</td><td>40.814972</td><td>1</td><td>&quot;N&quot;</td><td>-73.973358</td><td>40.783638</td><td>2</td><td>11.0</td><td>0.5</td><td>0.5</td><td>0.0</td><td>0.0</td><td>0.3</td><td>12.3</td><td>2</td><td>12.3</td></tr><tr><td>1</td><td>&quot;2015-06-01 00:12:59&quot;</td><td>&quot;2015-06-01 00:28:16&quot;</td><td>1</td><td>4.5</td><td>-74.004066</td><td>40.747818</td><td>1</td><td>&quot;N&quot;</td><td>-73.953758</td><td>40.779285</td><td>1</td><td>16.0</td><td>0.5</td><td>0.5</td><td>3.0</td><td>0.0</td><td>0.3</td><td>20.3</td><td>2</td><td>20.3</td></tr><tr><td>2</td><td>&quot;2015-06-01 00:13:00&quot;</td><td>&quot;2015-06-01 00:37:25&quot;</td><td>1</td><td>5.59</td><td>-73.994377</td><td>40.766102</td><td>1</td><td>&quot;N&quot;</td><td>-73.903206</td><td>40.750546</td><td>2</td><td>21.0</td><td>0.5</td><td>0.5</td><td>0.0</td><td>0.0</td><td>0.3</td><td>22.3</td><td>2</td><td>22.3</td></tr><tr><td>2</td><td>&quot;2015-06-01 00:13:02&quot;</td><td>&quot;2015-06-01 00:19:10&quot;</td><td>6</td><td>1.54</td><td>-73.978302</td><td>40.748531</td><td>1</td><td>&quot;N&quot;</td><td>-73.989166</td><td>40.762852</td><td>2</td><td>6.5</td><td>0.5</td><td>0.5</td><td>0.0</td><td>0.0</td><td>0.3</td><td>7.8</td><td>12</td><td>1.3</td></tr><tr><td>1</td><td>&quot;2015-06-01 00:13:04&quot;</td><td>&quot;2015-06-01 00:36:33&quot;</td><td>1</td><td>5.8</td><td>-73.983215</td><td>40.726414</td><td>1</td><td>&quot;N&quot;</td><td>-73.924133</td><td>40.701645</td><td>1</td><td>21.0</td><td>0.5</td><td>0.5</td><td>4.45</td><td>0.0</td><td>0.3</td><td>26.75</td><td>2</td><td>26.75</td></tr></tbody></table></div>"
      ],
      "text/plain": [
       "shape: (9_999, 21)\n",
       "┌──────────┬───────────┬───────────┬───────────┬───┬───────────┬───────────┬───────────┬───────────┐\n",
       "│ VendorID ┆ tpep_pick ┆ tpep_drop ┆ passenger ┆ … ┆ improveme ┆ total_amo ┆ pc_times_ ┆ dollars_p │\n",
       "│ ---      ┆ up_dateti ┆ off_datet ┆ _count    ┆   ┆ nt_surcha ┆ unt       ┆ 2         ┆ er_passen │\n",
       "│ i64      ┆ me        ┆ ime       ┆ ---       ┆   ┆ rge       ┆ ---       ┆ ---       ┆ ger       │\n",
       "│          ┆ ---       ┆ ---       ┆ i64       ┆   ┆ ---       ┆ f64       ┆ i64       ┆ ---       │\n",
       "│          ┆ str       ┆ str       ┆           ┆   ┆ f64       ┆           ┆           ┆ f64       │\n",
       "╞══════════╪═══════════╪═══════════╪═══════════╪═══╪═══════════╪═══════════╪═══════════╪═══════════╡\n",
       "│ 2        ┆ 2015-06-0 ┆ 2015-06-0 ┆ 1         ┆ … ┆ 0.3       ┆ 17.8      ┆ 2         ┆ 17.8      │\n",
       "│          ┆ 2         ┆ 2         ┆           ┆   ┆           ┆           ┆           ┆           │\n",
       "│          ┆ 11:19:29  ┆ 11:47:52  ┆           ┆   ┆           ┆           ┆           ┆           │\n",
       "│ 2        ┆ 2015-06-0 ┆ 2015-06-0 ┆ 1         ┆ … ┆ 0.3       ┆ 8.3       ┆ 2         ┆ 8.3       │\n",
       "│          ┆ 2         ┆ 2         ┆           ┆   ┆           ┆           ┆           ┆           │\n",
       "│          ┆ 11:19:30  ┆ 11:27:56  ┆           ┆   ┆           ┆           ┆           ┆           │\n",
       "│ 2        ┆ 2015-06-0 ┆ 2015-06-0 ┆ 1         ┆ … ┆ 0.3       ┆ 11.0      ┆ 2         ┆ 11.0      │\n",
       "│          ┆ 2         ┆ 2         ┆           ┆   ┆           ┆           ┆           ┆           │\n",
       "│          ┆ 11:19:31  ┆ 11:30:30  ┆           ┆   ┆           ┆           ┆           ┆           │\n",
       "│ 2        ┆ 2015-06-0 ┆ 2015-06-0 ┆ 1         ┆ … ┆ 0.3       ┆ 17.16     ┆ 2         ┆ 17.16     │\n",
       "│          ┆ 2         ┆ 2         ┆           ┆   ┆           ┆           ┆           ┆           │\n",
       "│          ┆ 11:19:31  ┆ 11:39:02  ┆           ┆   ┆           ┆           ┆           ┆           │\n",
       "│ 1        ┆ 2015-06-0 ┆ 2015-06-0 ┆ 1         ┆ … ┆ 0.3       ┆ 10.3      ┆ 2         ┆ 10.3      │\n",
       "│          ┆ 2         ┆ 2         ┆           ┆   ┆           ┆           ┆           ┆           │\n",
       "│          ┆ 11:19:32  ┆ 11:32:49  ┆           ┆   ┆           ┆           ┆           ┆           │\n",
       "│ …        ┆ …         ┆ …         ┆ …         ┆ … ┆ …         ┆ …         ┆ …         ┆ …         │\n",
       "│ 1        ┆ 2015-06-0 ┆ 2015-06-0 ┆ 1         ┆ … ┆ 0.3       ┆ 12.3      ┆ 2         ┆ 12.3      │\n",
       "│          ┆ 1         ┆ 1         ┆           ┆   ┆           ┆           ┆           ┆           │\n",
       "│          ┆ 00:12:59  ┆ 00:24:18  ┆           ┆   ┆           ┆           ┆           ┆           │\n",
       "│ 1        ┆ 2015-06-0 ┆ 2015-06-0 ┆ 1         ┆ … ┆ 0.3       ┆ 20.3      ┆ 2         ┆ 20.3      │\n",
       "│          ┆ 1         ┆ 1         ┆           ┆   ┆           ┆           ┆           ┆           │\n",
       "│          ┆ 00:12:59  ┆ 00:28:16  ┆           ┆   ┆           ┆           ┆           ┆           │\n",
       "│ 2        ┆ 2015-06-0 ┆ 2015-06-0 ┆ 1         ┆ … ┆ 0.3       ┆ 22.3      ┆ 2         ┆ 22.3      │\n",
       "│          ┆ 1         ┆ 1         ┆           ┆   ┆           ┆           ┆           ┆           │\n",
       "│          ┆ 00:13:00  ┆ 00:37:25  ┆           ┆   ┆           ┆           ┆           ┆           │\n",
       "│ 2        ┆ 2015-06-0 ┆ 2015-06-0 ┆ 6         ┆ … ┆ 0.3       ┆ 7.8       ┆ 12        ┆ 1.3       │\n",
       "│          ┆ 1         ┆ 1         ┆           ┆   ┆           ┆           ┆           ┆           │\n",
       "│          ┆ 00:13:02  ┆ 00:19:10  ┆           ┆   ┆           ┆           ┆           ┆           │\n",
       "│ 1        ┆ 2015-06-0 ┆ 2015-06-0 ┆ 1         ┆ … ┆ 0.3       ┆ 26.75     ┆ 2         ┆ 26.75     │\n",
       "│          ┆ 1         ┆ 1         ┆           ┆   ┆           ┆           ┆           ┆           │\n",
       "│          ┆ 00:13:04  ┆ 00:36:33  ┆           ┆   ┆           ┆           ┆           ┆           │\n",
       "└──────────┴───────────┴───────────┴───────────┴───┴───────────┴───────────┴───────────┴───────────┘"
      ]
     },
     "execution_count": 130,
     "metadata": {},
     "output_type": "execute_result"
    }
   ],
   "source": [
    "# more natural (I think) to use **kwargs\n",
    "\n",
    "(\n",
    "    df\n",
    "    .with_columns(\n",
    "        pc_times_2 = pl.col('passenger_count') * 2,\n",
    "        dollars_per_passenger = pl.col('total_amount') / pl.col('passenger_count')\n",
    "    )\n",
    ")"
   ]
  },
  {
   "cell_type": "markdown",
   "metadata": {},
   "source": [
    "# Filtering, with_columns, and selecting\n",
    "\n",
    "It's common for Polars queries to do things in this order:\n",
    "\n",
    "- `.with_columns`, to add columns that allow you to retrieve only selected values\n",
    "- `.filter`, to keep only the rows that are of interest to you\n",
    "- `.select`, to keep only the columns you need for your final report\n",
    "\n",
    "We typically chain these together, getting one final answer from this long query.\n",
    "\n",
    "Can you run any of these three methods more than once? Yes, absolutely! Can you run them in any order? Yes, absolutely!\n",
    "\n",
    "Two things to remember about `with_columns`: \n",
    "\n",
    "1. If you assign to an existing column, then the expression you give to `with_columns` replaces the old value\n",
    "2. In Pandas, when you use `assign`, they are assigned in order, and thus later kwargs can use earlier ones. This is *not* the case in Polars, because these are done in parallel."
   ]
  },
  {
   "cell_type": "markdown",
   "metadata": {},
   "source": [
    "# Sorting\n",
    "\n",
    "If you want to sort a data frame, then use the `sort` method. (Unlike Pandas, which has `sort_index` and `sort_values`, there is no index, so you just have `sort`. Pass the name of the column by which you want to sort. You can optionally pass `descending=True` if you want; otherwise; it's `descending=False` by default."
   ]
  },
  {
   "cell_type": "code",
   "execution_count": 133,
   "metadata": {},
   "outputs": [
    {
     "data": {
      "text/html": [
       "<div><style>\n",
       ".dataframe > thead > tr,\n",
       ".dataframe > tbody > tr {\n",
       "  text-align: right;\n",
       "  white-space: pre-wrap;\n",
       "}\n",
       "</style>\n",
       "<small>shape: (5, 19)</small><table border=\"1\" class=\"dataframe\"><thead><tr><th>VendorID</th><th>tpep_pickup_datetime</th><th>tpep_dropoff_datetime</th><th>passenger_count</th><th>trip_distance</th><th>pickup_longitude</th><th>pickup_latitude</th><th>RateCodeID</th><th>store_and_fwd_flag</th><th>dropoff_longitude</th><th>dropoff_latitude</th><th>payment_type</th><th>fare_amount</th><th>extra</th><th>mta_tax</th><th>tip_amount</th><th>tolls_amount</th><th>improvement_surcharge</th><th>total_amount</th></tr><tr><td>i64</td><td>str</td><td>str</td><td>i64</td><td>f64</td><td>f64</td><td>f64</td><td>i64</td><td>str</td><td>f64</td><td>f64</td><td>i64</td><td>f64</td><td>f64</td><td>f64</td><td>f64</td><td>f64</td><td>f64</td><td>f64</td></tr></thead><tbody><tr><td>2</td><td>&quot;2015-06-01 00:13:42&quot;</td><td>&quot;2015-06-01 00:21:01&quot;</td><td>6</td><td>1.07</td><td>-73.994072</td><td>40.759239</td><td>1</td><td>&quot;N&quot;</td><td>-73.976021</td><td>40.751888</td><td>1</td><td>7.0</td><td>0.5</td><td>0.5</td><td>2.49</td><td>0.0</td><td>0.3</td><td>10.79</td></tr><tr><td>2</td><td>&quot;2015-06-01 00:13:05&quot;</td><td>&quot;2015-06-01 00:22:38&quot;</td><td>6</td><td>2.72</td><td>-73.923241</td><td>40.767677</td><td>1</td><td>&quot;N&quot;</td><td>-73.956253</td><td>40.747513</td><td>1</td><td>10.5</td><td>0.5</td><td>0.5</td><td>2.36</td><td>0.0</td><td>0.3</td><td>14.16</td></tr><tr><td>2</td><td>&quot;2015-06-01 00:13:07&quot;</td><td>&quot;2015-06-01 00:21:14&quot;</td><td>6</td><td>1.52</td><td>-73.972778</td><td>40.750256</td><td>1</td><td>&quot;N&quot;</td><td>-73.989075</td><td>40.762695</td><td>2</td><td>8.0</td><td>0.5</td><td>0.5</td><td>0.0</td><td>0.0</td><td>0.3</td><td>9.3</td></tr><tr><td>2</td><td>&quot;2015-06-01 00:13:41&quot;</td><td>&quot;2015-06-01 00:17:44&quot;</td><td>6</td><td>1.34</td><td>-74.005898</td><td>40.735851</td><td>1</td><td>&quot;N&quot;</td><td>-73.991318</td><td>40.748177</td><td>1</td><td>6.0</td><td>0.5</td><td>0.5</td><td>1.46</td><td>0.0</td><td>0.3</td><td>8.76</td></tr><tr><td>2</td><td>&quot;2015-06-01 00:13:02&quot;</td><td>&quot;2015-06-01 00:19:10&quot;</td><td>6</td><td>1.54</td><td>-73.978302</td><td>40.748531</td><td>1</td><td>&quot;N&quot;</td><td>-73.989166</td><td>40.762852</td><td>2</td><td>6.5</td><td>0.5</td><td>0.5</td><td>0.0</td><td>0.0</td><td>0.3</td><td>7.8</td></tr></tbody></table></div>"
      ],
      "text/plain": [
       "shape: (5, 19)\n",
       "┌──────────┬───────────┬───────────┬───────────┬───┬───────────┬───────────┬───────────┬───────────┐\n",
       "│ VendorID ┆ tpep_pick ┆ tpep_drop ┆ passenger ┆ … ┆ tip_amoun ┆ tolls_amo ┆ improveme ┆ total_amo │\n",
       "│ ---      ┆ up_dateti ┆ off_datet ┆ _count    ┆   ┆ t         ┆ unt       ┆ nt_surcha ┆ unt       │\n",
       "│ i64      ┆ me        ┆ ime       ┆ ---       ┆   ┆ ---       ┆ ---       ┆ rge       ┆ ---       │\n",
       "│          ┆ ---       ┆ ---       ┆ i64       ┆   ┆ f64       ┆ f64       ┆ ---       ┆ f64       │\n",
       "│          ┆ str       ┆ str       ┆           ┆   ┆           ┆           ┆ f64       ┆           │\n",
       "╞══════════╪═══════════╪═══════════╪═══════════╪═══╪═══════════╪═══════════╪═══════════╪═══════════╡\n",
       "│ 2        ┆ 2015-06-0 ┆ 2015-06-0 ┆ 6         ┆ … ┆ 2.49      ┆ 0.0       ┆ 0.3       ┆ 10.79     │\n",
       "│          ┆ 1         ┆ 1         ┆           ┆   ┆           ┆           ┆           ┆           │\n",
       "│          ┆ 00:13:42  ┆ 00:21:01  ┆           ┆   ┆           ┆           ┆           ┆           │\n",
       "│ 2        ┆ 2015-06-0 ┆ 2015-06-0 ┆ 6         ┆ … ┆ 2.36      ┆ 0.0       ┆ 0.3       ┆ 14.16     │\n",
       "│          ┆ 1         ┆ 1         ┆           ┆   ┆           ┆           ┆           ┆           │\n",
       "│          ┆ 00:13:05  ┆ 00:22:38  ┆           ┆   ┆           ┆           ┆           ┆           │\n",
       "│ 2        ┆ 2015-06-0 ┆ 2015-06-0 ┆ 6         ┆ … ┆ 0.0       ┆ 0.0       ┆ 0.3       ┆ 9.3       │\n",
       "│          ┆ 1         ┆ 1         ┆           ┆   ┆           ┆           ┆           ┆           │\n",
       "│          ┆ 00:13:07  ┆ 00:21:14  ┆           ┆   ┆           ┆           ┆           ┆           │\n",
       "│ 2        ┆ 2015-06-0 ┆ 2015-06-0 ┆ 6         ┆ … ┆ 1.46      ┆ 0.0       ┆ 0.3       ┆ 8.76      │\n",
       "│          ┆ 1         ┆ 1         ┆           ┆   ┆           ┆           ┆           ┆           │\n",
       "│          ┆ 00:13:41  ┆ 00:17:44  ┆           ┆   ┆           ┆           ┆           ┆           │\n",
       "│ 2        ┆ 2015-06-0 ┆ 2015-06-0 ┆ 6         ┆ … ┆ 0.0       ┆ 0.0       ┆ 0.3       ┆ 7.8       │\n",
       "│          ┆ 1         ┆ 1         ┆           ┆   ┆           ┆           ┆           ┆           │\n",
       "│          ┆ 00:13:02  ┆ 00:19:10  ┆           ┆   ┆           ┆           ┆           ┆           │\n",
       "└──────────┴───────────┴───────────┴───────────┴───┴───────────┴───────────┴───────────┴───────────┘"
      ]
     },
     "execution_count": 133,
     "metadata": {},
     "output_type": "execute_result"
    }
   ],
   "source": [
    "(\n",
    "    df\n",
    "    .sort('passenger_count')\n",
    "    .tail()\n",
    ")"
   ]
  },
  {
   "cell_type": "code",
   "execution_count": 134,
   "metadata": {
    "scrolled": true
   },
   "outputs": [
    {
     "data": {
      "text/html": [
       "<div><style>\n",
       ".dataframe > thead > tr,\n",
       ".dataframe > tbody > tr {\n",
       "  text-align: right;\n",
       "  white-space: pre-wrap;\n",
       "}\n",
       "</style>\n",
       "<small>shape: (5,)</small><table border=\"1\" class=\"dataframe\"><thead><tr><th>passenger_count</th></tr><tr><td>i64</td></tr></thead><tbody><tr><td>6</td></tr><tr><td>6</td></tr><tr><td>6</td></tr><tr><td>6</td></tr><tr><td>6</td></tr></tbody></table></div>"
      ],
      "text/plain": [
       "shape: (5,)\n",
       "Series: 'passenger_count' [i64]\n",
       "[\n",
       "\t6\n",
       "\t6\n",
       "\t6\n",
       "\t6\n",
       "\t6\n",
       "]"
      ]
     },
     "execution_count": 134,
     "metadata": {},
     "output_type": "execute_result"
    }
   ],
   "source": [
    "df['passenger_count'].top_k(5)"
   ]
  },
  {
   "cell_type": "code",
   "execution_count": 137,
   "metadata": {},
   "outputs": [
    {
     "data": {
      "text/html": [
       "<div><style>\n",
       ".dataframe > thead > tr,\n",
       ".dataframe > tbody > tr {\n",
       "  text-align: right;\n",
       "  white-space: pre-wrap;\n",
       "}\n",
       "</style>\n",
       "<small>shape: (5, 19)</small><table border=\"1\" class=\"dataframe\"><thead><tr><th>VendorID</th><th>tpep_pickup_datetime</th><th>tpep_dropoff_datetime</th><th>passenger_count</th><th>trip_distance</th><th>pickup_longitude</th><th>pickup_latitude</th><th>RateCodeID</th><th>store_and_fwd_flag</th><th>dropoff_longitude</th><th>dropoff_latitude</th><th>payment_type</th><th>fare_amount</th><th>extra</th><th>mta_tax</th><th>tip_amount</th><th>tolls_amount</th><th>improvement_surcharge</th><th>total_amount</th></tr><tr><td>i64</td><td>str</td><td>str</td><td>i64</td><td>f64</td><td>f64</td><td>f64</td><td>i64</td><td>str</td><td>f64</td><td>f64</td><td>i64</td><td>f64</td><td>f64</td><td>f64</td><td>f64</td><td>f64</td><td>f64</td><td>f64</td></tr></thead><tbody><tr><td>2</td><td>&quot;2015-06-04 15:17:44&quot;</td><td>&quot;2015-06-04 15:46:38&quot;</td><td>6</td><td>6.25</td><td>-73.973633</td><td>40.743378</td><td>1</td><td>&quot;N&quot;</td><td>-73.955841</td><td>40.804516</td><td>1</td><td>22.0</td><td>0.0</td><td>0.5</td><td>0.0</td><td>0.0</td><td>0.3</td><td>22.8</td></tr><tr><td>2</td><td>&quot;2015-06-02 11:20:17&quot;</td><td>&quot;2015-06-02 11:24:33&quot;</td><td>6</td><td>0.51</td><td>-73.95372</td><td>40.775059</td><td>1</td><td>&quot;N&quot;</td><td>-73.960892</td><td>40.774948</td><td>2</td><td>5.0</td><td>0.0</td><td>0.5</td><td>0.0</td><td>0.0</td><td>0.3</td><td>5.8</td></tr><tr><td>2</td><td>&quot;2015-06-02 11:20:25&quot;</td><td>&quot;2015-06-02 11:35:44&quot;</td><td>6</td><td>0.88</td><td>-73.994125</td><td>40.751011</td><td>1</td><td>&quot;N&quot;</td><td>-73.985313</td><td>40.758541</td><td>1</td><td>10.0</td><td>0.0</td><td>0.5</td><td>3.24</td><td>0.0</td><td>0.3</td><td>14.04</td></tr><tr><td>2</td><td>&quot;2015-06-02 11:21:23&quot;</td><td>&quot;2015-06-02 11:33:09&quot;</td><td>6</td><td>1.21</td><td>-73.998741</td><td>40.744953</td><td>1</td><td>&quot;N&quot;</td><td>-73.980057</td><td>40.73682</td><td>1</td><td>9.0</td><td>0.0</td><td>0.5</td><td>2.45</td><td>0.0</td><td>0.3</td><td>12.25</td></tr><tr><td>2</td><td>&quot;2015-06-02 11:21:52&quot;</td><td>&quot;2015-06-02 11:36:17&quot;</td><td>6</td><td>1.84</td><td>-73.971909</td><td>40.794464</td><td>1</td><td>&quot;N&quot;</td><td>-73.963913</td><td>40.776718</td><td>1</td><td>11.0</td><td>0.0</td><td>0.5</td><td>2.36</td><td>0.0</td><td>0.3</td><td>14.16</td></tr></tbody></table></div>"
      ],
      "text/plain": [
       "shape: (5, 19)\n",
       "┌──────────┬───────────┬───────────┬───────────┬───┬───────────┬───────────┬───────────┬───────────┐\n",
       "│ VendorID ┆ tpep_pick ┆ tpep_drop ┆ passenger ┆ … ┆ tip_amoun ┆ tolls_amo ┆ improveme ┆ total_amo │\n",
       "│ ---      ┆ up_dateti ┆ off_datet ┆ _count    ┆   ┆ t         ┆ unt       ┆ nt_surcha ┆ unt       │\n",
       "│ i64      ┆ me        ┆ ime       ┆ ---       ┆   ┆ ---       ┆ ---       ┆ rge       ┆ ---       │\n",
       "│          ┆ ---       ┆ ---       ┆ i64       ┆   ┆ f64       ┆ f64       ┆ ---       ┆ f64       │\n",
       "│          ┆ str       ┆ str       ┆           ┆   ┆           ┆           ┆ f64       ┆           │\n",
       "╞══════════╪═══════════╪═══════════╪═══════════╪═══╪═══════════╪═══════════╪═══════════╪═══════════╡\n",
       "│ 2        ┆ 2015-06-0 ┆ 2015-06-0 ┆ 6         ┆ … ┆ 0.0       ┆ 0.0       ┆ 0.3       ┆ 22.8      │\n",
       "│          ┆ 4         ┆ 4         ┆           ┆   ┆           ┆           ┆           ┆           │\n",
       "│          ┆ 15:17:44  ┆ 15:46:38  ┆           ┆   ┆           ┆           ┆           ┆           │\n",
       "│ 2        ┆ 2015-06-0 ┆ 2015-06-0 ┆ 6         ┆ … ┆ 0.0       ┆ 0.0       ┆ 0.3       ┆ 5.8       │\n",
       "│          ┆ 2         ┆ 2         ┆           ┆   ┆           ┆           ┆           ┆           │\n",
       "│          ┆ 11:20:17  ┆ 11:24:33  ┆           ┆   ┆           ┆           ┆           ┆           │\n",
       "│ 2        ┆ 2015-06-0 ┆ 2015-06-0 ┆ 6         ┆ … ┆ 3.24      ┆ 0.0       ┆ 0.3       ┆ 14.04     │\n",
       "│          ┆ 2         ┆ 2         ┆           ┆   ┆           ┆           ┆           ┆           │\n",
       "│          ┆ 11:20:25  ┆ 11:35:44  ┆           ┆   ┆           ┆           ┆           ┆           │\n",
       "│ 2        ┆ 2015-06-0 ┆ 2015-06-0 ┆ 6         ┆ … ┆ 2.45      ┆ 0.0       ┆ 0.3       ┆ 12.25     │\n",
       "│          ┆ 2         ┆ 2         ┆           ┆   ┆           ┆           ┆           ┆           │\n",
       "│          ┆ 11:21:23  ┆ 11:33:09  ┆           ┆   ┆           ┆           ┆           ┆           │\n",
       "│ 2        ┆ 2015-06-0 ┆ 2015-06-0 ┆ 6         ┆ … ┆ 2.36      ┆ 0.0       ┆ 0.3       ┆ 14.16     │\n",
       "│          ┆ 2         ┆ 2         ┆           ┆   ┆           ┆           ┆           ┆           │\n",
       "│          ┆ 11:21:52  ┆ 11:36:17  ┆           ┆   ┆           ┆           ┆           ┆           │\n",
       "└──────────┴───────────┴───────────┴───────────┴───┴───────────┴───────────┴───────────┴───────────┘"
      ]
     },
     "execution_count": 137,
     "metadata": {},
     "output_type": "execute_result"
    }
   ],
   "source": [
    "df.top_k(by='passenger_count', k=5)"
   ]
  },
  {
   "cell_type": "code",
   "execution_count": 138,
   "metadata": {},
   "outputs": [
    {
     "name": "stdout",
     "output_type": "stream",
     "text": [
      "1.22 ms ± 7.02 μs per loop (mean ± std. dev. of 7 runs, 1,000 loops each)\n"
     ]
    }
   ],
   "source": [
    "%%timeit\n",
    "\n",
    "(\n",
    "    df\n",
    "    .sort('passenger_count')\n",
    "    .tail()\n",
    ")"
   ]
  },
  {
   "cell_type": "code",
   "execution_count": 139,
   "metadata": {},
   "outputs": [
    {
     "name": "stdout",
     "output_type": "stream",
     "text": [
      "954 μs ± 2.79 μs per loop (mean ± std. dev. of 7 runs, 1,000 loops each)\n"
     ]
    }
   ],
   "source": [
    "%%timeit\n",
    "\n",
    "df.top_k(by='passenger_count', k=5)"
   ]
  },
  {
   "cell_type": "markdown",
   "metadata": {},
   "source": [
    "# Exercises: Taxi data\n",
    "\n",
    "1. Find the 10 highest `total_amount` that people paid when the distance was < 1 mile and `passenger_count` was greater than 3.\n",
    "2. Calculate the percentage tip that people paid, based on `tip_amount` and `total_amount`. Find the 10 taxi rides in which the tip percentage was the greatest. Show the pickup datetime, passenger_count, and total_amount, as well as tip percentage."
   ]
  },
  {
   "cell_type": "code",
   "execution_count": 146,
   "metadata": {},
   "outputs": [
    {
     "data": {
      "text/html": [
       "<div><style>\n",
       ".dataframe > thead > tr,\n",
       ".dataframe > tbody > tr {\n",
       "  text-align: right;\n",
       "  white-space: pre-wrap;\n",
       "}\n",
       "</style>\n",
       "<small>shape: (10, 1)</small><table border=\"1\" class=\"dataframe\"><thead><tr><th>total_amount</th></tr><tr><td>f64</td></tr></thead><tbody><tr><td>83.12</td></tr><tr><td>60.34</td></tr><tr><td>20.3</td></tr><tr><td>20.3</td></tr><tr><td>18.8</td></tr><tr><td>15.8</td></tr><tr><td>14.76</td></tr><tr><td>14.3</td></tr><tr><td>14.04</td></tr><tr><td>13.56</td></tr></tbody></table></div>"
      ],
      "text/plain": [
       "shape: (10, 1)\n",
       "┌──────────────┐\n",
       "│ total_amount │\n",
       "│ ---          │\n",
       "│ f64          │\n",
       "╞══════════════╡\n",
       "│ 83.12        │\n",
       "│ 60.34        │\n",
       "│ 20.3         │\n",
       "│ 20.3         │\n",
       "│ 18.8         │\n",
       "│ 15.8         │\n",
       "│ 14.76        │\n",
       "│ 14.3         │\n",
       "│ 14.04        │\n",
       "│ 13.56        │\n",
       "└──────────────┘"
      ]
     },
     "execution_count": 146,
     "metadata": {},
     "output_type": "execute_result"
    }
   ],
   "source": [
    "(\n",
    "    df\n",
    "    .filter(\n",
    "        (pl.col('trip_distance') < 1) &\n",
    "        (pl.col('passenger_count') > 3)\n",
    "    )\n",
    "    .select(\n",
    "        pl.col('total_amount')\n",
    "    )\n",
    "    .sort('total_amount', descending=True)\n",
    "    .head(10)\n",
    ") \n"
   ]
  },
  {
   "cell_type": "code",
   "execution_count": null,
   "metadata": {},
   "outputs": [],
   "source": [
    "(\n",
    "    df\n",
    "    .filter(\n",
    "        (pl.col('trip_distance') < 1 ) &\n",
    "        (pl.col('passenger_count') > 3)\n",
    "    )\n",
    "    \n",
    "        .top_k(by = 'passenger_count', k =10)\n",
    "        \n",
    ")"
   ]
  },
  {
   "cell_type": "code",
   "execution_count": 149,
   "metadata": {
    "scrolled": true
   },
   "outputs": [
    {
     "data": {
      "text/html": [
       "<div><style>\n",
       ".dataframe > thead > tr,\n",
       ".dataframe > tbody > tr {\n",
       "  text-align: right;\n",
       "  white-space: pre-wrap;\n",
       "}\n",
       "</style>\n",
       "<small>shape: (10, 4)</small><table border=\"1\" class=\"dataframe\"><thead><tr><th>tpep_pickup_datetime</th><th>passenger_count</th><th>total_amount</th><th>tip_percentage</th></tr><tr><td>str</td><td>i64</td><td>f64</td><td>f64</td></tr></thead><tbody><tr><td>&quot;2015-06-01 00:01:53&quot;</td><td>4</td><td>23.8</td><td>0.840336</td></tr><tr><td>&quot;2015-06-06 16:52:01&quot;</td><td>1</td><td>14.3</td><td>0.769231</td></tr><tr><td>&quot;2015-06-04 15:20:27&quot;</td><td>1</td><td>9.38</td><td>0.648188</td></tr><tr><td>&quot;2015-06-02 11:25:14&quot;</td><td>1</td><td>34.3</td><td>0.58309</td></tr><tr><td>&quot;2015-06-02 11:27:57&quot;</td><td>1</td><td>10.3</td><td>0.533981</td></tr><tr><td>&quot;2015-06-02 11:19:31&quot;</td><td>1</td><td>45.3</td><td>0.507726</td></tr><tr><td>&quot;2015-06-04 15:15:54&quot;</td><td>1</td><td>16.3</td><td>0.490798</td></tr><tr><td>&quot;2015-06-02 11:23:08&quot;</td><td>1</td><td>6.3</td><td>0.47619</td></tr><tr><td>&quot;2015-06-02 11:32:13&quot;</td><td>1</td><td>6.3</td><td>0.47619</td></tr><tr><td>&quot;2015-06-01 00:02:39&quot;</td><td>1</td><td>11.3</td><td>0.442478</td></tr></tbody></table></div>"
      ],
      "text/plain": [
       "shape: (10, 4)\n",
       "┌──────────────────────┬─────────────────┬──────────────┬────────────────┐\n",
       "│ tpep_pickup_datetime ┆ passenger_count ┆ total_amount ┆ tip_percentage │\n",
       "│ ---                  ┆ ---             ┆ ---          ┆ ---            │\n",
       "│ str                  ┆ i64             ┆ f64          ┆ f64            │\n",
       "╞══════════════════════╪═════════════════╪══════════════╪════════════════╡\n",
       "│ 2015-06-01 00:01:53  ┆ 4               ┆ 23.8         ┆ 0.840336       │\n",
       "│ 2015-06-06 16:52:01  ┆ 1               ┆ 14.3         ┆ 0.769231       │\n",
       "│ 2015-06-04 15:20:27  ┆ 1               ┆ 9.38         ┆ 0.648188       │\n",
       "│ 2015-06-02 11:25:14  ┆ 1               ┆ 34.3         ┆ 0.58309        │\n",
       "│ 2015-06-02 11:27:57  ┆ 1               ┆ 10.3         ┆ 0.533981       │\n",
       "│ 2015-06-02 11:19:31  ┆ 1               ┆ 45.3         ┆ 0.507726       │\n",
       "│ 2015-06-04 15:15:54  ┆ 1               ┆ 16.3         ┆ 0.490798       │\n",
       "│ 2015-06-02 11:23:08  ┆ 1               ┆ 6.3          ┆ 0.47619        │\n",
       "│ 2015-06-02 11:32:13  ┆ 1               ┆ 6.3          ┆ 0.47619        │\n",
       "│ 2015-06-01 00:02:39  ┆ 1               ┆ 11.3         ┆ 0.442478       │\n",
       "└──────────────────────┴─────────────────┴──────────────┴────────────────┘"
      ]
     },
     "execution_count": 149,
     "metadata": {},
     "output_type": "execute_result"
    }
   ],
   "source": [
    "# Calculate the percentage tip that people paid, based on tip_amount and total_amount. Find the 10 taxi rides in which the tip \n",
    "# percentage was the greatest. Show the pickup datetime, passenger_count, and total_amount, as well as tip percentage.\n",
    "\n",
    "(\n",
    "    df\n",
    "    .with_columns(\n",
    "        tip_percentage = pl.col('tip_amount') / pl.col('total_amount')\n",
    "    )\n",
    "    .top_k(by='tip_percentage', k=10)\n",
    "    .select(\n",
    "        pl.col('tpep_pickup_datetime'),\n",
    "        pl.col('passenger_count'),\n",
    "        pl.col('total_amount'),\n",
    "        pl.col('tip_percentage')\n",
    "    )\n",
    ")"
   ]
  },
  {
   "cell_type": "markdown",
   "metadata": {},
   "source": [
    "# Grouping\n",
    "\n",
    "Sometimes, we want to perform a calculation not once for an entire data frame, but rather once for every unique value in a categorical column. For this, we can use `group_by`. We'll need three things:\n",
    "\n",
    "- A categorical column, on which to group\n",
    "- A numerical column, on which to run a function once for each group\n",
    "- An aggregation function that we'll run (e.g., mean, min, max, std, median, count, sum)"
   ]
  },
  {
   "cell_type": "code",
   "execution_count": 152,
   "metadata": {},
   "outputs": [
    {
     "data": {
      "text/html": [
       "<div><style>\n",
       ".dataframe > thead > tr,\n",
       ".dataframe > tbody > tr {\n",
       "  text-align: right;\n",
       "  white-space: pre-wrap;\n",
       "}\n",
       "</style>\n",
       "<small>shape: (7, 2)</small><table border=\"1\" class=\"dataframe\"><thead><tr><th>passenger_count</th><th>trip_distance</th></tr><tr><td>i64</td><td>f64</td></tr></thead><tbody><tr><td>1</td><td>3.092338</td></tr><tr><td>5</td><td>3.182712</td></tr><tr><td>0</td><td>4.6</td></tr><tr><td>6</td><td>3.170976</td></tr><tr><td>3</td><td>3.342389</td></tr><tr><td>2</td><td>3.384387</td></tr><tr><td>4</td><td>3.628901</td></tr></tbody></table></div>"
      ],
      "text/plain": [
       "shape: (7, 2)\n",
       "┌─────────────────┬───────────────┐\n",
       "│ passenger_count ┆ trip_distance │\n",
       "│ ---             ┆ ---           │\n",
       "│ i64             ┆ f64           │\n",
       "╞═════════════════╪═══════════════╡\n",
       "│ 1               ┆ 3.092338      │\n",
       "│ 5               ┆ 3.182712      │\n",
       "│ 0               ┆ 4.6           │\n",
       "│ 6               ┆ 3.170976      │\n",
       "│ 3               ┆ 3.342389      │\n",
       "│ 2               ┆ 3.384387      │\n",
       "│ 4               ┆ 3.628901      │\n",
       "└─────────────────┴───────────────┘"
      ]
     },
     "execution_count": 152,
     "metadata": {},
     "output_type": "execute_result"
    }
   ],
   "source": [
    "# I want to find out the average trip_distance for each value of passenger_count\n",
    "\n",
    "(\n",
    "    df\n",
    "    # group_by(CATETGORICAL).agg(AGGFUNC(NUMERIC_COLUMN))\n",
    "    .group_by('passenger_count').agg(pl.mean('trip_distance'))\n",
    ")"
   ]
  },
  {
   "cell_type": "code",
   "execution_count": 154,
   "metadata": {},
   "outputs": [
    {
     "data": {
      "text/html": [
       "<div><style>\n",
       ".dataframe > thead > tr,\n",
       ".dataframe > tbody > tr {\n",
       "  text-align: right;\n",
       "  white-space: pre-wrap;\n",
       "}\n",
       "</style>\n",
       "<small>shape: (7, 2)</small><table border=\"1\" class=\"dataframe\"><thead><tr><th>passenger_count</th><th>trip_distance</th></tr><tr><td>i64</td><td>u32</td></tr></thead><tbody><tr><td>0</td><td>2</td></tr><tr><td>4</td><td>182</td></tr><tr><td>6</td><td>369</td></tr><tr><td>3</td><td>406</td></tr><tr><td>5</td><td>520</td></tr><tr><td>2</td><td>1313</td></tr><tr><td>1</td><td>7207</td></tr></tbody></table></div>"
      ],
      "text/plain": [
       "shape: (7, 2)\n",
       "┌─────────────────┬───────────────┐\n",
       "│ passenger_count ┆ trip_distance │\n",
       "│ ---             ┆ ---           │\n",
       "│ i64             ┆ u32           │\n",
       "╞═════════════════╪═══════════════╡\n",
       "│ 0               ┆ 2             │\n",
       "│ 4               ┆ 182           │\n",
       "│ 6               ┆ 369           │\n",
       "│ 3               ┆ 406           │\n",
       "│ 5               ┆ 520           │\n",
       "│ 2               ┆ 1313          │\n",
       "│ 1               ┆ 7207          │\n",
       "└─────────────────┴───────────────┘"
      ]
     },
     "execution_count": 154,
     "metadata": {},
     "output_type": "execute_result"
    }
   ],
   "source": [
    "(\n",
    "    df\n",
    "    # group_by(CATETGORICAL).agg(AGGFUNC(NUMERIC_COLUMN))\n",
    "    .group_by('passenger_count').agg(pl.count('trip_distance'))\n",
    "    .sort('trip_distance')\n",
    ")"
   ]
  },
  {
   "cell_type": "markdown",
   "metadata": {},
   "source": [
    "# Exercise: Taxi info\n",
    "\n",
    "1. Load into a data frame the file `nyc_taxi_2020-07.csv`, which you can download from GitHub.\n",
    "2. Show the mean `trip_distance` for every value of `passenger_count`.\n",
    "3. Show the mean `total_amount` for every value of `payment_type`."
   ]
  },
  {
   "cell_type": "code",
   "execution_count": 159,
   "metadata": {},
   "outputs": [],
   "source": [
    "filename = 'nyc_taxi_2020-07.csv'\n",
    "\n",
    "df = pl.read_csv(filename)"
   ]
  },
  {
   "cell_type": "code",
   "execution_count": 156,
   "metadata": {},
   "outputs": [
    {
     "data": {
      "text/html": [
       "<div><style>\n",
       ".dataframe > thead > tr,\n",
       ".dataframe > tbody > tr {\n",
       "  text-align: right;\n",
       "  white-space: pre-wrap;\n",
       "}\n",
       "</style>\n",
       "<small>shape: (5, 18)</small><table border=\"1\" class=\"dataframe\"><thead><tr><th>VendorID</th><th>tpep_pickup_datetime</th><th>tpep_dropoff_datetime</th><th>passenger_count</th><th>trip_distance</th><th>RatecodeID</th><th>store_and_fwd_flag</th><th>PULocationID</th><th>DOLocationID</th><th>payment_type</th><th>fare_amount</th><th>extra</th><th>mta_tax</th><th>tip_amount</th><th>tolls_amount</th><th>improvement_surcharge</th><th>total_amount</th><th>congestion_surcharge</th></tr><tr><td>i64</td><td>str</td><td>str</td><td>i64</td><td>f64</td><td>i64</td><td>str</td><td>i64</td><td>i64</td><td>i64</td><td>f64</td><td>f64</td><td>f64</td><td>f64</td><td>f64</td><td>f64</td><td>f64</td><td>f64</td></tr></thead><tbody><tr><td>1</td><td>&quot;2020-07-01 00:25:32&quot;</td><td>&quot;2020-07-01 00:33:39&quot;</td><td>1</td><td>1.5</td><td>1</td><td>&quot;N&quot;</td><td>238</td><td>75</td><td>2</td><td>8.0</td><td>0.5</td><td>0.5</td><td>0.0</td><td>0.0</td><td>0.3</td><td>9.3</td><td>0.0</td></tr><tr><td>1</td><td>&quot;2020-07-01 00:03:19&quot;</td><td>&quot;2020-07-01 00:25:43&quot;</td><td>1</td><td>9.5</td><td>1</td><td>&quot;N&quot;</td><td>138</td><td>216</td><td>1</td><td>26.5</td><td>0.5</td><td>0.5</td><td>0.0</td><td>0.0</td><td>0.3</td><td>27.8</td><td>0.0</td></tr><tr><td>2</td><td>&quot;2020-07-01 00:15:11&quot;</td><td>&quot;2020-07-01 00:29:24&quot;</td><td>1</td><td>5.85</td><td>1</td><td>&quot;N&quot;</td><td>230</td><td>88</td><td>2</td><td>18.5</td><td>0.5</td><td>0.5</td><td>0.0</td><td>0.0</td><td>0.3</td><td>22.3</td><td>2.5</td></tr><tr><td>2</td><td>&quot;2020-07-01 00:30:49&quot;</td><td>&quot;2020-07-01 00:38:26&quot;</td><td>1</td><td>1.9</td><td>1</td><td>&quot;N&quot;</td><td>88</td><td>232</td><td>1</td><td>8.0</td><td>0.5</td><td>0.5</td><td>2.36</td><td>0.0</td><td>0.3</td><td>14.16</td><td>2.5</td></tr><tr><td>2</td><td>&quot;2020-07-01 00:31:26&quot;</td><td>&quot;2020-07-01 00:38:02&quot;</td><td>1</td><td>1.25</td><td>1</td><td>&quot;N&quot;</td><td>37</td><td>17</td><td>2</td><td>6.5</td><td>0.5</td><td>0.5</td><td>0.0</td><td>0.0</td><td>0.3</td><td>7.8</td><td>0.0</td></tr></tbody></table></div>"
      ],
      "text/plain": [
       "shape: (5, 18)\n",
       "┌──────────┬───────────┬───────────┬───────────┬───┬───────────┬───────────┬───────────┬───────────┐\n",
       "│ VendorID ┆ tpep_pick ┆ tpep_drop ┆ passenger ┆ … ┆ tolls_amo ┆ improveme ┆ total_amo ┆ congestio │\n",
       "│ ---      ┆ up_dateti ┆ off_datet ┆ _count    ┆   ┆ unt       ┆ nt_surcha ┆ unt       ┆ n_surchar │\n",
       "│ i64      ┆ me        ┆ ime       ┆ ---       ┆   ┆ ---       ┆ rge       ┆ ---       ┆ ge        │\n",
       "│          ┆ ---       ┆ ---       ┆ i64       ┆   ┆ f64       ┆ ---       ┆ f64       ┆ ---       │\n",
       "│          ┆ str       ┆ str       ┆           ┆   ┆           ┆ f64       ┆           ┆ f64       │\n",
       "╞══════════╪═══════════╪═══════════╪═══════════╪═══╪═══════════╪═══════════╪═══════════╪═══════════╡\n",
       "│ 1        ┆ 2020-07-0 ┆ 2020-07-0 ┆ 1         ┆ … ┆ 0.0       ┆ 0.3       ┆ 9.3       ┆ 0.0       │\n",
       "│          ┆ 1         ┆ 1         ┆           ┆   ┆           ┆           ┆           ┆           │\n",
       "│          ┆ 00:25:32  ┆ 00:33:39  ┆           ┆   ┆           ┆           ┆           ┆           │\n",
       "│ 1        ┆ 2020-07-0 ┆ 2020-07-0 ┆ 1         ┆ … ┆ 0.0       ┆ 0.3       ┆ 27.8      ┆ 0.0       │\n",
       "│          ┆ 1         ┆ 1         ┆           ┆   ┆           ┆           ┆           ┆           │\n",
       "│          ┆ 00:03:19  ┆ 00:25:43  ┆           ┆   ┆           ┆           ┆           ┆           │\n",
       "│ 2        ┆ 2020-07-0 ┆ 2020-07-0 ┆ 1         ┆ … ┆ 0.0       ┆ 0.3       ┆ 22.3      ┆ 2.5       │\n",
       "│          ┆ 1         ┆ 1         ┆           ┆   ┆           ┆           ┆           ┆           │\n",
       "│          ┆ 00:15:11  ┆ 00:29:24  ┆           ┆   ┆           ┆           ┆           ┆           │\n",
       "│ 2        ┆ 2020-07-0 ┆ 2020-07-0 ┆ 1         ┆ … ┆ 0.0       ┆ 0.3       ┆ 14.16     ┆ 2.5       │\n",
       "│          ┆ 1         ┆ 1         ┆           ┆   ┆           ┆           ┆           ┆           │\n",
       "│          ┆ 00:30:49  ┆ 00:38:26  ┆           ┆   ┆           ┆           ┆           ┆           │\n",
       "│ 2        ┆ 2020-07-0 ┆ 2020-07-0 ┆ 1         ┆ … ┆ 0.0       ┆ 0.3       ┆ 7.8       ┆ 0.0       │\n",
       "│          ┆ 1         ┆ 1         ┆           ┆   ┆           ┆           ┆           ┆           │\n",
       "│          ┆ 00:31:26  ┆ 00:38:02  ┆           ┆   ┆           ┆           ┆           ┆           │\n",
       "└──────────┴───────────┴───────────┴───────────┴───┴───────────┴───────────┴───────────┴───────────┘"
      ]
     },
     "execution_count": 156,
     "metadata": {},
     "output_type": "execute_result"
    }
   ],
   "source": [
    "df.head()"
   ]
  },
  {
   "cell_type": "code",
   "execution_count": 163,
   "metadata": {},
   "outputs": [
    {
     "data": {
      "text/html": [
       "<div><style>\n",
       ".dataframe > thead > tr,\n",
       ".dataframe > tbody > tr {\n",
       "  text-align: right;\n",
       "  white-space: pre-wrap;\n",
       "}\n",
       "</style>\n",
       "<small>shape: (11, 2)</small><table border=\"1\" class=\"dataframe\"><thead><tr><th>passenger_count</th><th>trip_distance</th></tr><tr><td>i64</td><td>f64</td></tr></thead><tbody><tr><td>null</td><td>23.014654</td></tr><tr><td>0</td><td>2.629651</td></tr><tr><td>1</td><td>2.661786</td></tr><tr><td>2</td><td>2.914637</td></tr><tr><td>3</td><td>2.930557</td></tr><tr><td>&hellip;</td><td>&hellip;</td></tr><tr><td>5</td><td>2.780181</td></tr><tr><td>6</td><td>2.823975</td></tr><tr><td>7</td><td>2.168</td></tr><tr><td>8</td><td>0.0</td></tr><tr><td>9</td><td>0.0</td></tr></tbody></table></div>"
      ],
      "text/plain": [
       "shape: (11, 2)\n",
       "┌─────────────────┬───────────────┐\n",
       "│ passenger_count ┆ trip_distance │\n",
       "│ ---             ┆ ---           │\n",
       "│ i64             ┆ f64           │\n",
       "╞═════════════════╪═══════════════╡\n",
       "│ null            ┆ 23.014654     │\n",
       "│ 0               ┆ 2.629651      │\n",
       "│ 1               ┆ 2.661786      │\n",
       "│ 2               ┆ 2.914637      │\n",
       "│ 3               ┆ 2.930557      │\n",
       "│ …               ┆ …             │\n",
       "│ 5               ┆ 2.780181      │\n",
       "│ 6               ┆ 2.823975      │\n",
       "│ 7               ┆ 2.168         │\n",
       "│ 8               ┆ 0.0           │\n",
       "│ 9               ┆ 0.0           │\n",
       "└─────────────────┴───────────────┘"
      ]
     },
     "execution_count": 163,
     "metadata": {},
     "output_type": "execute_result"
    }
   ],
   "source": [
    "# Show the mean trip_distance for every value of passenger_count.\n",
    "\n",
    "(\n",
    "    df\n",
    "    .group_by('passenger_count').agg(pl.mean('trip_distance'))\n",
    "    .sort('passenger_count')\n",
    ")"
   ]
  },
  {
   "cell_type": "code",
   "execution_count": 165,
   "metadata": {},
   "outputs": [
    {
     "data": {
      "text/html": [
       "<div><style>\n",
       ".dataframe > thead > tr,\n",
       ".dataframe > tbody > tr {\n",
       "  text-align: right;\n",
       "  white-space: pre-wrap;\n",
       "}\n",
       "</style>\n",
       "<small>shape: (10, 2)</small><table border=\"1\" class=\"dataframe\"><thead><tr><th>passenger_count</th><th>trip_distance</th></tr><tr><td>i64</td><td>f64</td></tr></thead><tbody><tr><td>0</td><td>2.629651</td></tr><tr><td>1</td><td>2.661786</td></tr><tr><td>2</td><td>2.914637</td></tr><tr><td>3</td><td>2.930557</td></tr><tr><td>4</td><td>3.032374</td></tr><tr><td>5</td><td>2.780181</td></tr><tr><td>6</td><td>2.823975</td></tr><tr><td>7</td><td>2.168</td></tr><tr><td>8</td><td>0.0</td></tr><tr><td>9</td><td>0.0</td></tr></tbody></table></div>"
      ],
      "text/plain": [
       "shape: (10, 2)\n",
       "┌─────────────────┬───────────────┐\n",
       "│ passenger_count ┆ trip_distance │\n",
       "│ ---             ┆ ---           │\n",
       "│ i64             ┆ f64           │\n",
       "╞═════════════════╪═══════════════╡\n",
       "│ 0               ┆ 2.629651      │\n",
       "│ 1               ┆ 2.661786      │\n",
       "│ 2               ┆ 2.914637      │\n",
       "│ 3               ┆ 2.930557      │\n",
       "│ 4               ┆ 3.032374      │\n",
       "│ 5               ┆ 2.780181      │\n",
       "│ 6               ┆ 2.823975      │\n",
       "│ 7               ┆ 2.168         │\n",
       "│ 8               ┆ 0.0           │\n",
       "│ 9               ┆ 0.0           │\n",
       "└─────────────────┴───────────────┘"
      ]
     },
     "execution_count": 165,
     "metadata": {},
     "output_type": "execute_result"
    }
   ],
   "source": [
    "# to remove the null values, we'll need to use filter (which filters rows)\n",
    "\n",
    "(\n",
    "    df\n",
    "    .filter(\n",
    "        ~pl.col('passenger_count').is_null()   # ~ flips the logic, and is_null() finds nulls\n",
    "    )\n",
    "    .group_by('passenger_count').agg(pl.mean('trip_distance'))\n",
    "    .sort('passenger_count')\n",
    ")"
   ]
  },
  {
   "cell_type": "code",
   "execution_count": 168,
   "metadata": {},
   "outputs": [
    {
     "data": {
      "text/html": [
       "<div><style>\n",
       ".dataframe > thead > tr,\n",
       ".dataframe > tbody > tr {\n",
       "  text-align: right;\n",
       "  white-space: pre-wrap;\n",
       "}\n",
       "</style>\n",
       "<small>shape: (4, 2)</small><table border=\"1\" class=\"dataframe\"><thead><tr><th>payment_type</th><th>total_amount</th></tr><tr><td>i64</td><td>f64</td></tr></thead><tbody><tr><td>1</td><td>18.309344</td></tr><tr><td>2</td><td>14.424923</td></tr><tr><td>3</td><td>9.937259</td></tr><tr><td>4</td><td>-0.088659</td></tr></tbody></table></div>"
      ],
      "text/plain": [
       "shape: (4, 2)\n",
       "┌──────────────┬──────────────┐\n",
       "│ payment_type ┆ total_amount │\n",
       "│ ---          ┆ ---          │\n",
       "│ i64          ┆ f64          │\n",
       "╞══════════════╪══════════════╡\n",
       "│ 1            ┆ 18.309344    │\n",
       "│ 2            ┆ 14.424923    │\n",
       "│ 3            ┆ 9.937259     │\n",
       "│ 4            ┆ -0.088659    │\n",
       "└──────────────┴──────────────┘"
      ]
     },
     "execution_count": 168,
     "metadata": {},
     "output_type": "execute_result"
    }
   ],
   "source": [
    "# Show the mean total_amount for every value of payment_type.\n",
    "\n",
    "(\n",
    "    df\n",
    "    .filter(\n",
    "        ~pl.col('payment_type').is_null()\n",
    "    )\n",
    "    .group_by('payment_type').agg(pl.mean('total_amount'))\n",
    "    .sort('payment_type')\n",
    ")"
   ]
  },
  {
   "cell_type": "code",
   "execution_count": 169,
   "metadata": {},
   "outputs": [
    {
     "data": {
      "text/html": [
       "<div><style>\n",
       ".dataframe > thead > tr,\n",
       ".dataframe > tbody > tr {\n",
       "  text-align: right;\n",
       "  white-space: pre-wrap;\n",
       "}\n",
       "</style>\n",
       "<small>shape: (4, 3)</small><table border=\"1\" class=\"dataframe\"><thead><tr><th>payment_type</th><th>total_amount</th><th>trip_distance</th></tr><tr><td>i64</td><td>f64</td><td>f64</td></tr></thead><tbody><tr><td>1</td><td>18.309344</td><td>2.738745</td></tr><tr><td>2</td><td>14.424923</td><td>2.661922</td></tr><tr><td>3</td><td>9.937259</td><td>2.27271</td></tr><tr><td>4</td><td>-0.088659</td><td>2.751392</td></tr></tbody></table></div>"
      ],
      "text/plain": [
       "shape: (4, 3)\n",
       "┌──────────────┬──────────────┬───────────────┐\n",
       "│ payment_type ┆ total_amount ┆ trip_distance │\n",
       "│ ---          ┆ ---          ┆ ---           │\n",
       "│ i64          ┆ f64          ┆ f64           │\n",
       "╞══════════════╪══════════════╪═══════════════╡\n",
       "│ 1            ┆ 18.309344    ┆ 2.738745      │\n",
       "│ 2            ┆ 14.424923    ┆ 2.661922      │\n",
       "│ 3            ┆ 9.937259     ┆ 2.27271       │\n",
       "│ 4            ┆ -0.088659    ┆ 2.751392      │\n",
       "└──────────────┴──────────────┴───────────────┘"
      ]
     },
     "execution_count": 169,
     "metadata": {},
     "output_type": "execute_result"
    }
   ],
   "source": [
    "# what if I want to calculate the mean on more than one column?\n",
    "\n",
    "(\n",
    "    df\n",
    "    .filter(\n",
    "        ~pl.col('payment_type').is_null()\n",
    "    )\n",
    "    .group_by('payment_type').agg([pl.mean('total_amount'),\n",
    "                                   pl.mean('trip_distance')])\n",
    "    .sort('payment_type')\n",
    ")"
   ]
  },
  {
   "cell_type": "code",
   "execution_count": 170,
   "metadata": {},
   "outputs": [
    {
     "data": {
      "text/html": [
       "<div><style>\n",
       ".dataframe > thead > tr,\n",
       ".dataframe > tbody > tr {\n",
       "  text-align: right;\n",
       "  white-space: pre-wrap;\n",
       "}\n",
       "</style>\n",
       "<small>shape: (8, 4)</small><table border=\"1\" class=\"dataframe\"><thead><tr><th>VendorID</th><th>payment_type</th><th>total_amount</th><th>trip_distance</th></tr><tr><td>i64</td><td>i64</td><td>f64</td><td>f64</td></tr></thead><tbody><tr><td>2</td><td>1</td><td>18.22838</td><td>2.900534</td></tr><tr><td>1</td><td>1</td><td>18.439283</td><td>2.479088</td></tr><tr><td>2</td><td>2</td><td>14.594501</td><td>2.73243</td></tr><tr><td>1</td><td>2</td><td>14.108946</td><td>2.530544</td></tr><tr><td>2</td><td>3</td><td>-10.675598</td><td>0.885457</td></tr><tr><td>1</td><td>3</td><td>15.011367</td><td>2.6142</td></tr><tr><td>2</td><td>4</td><td>-15.583096</td><td>2.396586</td></tr><tr><td>1</td><td>4</td><td>16.172828</td><td>3.123762</td></tr></tbody></table></div>"
      ],
      "text/plain": [
       "shape: (8, 4)\n",
       "┌──────────┬──────────────┬──────────────┬───────────────┐\n",
       "│ VendorID ┆ payment_type ┆ total_amount ┆ trip_distance │\n",
       "│ ---      ┆ ---          ┆ ---          ┆ ---           │\n",
       "│ i64      ┆ i64          ┆ f64          ┆ f64           │\n",
       "╞══════════╪══════════════╪══════════════╪═══════════════╡\n",
       "│ 2        ┆ 1            ┆ 18.22838     ┆ 2.900534      │\n",
       "│ 1        ┆ 1            ┆ 18.439283    ┆ 2.479088      │\n",
       "│ 2        ┆ 2            ┆ 14.594501    ┆ 2.73243       │\n",
       "│ 1        ┆ 2            ┆ 14.108946    ┆ 2.530544      │\n",
       "│ 2        ┆ 3            ┆ -10.675598   ┆ 0.885457      │\n",
       "│ 1        ┆ 3            ┆ 15.011367    ┆ 2.6142        │\n",
       "│ 2        ┆ 4            ┆ -15.583096   ┆ 2.396586      │\n",
       "│ 1        ┆ 4            ┆ 16.172828    ┆ 3.123762      │\n",
       "└──────────┴──────────────┴──────────────┴───────────────┘"
      ]
     },
     "execution_count": 170,
     "metadata": {},
     "output_type": "execute_result"
    }
   ],
   "source": [
    "# what if I want to group by more than one column, and also\n",
    "# calculate the mean on total_amount and trip_distance?\n",
    "\n",
    "(\n",
    "    df\n",
    "    .filter(\n",
    "        ~pl.col('payment_type').is_null()\n",
    "    )\n",
    "    .group_by(['VendorID', 'payment_type']).agg([pl.mean('total_amount'),\n",
    "                                   pl.mean('trip_distance')])\n",
    "    .sort('payment_type')\n",
    ")"
   ]
  },
  {
   "cell_type": "markdown",
   "metadata": {},
   "source": [
    "# Pivot tables\n",
    "\n",
    "I like to think of a pivot table as a 2D groupby -- we have *two* categorical columns, one numeric column, and an \n",
    "aggregation function.\n",
    "\n",
    "- one categorical becomes the columns\n",
    "- one marks the rows\n",
    "- numeric\n",
    "- aggregation function\n",
    "\n",
    "Let's redo what I did now:\n",
    "\n",
    "- columns: payment_type\n",
    "- rows: VendorID\n",
    "- numeric: total_amount\n",
    "- aggregation function: mean\n"
   ]
  },
  {
   "cell_type": "code",
   "execution_count": 176,
   "metadata": {},
   "outputs": [
    {
     "data": {
      "text/html": [
       "<div><style>\n",
       ".dataframe > thead > tr,\n",
       ".dataframe > tbody > tr {\n",
       "  text-align: right;\n",
       "  white-space: pre-wrap;\n",
       "}\n",
       "</style>\n",
       "<small>shape: (2, 5)</small><table border=\"1\" class=\"dataframe\"><thead><tr><th>VendorID</th><th>2</th><th>1</th><th>4</th><th>3</th></tr><tr><td>i64</td><td>f64</td><td>f64</td><td>f64</td><td>f64</td></tr></thead><tbody><tr><td>1</td><td>14.108946</td><td>18.439283</td><td>16.172828</td><td>15.011367</td></tr><tr><td>2</td><td>14.594501</td><td>18.22838</td><td>-15.583096</td><td>-10.675598</td></tr></tbody></table></div>"
      ],
      "text/plain": [
       "shape: (2, 5)\n",
       "┌──────────┬───────────┬───────────┬────────────┬────────────┐\n",
       "│ VendorID ┆ 2         ┆ 1         ┆ 4          ┆ 3          │\n",
       "│ ---      ┆ ---       ┆ ---       ┆ ---        ┆ ---        │\n",
       "│ i64      ┆ f64       ┆ f64       ┆ f64        ┆ f64        │\n",
       "╞══════════╪═══════════╪═══════════╪════════════╪════════════╡\n",
       "│ 1        ┆ 14.108946 ┆ 18.439283 ┆ 16.172828  ┆ 15.011367  │\n",
       "│ 2        ┆ 14.594501 ┆ 18.22838  ┆ -15.583096 ┆ -10.675598 │\n",
       "└──────────┴───────────┴───────────┴────────────┴────────────┘"
      ]
     },
     "execution_count": 176,
     "metadata": {},
     "output_type": "execute_result"
    }
   ],
   "source": [
    "(\n",
    "    df\n",
    "    .filter(\n",
    "        ~pl.col('payment_type').is_null()\n",
    "    )\n",
    "    .pivot('payment_type',\n",
    "          index='VendorID',\n",
    "          values='total_amount',\n",
    "          aggregate_function='mean')\n",
    ")"
   ]
  },
  {
   "cell_type": "markdown",
   "metadata": {},
   "source": [
    "# Exercise: Pivot tables\n",
    "\n",
    "1. Create (or keep) the large data frame of NYC taxis from July 2020.\n",
    "2. Create a pivot table showing the number of passengers in the rows, the vendorID in the columns, and calculate the max trip_distance for reach combination.\n",
    "3. Can you find both the min and max trip_distance? Will that work?\n",
    "4. "
   ]
  },
  {
   "cell_type": "code",
   "execution_count": 177,
   "metadata": {},
   "outputs": [
    {
     "data": {
      "text/html": [
       "<div><style>\n",
       ".dataframe > thead > tr,\n",
       ".dataframe > tbody > tr {\n",
       "  text-align: right;\n",
       "  white-space: pre-wrap;\n",
       "}\n",
       "</style>\n",
       "<small>shape: (800_412, 18)</small><table border=\"1\" class=\"dataframe\"><thead><tr><th>VendorID</th><th>tpep_pickup_datetime</th><th>tpep_dropoff_datetime</th><th>passenger_count</th><th>trip_distance</th><th>RatecodeID</th><th>store_and_fwd_flag</th><th>PULocationID</th><th>DOLocationID</th><th>payment_type</th><th>fare_amount</th><th>extra</th><th>mta_tax</th><th>tip_amount</th><th>tolls_amount</th><th>improvement_surcharge</th><th>total_amount</th><th>congestion_surcharge</th></tr><tr><td>i64</td><td>str</td><td>str</td><td>i64</td><td>f64</td><td>i64</td><td>str</td><td>i64</td><td>i64</td><td>i64</td><td>f64</td><td>f64</td><td>f64</td><td>f64</td><td>f64</td><td>f64</td><td>f64</td><td>f64</td></tr></thead><tbody><tr><td>1</td><td>&quot;2020-07-01 00:25:32&quot;</td><td>&quot;2020-07-01 00:33:39&quot;</td><td>1</td><td>1.5</td><td>1</td><td>&quot;N&quot;</td><td>238</td><td>75</td><td>2</td><td>8.0</td><td>0.5</td><td>0.5</td><td>0.0</td><td>0.0</td><td>0.3</td><td>9.3</td><td>0.0</td></tr><tr><td>1</td><td>&quot;2020-07-01 00:03:19&quot;</td><td>&quot;2020-07-01 00:25:43&quot;</td><td>1</td><td>9.5</td><td>1</td><td>&quot;N&quot;</td><td>138</td><td>216</td><td>1</td><td>26.5</td><td>0.5</td><td>0.5</td><td>0.0</td><td>0.0</td><td>0.3</td><td>27.8</td><td>0.0</td></tr><tr><td>2</td><td>&quot;2020-07-01 00:15:11&quot;</td><td>&quot;2020-07-01 00:29:24&quot;</td><td>1</td><td>5.85</td><td>1</td><td>&quot;N&quot;</td><td>230</td><td>88</td><td>2</td><td>18.5</td><td>0.5</td><td>0.5</td><td>0.0</td><td>0.0</td><td>0.3</td><td>22.3</td><td>2.5</td></tr><tr><td>2</td><td>&quot;2020-07-01 00:30:49&quot;</td><td>&quot;2020-07-01 00:38:26&quot;</td><td>1</td><td>1.9</td><td>1</td><td>&quot;N&quot;</td><td>88</td><td>232</td><td>1</td><td>8.0</td><td>0.5</td><td>0.5</td><td>2.36</td><td>0.0</td><td>0.3</td><td>14.16</td><td>2.5</td></tr><tr><td>2</td><td>&quot;2020-07-01 00:31:26&quot;</td><td>&quot;2020-07-01 00:38:02&quot;</td><td>1</td><td>1.25</td><td>1</td><td>&quot;N&quot;</td><td>37</td><td>17</td><td>2</td><td>6.5</td><td>0.5</td><td>0.5</td><td>0.0</td><td>0.0</td><td>0.3</td><td>7.8</td><td>0.0</td></tr><tr><td>&hellip;</td><td>&hellip;</td><td>&hellip;</td><td>&hellip;</td><td>&hellip;</td><td>&hellip;</td><td>&hellip;</td><td>&hellip;</td><td>&hellip;</td><td>&hellip;</td><td>&hellip;</td><td>&hellip;</td><td>&hellip;</td><td>&hellip;</td><td>&hellip;</td><td>&hellip;</td><td>&hellip;</td><td>&hellip;</td></tr><tr><td>null</td><td>&quot;2020-07-19 13:27:52&quot;</td><td>&quot;2020-07-19 14:22:15&quot;</td><td>null</td><td>24.23</td><td>null</td><td>null</td><td>65</td><td>86</td><td>null</td><td>79.95</td><td>0.0</td><td>0.5</td><td>2.75</td><td>0.0</td><td>0.3</td><td>83.5</td><td>0.0</td></tr><tr><td>null</td><td>&quot;2020-07-19 13:02:00&quot;</td><td>&quot;2020-07-19 13:21:00&quot;</td><td>null</td><td>4.4</td><td>null</td><td>null</td><td>17</td><td>35</td><td>null</td><td>16.23</td><td>0.0</td><td>0.5</td><td>2.75</td><td>0.0</td><td>0.3</td><td>19.78</td><td>0.0</td></tr><tr><td>null</td><td>&quot;2020-07-19 13:32:00&quot;</td><td>&quot;2020-07-19 13:51:00&quot;</td><td>null</td><td>8.78</td><td>null</td><td>null</td><td>186</td><td>244</td><td>null</td><td>34.9</td><td>0.0</td><td>0.5</td><td>2.75</td><td>0.0</td><td>0.3</td><td>38.45</td><td>0.0</td></tr><tr><td>null</td><td>&quot;2020-07-19 13:28:00&quot;</td><td>&quot;2020-07-19 13:51:00&quot;</td><td>null</td><td>6.5</td><td>null</td><td>null</td><td>148</td><td>190</td><td>null</td><td>18.75</td><td>0.0</td><td>0.5</td><td>7.72</td><td>0.0</td><td>0.3</td><td>29.77</td><td>2.5</td></tr><tr><td>null</td><td>&quot;2020-07-19 13:31:23&quot;</td><td>&quot;2020-07-19 13:58:22&quot;</td><td>null</td><td>10.88</td><td>null</td><td>null</td><td>264</td><td>213</td><td>null</td><td>48.35</td><td>0.0</td><td>0.5</td><td>2.75</td><td>0.0</td><td>0.3</td><td>51.9</td><td>0.0</td></tr></tbody></table></div>"
      ],
      "text/plain": [
       "shape: (800_412, 18)\n",
       "┌──────────┬───────────┬───────────┬───────────┬───┬───────────┬───────────┬───────────┬───────────┐\n",
       "│ VendorID ┆ tpep_pick ┆ tpep_drop ┆ passenger ┆ … ┆ tolls_amo ┆ improveme ┆ total_amo ┆ congestio │\n",
       "│ ---      ┆ up_dateti ┆ off_datet ┆ _count    ┆   ┆ unt       ┆ nt_surcha ┆ unt       ┆ n_surchar │\n",
       "│ i64      ┆ me        ┆ ime       ┆ ---       ┆   ┆ ---       ┆ rge       ┆ ---       ┆ ge        │\n",
       "│          ┆ ---       ┆ ---       ┆ i64       ┆   ┆ f64       ┆ ---       ┆ f64       ┆ ---       │\n",
       "│          ┆ str       ┆ str       ┆           ┆   ┆           ┆ f64       ┆           ┆ f64       │\n",
       "╞══════════╪═══════════╪═══════════╪═══════════╪═══╪═══════════╪═══════════╪═══════════╪═══════════╡\n",
       "│ 1        ┆ 2020-07-0 ┆ 2020-07-0 ┆ 1         ┆ … ┆ 0.0       ┆ 0.3       ┆ 9.3       ┆ 0.0       │\n",
       "│          ┆ 1         ┆ 1         ┆           ┆   ┆           ┆           ┆           ┆           │\n",
       "│          ┆ 00:25:32  ┆ 00:33:39  ┆           ┆   ┆           ┆           ┆           ┆           │\n",
       "│ 1        ┆ 2020-07-0 ┆ 2020-07-0 ┆ 1         ┆ … ┆ 0.0       ┆ 0.3       ┆ 27.8      ┆ 0.0       │\n",
       "│          ┆ 1         ┆ 1         ┆           ┆   ┆           ┆           ┆           ┆           │\n",
       "│          ┆ 00:03:19  ┆ 00:25:43  ┆           ┆   ┆           ┆           ┆           ┆           │\n",
       "│ 2        ┆ 2020-07-0 ┆ 2020-07-0 ┆ 1         ┆ … ┆ 0.0       ┆ 0.3       ┆ 22.3      ┆ 2.5       │\n",
       "│          ┆ 1         ┆ 1         ┆           ┆   ┆           ┆           ┆           ┆           │\n",
       "│          ┆ 00:15:11  ┆ 00:29:24  ┆           ┆   ┆           ┆           ┆           ┆           │\n",
       "│ 2        ┆ 2020-07-0 ┆ 2020-07-0 ┆ 1         ┆ … ┆ 0.0       ┆ 0.3       ┆ 14.16     ┆ 2.5       │\n",
       "│          ┆ 1         ┆ 1         ┆           ┆   ┆           ┆           ┆           ┆           │\n",
       "│          ┆ 00:30:49  ┆ 00:38:26  ┆           ┆   ┆           ┆           ┆           ┆           │\n",
       "│ 2        ┆ 2020-07-0 ┆ 2020-07-0 ┆ 1         ┆ … ┆ 0.0       ┆ 0.3       ┆ 7.8       ┆ 0.0       │\n",
       "│          ┆ 1         ┆ 1         ┆           ┆   ┆           ┆           ┆           ┆           │\n",
       "│          ┆ 00:31:26  ┆ 00:38:02  ┆           ┆   ┆           ┆           ┆           ┆           │\n",
       "│ …        ┆ …         ┆ …         ┆ …         ┆ … ┆ …         ┆ …         ┆ …         ┆ …         │\n",
       "│ null     ┆ 2020-07-1 ┆ 2020-07-1 ┆ null      ┆ … ┆ 0.0       ┆ 0.3       ┆ 83.5      ┆ 0.0       │\n",
       "│          ┆ 9         ┆ 9         ┆           ┆   ┆           ┆           ┆           ┆           │\n",
       "│          ┆ 13:27:52  ┆ 14:22:15  ┆           ┆   ┆           ┆           ┆           ┆           │\n",
       "│ null     ┆ 2020-07-1 ┆ 2020-07-1 ┆ null      ┆ … ┆ 0.0       ┆ 0.3       ┆ 19.78     ┆ 0.0       │\n",
       "│          ┆ 9         ┆ 9         ┆           ┆   ┆           ┆           ┆           ┆           │\n",
       "│          ┆ 13:02:00  ┆ 13:21:00  ┆           ┆   ┆           ┆           ┆           ┆           │\n",
       "│ null     ┆ 2020-07-1 ┆ 2020-07-1 ┆ null      ┆ … ┆ 0.0       ┆ 0.3       ┆ 38.45     ┆ 0.0       │\n",
       "│          ┆ 9         ┆ 9         ┆           ┆   ┆           ┆           ┆           ┆           │\n",
       "│          ┆ 13:32:00  ┆ 13:51:00  ┆           ┆   ┆           ┆           ┆           ┆           │\n",
       "│ null     ┆ 2020-07-1 ┆ 2020-07-1 ┆ null      ┆ … ┆ 0.0       ┆ 0.3       ┆ 29.77     ┆ 2.5       │\n",
       "│          ┆ 9         ┆ 9         ┆           ┆   ┆           ┆           ┆           ┆           │\n",
       "│          ┆ 13:28:00  ┆ 13:51:00  ┆           ┆   ┆           ┆           ┆           ┆           │\n",
       "│ null     ┆ 2020-07-1 ┆ 2020-07-1 ┆ null      ┆ … ┆ 0.0       ┆ 0.3       ┆ 51.9      ┆ 0.0       │\n",
       "│          ┆ 9         ┆ 9         ┆           ┆   ┆           ┆           ┆           ┆           │\n",
       "│          ┆ 13:31:23  ┆ 13:58:22  ┆           ┆   ┆           ┆           ┆           ┆           │\n",
       "└──────────┴───────────┴───────────┴───────────┴───┴───────────┴───────────┴───────────┴───────────┘"
      ]
     },
     "execution_count": 177,
     "metadata": {},
     "output_type": "execute_result"
    }
   ],
   "source": [
    "df"
   ]
  },
  {
   "cell_type": "code",
   "execution_count": null,
   "metadata": {},
   "outputs": [],
   "source": [
    "(\n",
    "    df\n",
    "    .pivot(on='VendorID',\n",
    "           index="
   ]
  }
 ],
 "metadata": {
  "kernelspec": {
   "display_name": "Python 3 (ipykernel)",
   "language": "python",
   "name": "python3"
  },
  "language_info": {
   "codemirror_mode": {
    "name": "ipython",
    "version": 3
   },
   "file_extension": ".py",
   "mimetype": "text/x-python",
   "name": "python",
   "nbconvert_exporter": "python",
   "pygments_lexer": "ipython3",
   "version": "3.12.5"
  }
 },
 "nbformat": 4,
 "nbformat_minor": 4
}
